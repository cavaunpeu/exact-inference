{
 "cells": [
  {
   "cell_type": "code",
   "execution_count": 1,
   "metadata": {},
   "outputs": [],
   "source": [
    "import sympy\n",
    "from sympy import Symbol, Matrix"
   ]
  },
  {
   "cell_type": "code",
   "execution_count": 189,
   "metadata": {},
   "outputs": [],
   "source": [
    "class ExpFamDensity:\n",
    "    \n",
    "    def __init__(self):\n",
    "        self._test()\n",
    "        self.wrt = self.x\n",
    "        self.params = {s for s in self.symbols if s != self.x}\n",
    "    \n",
    "    @property\n",
    "    def expr(self):\n",
    "        expr, = self.phi.T * self.u\n",
    "        return expr + self.fg\n",
    "    \n",
    "    @property\n",
    "    def symbol_names(self):\n",
    "        return {s.name for s in self.symbols}\n",
    "        \n",
    "    @property\n",
    "    def u(self):\n",
    "        return self._u[self.wrt]\n",
    "        \n",
    "    @property\n",
    "    def phi(self):\n",
    "        return self._phi[self.wrt]\n",
    "        \n",
    "    @property\n",
    "    def fg(self):\n",
    "        return self._fg[self.wrt]\n",
    "    \n",
    "    def parameterize_with_respect_to(self, symbol):\n",
    "        if symbol not in self.symbols:\n",
    "            raise Exception(f'Must parameterize w.r.t. one of the following an object of type `sympy.Symbol`s: {symbol_names}')\n",
    "        self.wrt = symbol\n",
    "        \n",
    "    def copy(self):\n",
    "        raise NotImplementedError\n",
    "        \n",
    "    def _test(self):\n",
    "        exprs = []\n",
    "        for s in self.symbols:\n",
    "            self.parameterize_with_respect_to(s)\n",
    "            exprs.append(self.expr)\n",
    "        assert all([sympy.simplify(e - exprs[0]) == 0 for e in exprs])\n",
    "    \n",
    "    \n",
    "class LogUnivariateGaussian(ExpFamDensity):\n",
    "    \n",
    "    x = Symbol('x')\n",
    "    mu = Symbol('mu')\n",
    "    gamma = Symbol('gamma')\n",
    "    symbols = [x, mu, gamma]\n",
    "    \n",
    "    _u = {\n",
    "        x: Matrix([x, x**2]),\n",
    "        mu: Matrix([mu, mu**2]),\n",
    "        gamma: Matrix([gamma, sympy.log(gamma)])\n",
    "    }\n",
    "    _phi = {\n",
    "        x: Matrix([gamma * mu, -.5 * gamma]),\n",
    "        mu: Matrix([gamma * x, -.5 * gamma]),\n",
    "        gamma: Matrix([(mu * x) - (.5 * x**2) - (.5 * mu**2), .5])\n",
    "    }\n",
    "    _fg = {\n",
    "        x: .5 * (sympy.log(gamma) - gamma * mu**2 - sympy.log(2 * sympy.pi)),\n",
    "        mu: .5 * (sympy.log(gamma) - gamma * x**2 - sympy.log(2 * sympy.pi)),\n",
    "        gamma: -.5 * sympy.log(2 * sympy.pi)\n",
    "    }\n",
    "    \n",
    "    def __init__(self, mu, gamma):\n",
    "        super().__init__()\n",
    "        self.mu = mu\n",
    "        self.gamma = gamma\n",
    "        \n",
    "    def copy(self):\n",
    "        return LogUnivariateGaussian(mu=self.mu, gamma=self.gamma)\n",
    "    \n",
    "    def __repr__(self):\n",
    "        return f'LogUnivariateGaussian(mu={self.mu}, gamma={self.gamma})'\n",
    "        \n",
    "        \n",
    "class LogGamma(ExpFamDensity):\n",
    "    \n",
    "    x = Symbol('x')\n",
    "    alpha = Symbol('alpha')\n",
    "    beta = Symbol('beta')\n",
    "    symbols = [x, alpha, beta]\n",
    "    \n",
    "    _u = {\n",
    "        x: Matrix([x, sympy.log(x)]),\n",
    "        alpha: Matrix([alpha, -sympy.log(sympy.gamma(alpha))]),\n",
    "        beta: Matrix([beta, sympy.log(beta)])\n",
    "    }\n",
    "    _phi = {\n",
    "        x: Matrix([-beta, alpha]),\n",
    "        alpha: Matrix([sympy.log(x) + sympy.log(beta), 1]),\n",
    "        beta: Matrix([-x, alpha])\n",
    "    }\n",
    "    _fg = {\n",
    "        x: alpha * sympy.log(beta) - sympy.log(sympy.gamma(alpha)) + 1 / x,\n",
    "        alpha: -beta * x + 1 / x,\n",
    "        beta: alpha * sympy.log(x) - sympy.log(sympy.gamma(alpha)) + 1 / x\n",
    "    }\n",
    "    \n",
    "    def __init__(self, alpha, beta):\n",
    "        super().__init__()\n",
    "        self.alpha = alpha\n",
    "        self.beta = beta\n",
    "        \n",
    "    def copy(self):\n",
    "        return LogGamma(alpha=self.alpha, beta=self.beta)\n",
    "    \n",
    "    def __repr__(self):\n",
    "        return f'LogGamma(alpha={self.alpha}, beta={self.beta})'"
   ]
  },
  {
   "cell_type": "raw",
   "metadata": {},
   "source": [
    "# Pseudocode\n",
    "\n",
    "# graph: u -> X <- gamma\n",
    "\n",
    "to update u, we need from its children (which here, is just X):\n",
    "- expectation of natural parameter vector of \"X, parameterized w.r.t. u\"\n",
    "\n",
    "expectation of natural parameter vector is defined as a function of the expectation of the natural statistic vector of X, and that of the parents of X (w.r.t. those parents)\n",
    "- so, to X, we pass these expectations from its parents"
   ]
  },
  {
   "cell_type": "code",
   "execution_count": 190,
   "metadata": {},
   "outputs": [],
   "source": [
    "class Node:\n",
    "    \n",
    "    def __init__(self, density: ExpFamDensity, observed: tuple = None, kind: str = 'node'):\n",
    "        self.density = density\n",
    "        self.observed = observed\n",
    "        self.parents = []\n",
    "        self.children = []\n",
    "        \n",
    "    def add_parents(self, *parents):\n",
    "        self.parents.extend(parents)\n",
    "        \n",
    "    def add_children(self, *children):\n",
    "        self.children.extend(children)\n",
    "        \n",
    "    def copy(self):\n",
    "        n = Node(density=self.density.copy(), kind='variational_node')\n",
    "        n.add_parents(*self.parents)\n",
    "        n.add_children(*self.children)\n",
    "        return n\n",
    "    \n",
    "    def __repr__(self):\n",
    "        return f\"{self.name}: {self.density}\"\n",
    "        \n",
    "\n",
    "class Graph:\n",
    "    \n",
    "    def __init__(self, nodes: dict):\n",
    "        self.nodes = {name: node for name, node in nodes.items()}\n",
    "        self.Q = {name: node.copy() for name, node in nodes.items()}"
   ]
  },
  {
   "cell_type": "code",
   "execution_count": 191,
   "metadata": {},
   "outputs": [
    {
     "data": {
      "text/plain": [
       "[x, mu, gamma]"
      ]
     },
     "execution_count": 191,
     "metadata": {},
     "output_type": "execute_result"
    }
   ],
   "source": [
    "x.density.symbols"
   ]
  },
  {
   "cell_type": "code",
   "execution_count": 192,
   "metadata": {},
   "outputs": [],
   "source": [
    "# Instantiate nodes\n",
    "x = Node(density=LogUnivariateGaussian(0, 1), observed=(1, 1.5, -.5, .25))\n",
    "gamma = Node(density=LogGamma(0, 1))\n",
    "mu = Node(density=LogUnivariateGaussian(0, 1))\n",
    "\n",
    "# Add parents, children\n",
    "x.add_parents(mu, gamma)\n",
    "gamma.add_children(x)\n",
    "mu.add_children(x)\n",
    "\n",
    "# Build graph\n",
    "g = Graph(nodes={'x': x, 'gamma': gamma, 'mu': mu})"
   ]
  },
  {
   "cell_type": "raw",
   "metadata": {},
   "source": [
    "# things to do\n",
    "- ensure that nodes are limited to the right number of parent nodes (as per the type of node in question)\n",
    "- ensure that parent/child nodes are appropriately named, i.e. enforce a coupling between \"things w.r.t. which you can parameterize a given node\", and the names of the nodes you're passing as parents/children"
   ]
  },
  {
   "cell_type": "code",
   "execution_count": 193,
   "metadata": {},
   "outputs": [],
   "source": [
    "# Update mu"
   ]
  },
  {
   "cell_type": "code",
   "execution_count": 194,
   "metadata": {},
   "outputs": [
    {
     "data": {
      "text/plain": [
       "LogUnivariateGaussian(mu=0, gamma=1)"
      ]
     },
     "execution_count": 194,
     "metadata": {},
     "output_type": "execute_result"
    }
   ],
   "source": [
    "g.nodes['mu'].children[0].density"
   ]
  },
  {
   "cell_type": "code",
   "execution_count": 195,
   "metadata": {},
   "outputs": [
    {
     "data": {
      "text/plain": [
       "{gamma, mu}"
      ]
     },
     "execution_count": 195,
     "metadata": {},
     "output_type": "execute_result"
    }
   ],
   "source": [
    "g.nodes['mu'].density.params"
   ]
  },
  {
   "cell_type": "code",
   "execution_count": 196,
   "metadata": {},
   "outputs": [
    {
     "data": {
      "text/plain": [
       "x"
      ]
     },
     "execution_count": 196,
     "metadata": {},
     "output_type": "execute_result"
    }
   ],
   "source": [
    "g.nodes['mu'].children[0].density.x"
   ]
  },
  {
   "cell_type": "code",
   "execution_count": 96,
   "metadata": {},
   "outputs": [],
   "source": [
    "g.nodes['mu'].children[0].density.parameterize_with_respect_to('mu')"
   ]
  },
  {
   "cell_type": "code",
   "execution_count": 109,
   "metadata": {},
   "outputs": [
    {
     "data": {
      "text/plain": [
       "{'gamma', 'mu'}"
      ]
     },
     "execution_count": 109,
     "metadata": {},
     "output_type": "execute_result"
    }
   ],
   "source": [
    "{s.name for s in g.nodes['mu'].children[0].density.phi.free_symbols}"
   ]
  },
  {
   "cell_type": "code",
   "execution_count": null,
   "metadata": {},
   "outputs": [],
   "source": []
  }
 ],
 "metadata": {
  "kernelspec": {
   "display_name": "Python 3",
   "language": "python",
   "name": "python3"
  },
  "language_info": {
   "codemirror_mode": {
    "name": "ipython",
    "version": 3
   },
   "file_extension": ".py",
   "mimetype": "text/x-python",
   "name": "python",
   "nbconvert_exporter": "python",
   "pygments_lexer": "ipython3",
   "version": "3.6.6"
  }
 },
 "nbformat": 4,
 "nbformat_minor": 2
}
