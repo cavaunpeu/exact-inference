{
 "cells": [
  {
   "cell_type": "code",
   "execution_count": 19,
   "metadata": {},
   "outputs": [],
   "source": [
    "import sympy\n",
    "from sympy import Symbol, Matrix, Function, diff"
   ]
  },
  {
   "cell_type": "code",
   "execution_count": 2,
   "metadata": {},
   "outputs": [],
   "source": [
    "VALID_SYMBOLS = {\n",
    "    'x': Symbol('x'),\n",
    "    'alpha': Symbol('alpha'),\n",
    "    'beta': Symbol('beta'),\n",
    "    'mu': Symbol('mu'),\n",
    "    'gamma': Symbol('gamma'),\n",
    "}\n",
    "\n",
    "\n",
    "class ExpFamDensity:\n",
    "    \n",
    "    N_MOMENTS = 2\n",
    "    \n",
    "    def __init__(self):\n",
    "        self._test()\n",
    "        assert self.symbols.issubset(VALID_SYMBOLS.values())\n",
    "        self.wrt = self.x\n",
    "        self.params = {s for s in self.symbols if s != self.x}\n",
    "    \n",
    "    @property\n",
    "    def expr(self):\n",
    "        expr, = self.phi.T * self.u\n",
    "        return expr + self.fg\n",
    "        \n",
    "    @property\n",
    "    def u(self):\n",
    "        return self._u[self.wrt]\n",
    "        \n",
    "    @property\n",
    "    def phi(self):\n",
    "        return self._phi[self.wrt]\n",
    "        \n",
    "    @property\n",
    "    def fg(self):\n",
    "        return self._fg[self.wrt]\n",
    "    \n",
    "    @property\n",
    "    def moments(self):\n",
    "        e = Function('Expectation')\n",
    "        return [e(pow(self.x, k)) for k in range(1, self.N_MOMENTS + 1)]  # temporary! fill me in!\n",
    "    \n",
    "    def parameterize_with_respect_to(self, symbol):\n",
    "        if symbol not in self.symbols:\n",
    "            raise Exception(f'Must parameterize w.r.t. one of the following: {self.symbols}')\n",
    "        self.wrt = symbol\n",
    "        \n",
    "    def copy(self):\n",
    "        raise NotImplementedError\n",
    "        \n",
    "    def _test(self):\n",
    "        exprs = []\n",
    "        for s in self.symbols:\n",
    "            self.parameterize_with_respect_to(s)\n",
    "            exprs.append(self.expr)\n",
    "        assert all([sympy.simplify(e - exprs[0]) == 0 for e in exprs])\n",
    "    \n",
    "    \n",
    "class LogUnivariateGaussian(ExpFamDensity):\n",
    "    \n",
    "    x = VALID_SYMBOLS['x']\n",
    "    mu = VALID_SYMBOLS['mu']\n",
    "    gamma = VALID_SYMBOLS['gamma']\n",
    "    symbols = {x, mu, gamma}\n",
    "    \n",
    "    _u = {\n",
    "        x: Matrix([x, x**2]),\n",
    "        mu: Matrix([mu, mu**2]),\n",
    "        gamma: Matrix([gamma, sympy.log(gamma)])\n",
    "    }\n",
    "    _phi = {\n",
    "        x: Matrix([gamma * mu, -.5 * gamma]),\n",
    "        mu: Matrix([gamma * x, -.5 * gamma]),\n",
    "        gamma: Matrix([(mu * x) - (.5 * x**2) - (.5 * mu**2), .5])\n",
    "    }\n",
    "    _fg = {\n",
    "        x: .5 * (sympy.log(gamma) - gamma * mu**2 - sympy.log(2 * sympy.pi)),\n",
    "        mu: .5 * (sympy.log(gamma) - gamma * x**2 - sympy.log(2 * sympy.pi)),\n",
    "        gamma: -.5 * sympy.log(2 * sympy.pi)\n",
    "    }\n",
    "    \n",
    "    def __init__(self, mu, gamma):\n",
    "        super().__init__()\n",
    "        self._mu = mu\n",
    "        self._gamma = gamma\n",
    "        \n",
    "    def copy(self):\n",
    "        return LogUnivariateGaussian(mu=self.mu, gamma=self.gamma)\n",
    "    \n",
    "    def __repr__(self):\n",
    "        return f'LogUnivariateGaussian(mu={self.mu}, gamma={self.gamma})'\n",
    "        \n",
    "        \n",
    "class LogGamma(ExpFamDensity):\n",
    "    \n",
    "    x = VALID_SYMBOLS['x']\n",
    "    alpha = VALID_SYMBOLS['alpha']\n",
    "    beta = VALID_SYMBOLS['beta']\n",
    "    symbols = {x, alpha, beta}\n",
    "    \n",
    "    _u = {\n",
    "        x: Matrix([x, sympy.log(x)]),\n",
    "        alpha: Matrix([alpha, -sympy.log(sympy.gamma(alpha))]),\n",
    "        beta: Matrix([beta, sympy.log(beta)])\n",
    "    }\n",
    "    _phi = {\n",
    "        x: Matrix([-beta, alpha]),\n",
    "        alpha: Matrix([sympy.log(x) + sympy.log(beta), 1]),\n",
    "        beta: Matrix([-x, alpha])\n",
    "    }\n",
    "    _fg = {\n",
    "        x: alpha * sympy.log(beta) - sympy.log(sympy.gamma(alpha)) + 1 / x,\n",
    "        alpha: -beta * x + 1 / x,\n",
    "        beta: alpha * sympy.log(x) - sympy.log(sympy.gamma(alpha)) + 1 / x\n",
    "    }\n",
    "    \n",
    "    def __init__(self, alpha, beta):\n",
    "        super().__init__()\n",
    "        self._alpha = alpha\n",
    "        self._beta = beta\n",
    "        \n",
    "    def copy(self):\n",
    "        return LogGamma(alpha=self.alpha, beta=self.beta)\n",
    "    \n",
    "    def __repr__(self):\n",
    "        return f'LogGamma(alpha={self.alpha}, beta={self.beta})'"
   ]
  },
  {
   "cell_type": "raw",
   "metadata": {},
   "source": [
    "# Pseudocode\n",
    "\n",
    "# graph: u -> X <- gamma\n",
    "\n",
    "to update u, we need from its children (which here, is just X):\n",
    "- expectation of natural parameter vector of \"X, parameterized w.r.t. u\"\n",
    "\n",
    "expectation of natural parameter vector is defined as a function of the expectation of the natural statistic vector of X, and that of the parents of X (w.r.t. those parents)\n",
    "- so, to X, we pass these expectations from its parents"
   ]
  },
  {
   "cell_type": "code",
   "execution_count": 3,
   "metadata": {},
   "outputs": [],
   "source": [
    "class Node:\n",
    "    \n",
    "    def __init__(self, name: str, density: ExpFamDensity, observed: tuple = None, kind: str = 'node'):\n",
    "        self.name = name\n",
    "        self.density = density\n",
    "        self.observed = observed\n",
    "        self.parents = {}\n",
    "        self.children = {}\n",
    "        \n",
    "    def add_child(self, param, child):\n",
    "        self.children[param] = child\n",
    "        \n",
    "    def add_parent(self, param, parent):\n",
    "        if param not in self.density.params:\n",
    "            raise Exception(f'Parent must be set for one of the following: {self.density.params}')\n",
    "        if not isinstance(parent, Node):\n",
    "            raise Exception(f'Parent must be of type `Node`')\n",
    "        self.parents[param] = parent\n",
    "        parent.add_child(param, self)\n",
    "        \n",
    "    def copy(self):\n",
    "        n = Node(name=self.name, density=self.density.copy(), kind='variational_node')\n",
    "        for param, parent in self.parents.items():\n",
    "            n.add_parent(param, parent)\n",
    "        return n\n",
    "    \n",
    "    @property\n",
    "    def parent_to_param(self):\n",
    "        return {v: k for k, v in self.parents.items()}\n",
    "    \n",
    "    def __repr__(self):\n",
    "        return f'{self.density} (name: {self.name})'\n",
    "        \n",
    "\n",
    "class Graph:\n",
    "    \n",
    "    def __init__(self, nodes: set):\n",
    "        self.nodes = {node.name: node for node in nodes}\n",
    "        self.Q = {node.name: node.copy() for node in nodes}"
   ]
  },
  {
   "cell_type": "code",
   "execution_count": 4,
   "metadata": {},
   "outputs": [],
   "source": [
    "# Instantiate nodes\n",
    "x = Node(name='observed', density=LogUnivariateGaussian(0, 1), observed=(1, 1.5, -.5, .25))\n",
    "gamma = Node(name='gamma', density=LogGamma(0, 1))\n",
    "mu = Node(name='mu', density=LogUnivariateGaussian(0, 1))\n",
    "\n",
    "# Add parents, children\n",
    "x.add_parent(param=x.density.mu, parent=mu)\n",
    "x.add_parent(param=x.density.gamma, parent=gamma)\n",
    "\n",
    "# Build graph\n",
    "g = Graph(nodes={x, gamma, mu})"
   ]
  },
  {
   "cell_type": "code",
   "execution_count": 5,
   "metadata": {},
   "outputs": [],
   "source": [
    "# Update mu"
   ]
  },
  {
   "cell_type": "code",
   "execution_count": 20,
   "metadata": {},
   "outputs": [],
   "source": [
    "for parent, child_node in g.nodes['mu'].children.items():\n",
    "    child_node.density.parameterize_with_respect_to(parent)\n",
    "    co_parents = {s for s in child_node.density.symbols if s not in {child_node.density.x, parent}}\n",
    "    assert child_node.density.phi.free_symbols - {child_node.density.x} == co_parents\n",
    "    child_node.density.parameterize_with_respect_to(child_node.density.gamma)\n",
    "    moments = {}\n",
    "    for expr in child_node.density.phi.values():\n",
    "        moments[expr] = []\n",
    "        for s in expr.free_symbols:  # it's something specific to the child node, its params or something\n",
    "            for arg in expr.args:\n",
    "                d = arg.copy()\n",
    "                count = 0\n",
    "                while d != 0:\n",
    "                    d = diff(d, s)\n",
    "                    count += 1\n",
    "                if count > 1:\n",
    "                    moments[expr].append((s, count - 1))\n",
    "    for cp in co_parents:\n",
    "        cp_node = child_node.parents[cp]"
   ]
  },
  {
   "cell_type": "code",
   "execution_count": 21,
   "metadata": {},
   "outputs": [
    {
     "data": {
      "text/plain": [
       "{-0.5*mu**2 + mu*x - 0.5*x**2: [(x, 2), (x, 1), (mu, 2), (mu, 1)],\n",
       " 0.500000000000000: []}"
      ]
     },
     "execution_count": 21,
     "metadata": {},
     "output_type": "execute_result"
    }
   ],
   "source": [
    "moments"
   ]
  },
  {
   "cell_type": "code",
   "execution_count": 28,
   "metadata": {},
   "outputs": [
    {
     "data": {
      "text/plain": [
       "[Expectation(x), Expectation(x**2)]"
      ]
     },
     "execution_count": 28,
     "metadata": {},
     "output_type": "execute_result"
    }
   ],
   "source": [
    "cp_node.density.moments"
   ]
  },
  {
   "cell_type": "code",
   "execution_count": 8,
   "metadata": {},
   "outputs": [
    {
     "data": {
      "text/plain": [
       "Matrix([\n",
       "[   gamma*x],\n",
       "[-0.5*gamma]])"
      ]
     },
     "execution_count": 8,
     "metadata": {},
     "output_type": "execute_result"
    }
   ],
   "source": [
    "child_node.density.phi"
   ]
  },
  {
   "cell_type": "raw",
   "metadata": {},
   "source": [
    "# things to do\n",
    "- replace each variable with its expectation w.r.t. the corresponding distribution Q (or with just the value, if observed)"
   ]
  }
 ],
 "metadata": {
  "kernelspec": {
   "display_name": "Python 3",
   "language": "python",
   "name": "python3"
  },
  "language_info": {
   "codemirror_mode": {
    "name": "ipython",
    "version": 3
   },
   "file_extension": ".py",
   "mimetype": "text/x-python",
   "name": "python",
   "nbconvert_exporter": "python",
   "pygments_lexer": "ipython3",
   "version": "3.6.6"
  }
 },
 "nbformat": 4,
 "nbformat_minor": 2
}
