{
 "cells": [
  {
   "cell_type": "code",
   "execution_count": 1,
   "metadata": {},
   "outputs": [],
   "source": [
    "import sympy\n",
    "from sympy import Symbol, Matrix"
   ]
  },
  {
   "cell_type": "code",
   "execution_count": 56,
   "metadata": {},
   "outputs": [
    {
     "ename": "NameError",
     "evalue": "name 'self' is not defined",
     "output_type": "error",
     "traceback": [
      "\u001b[0;31m---------------------------------------------------------------------------\u001b[0m",
      "\u001b[0;31mNameError\u001b[0m                                 Traceback (most recent call last)",
      "\u001b[0;32m<ipython-input-56-88ad13ed0177>\u001b[0m in \u001b[0;36m<module>\u001b[0;34m\u001b[0m\n\u001b[1;32m     49\u001b[0m \u001b[0;34m\u001b[0m\u001b[0m\n\u001b[1;32m     50\u001b[0m \u001b[0;34m\u001b[0m\u001b[0m\n\u001b[0;32m---> 51\u001b[0;31m \u001b[0;32mclass\u001b[0m \u001b[0mLogUnivariateGaussian\u001b[0m\u001b[0;34m(\u001b[0m\u001b[0mExpFamDensity\u001b[0m\u001b[0;34m)\u001b[0m\u001b[0;34m:\u001b[0m\u001b[0;34m\u001b[0m\u001b[0m\n\u001b[0m\u001b[1;32m     52\u001b[0m \u001b[0;34m\u001b[0m\u001b[0m\n\u001b[1;32m     53\u001b[0m     \u001b[0mx\u001b[0m \u001b[0;34m=\u001b[0m \u001b[0mself\u001b[0m\u001b[0;34m.\u001b[0m\u001b[0mx\u001b[0m\u001b[0;34m\u001b[0m\u001b[0m\n",
      "\u001b[0;32m<ipython-input-56-88ad13ed0177>\u001b[0m in \u001b[0;36mLogUnivariateGaussian\u001b[0;34m()\u001b[0m\n\u001b[1;32m     51\u001b[0m \u001b[0;32mclass\u001b[0m \u001b[0mLogUnivariateGaussian\u001b[0m\u001b[0;34m(\u001b[0m\u001b[0mExpFamDensity\u001b[0m\u001b[0;34m)\u001b[0m\u001b[0;34m:\u001b[0m\u001b[0;34m\u001b[0m\u001b[0m\n\u001b[1;32m     52\u001b[0m \u001b[0;34m\u001b[0m\u001b[0m\n\u001b[0;32m---> 53\u001b[0;31m     \u001b[0mx\u001b[0m \u001b[0;34m=\u001b[0m \u001b[0mself\u001b[0m\u001b[0;34m.\u001b[0m\u001b[0mx\u001b[0m\u001b[0;34m\u001b[0m\u001b[0m\n\u001b[0m\u001b[1;32m     54\u001b[0m     \u001b[0mmu\u001b[0m \u001b[0;34m=\u001b[0m \u001b[0mself\u001b[0m\u001b[0;34m.\u001b[0m\u001b[0mmu\u001b[0m\u001b[0;34m\u001b[0m\u001b[0m\n\u001b[1;32m     55\u001b[0m     \u001b[0mgamma\u001b[0m \u001b[0;34m=\u001b[0m \u001b[0mself\u001b[0m\u001b[0;34m.\u001b[0m\u001b[0mgamma\u001b[0m\u001b[0;34m\u001b[0m\u001b[0m\n",
      "\u001b[0;31mNameError\u001b[0m: name 'self' is not defined"
     ]
    }
   ],
   "source": [
    "VALID_SYMBOLS = {\n",
    "    Symbol('x'),\n",
    "    Symbol('alpha'),\n",
    "    Symbol('beta'),\n",
    "    Symbol('mu'),\n",
    "    Symbol('gamma')\n",
    "}\n",
    "\n",
    "\n",
    "class ExpFamDensity:\n",
    "    \n",
    "    def __init__(self):\n",
    "        self._test()\n",
    "        assert self.symbols.issubset(VALID_SYMBOLS)\n",
    "        self.wrt = self.x\n",
    "        self.params = {s for s in self.symbols.values() if s != self.x}\n",
    "    \n",
    "    @property\n",
    "    def expr(self):\n",
    "        expr, = self.phi.T * self.u\n",
    "        return expr + self.fg\n",
    "        \n",
    "    @property\n",
    "    def u(self):\n",
    "        return self._u[self.wrt]\n",
    "        \n",
    "    @property\n",
    "    def phi(self):\n",
    "        return self._phi[self.wrt]\n",
    "        \n",
    "    @property\n",
    "    def fg(self):\n",
    "        return self._fg[self.wrt]\n",
    "    \n",
    "    def parameterize_with_respect_to(self, symbol):\n",
    "        if symbol not in self.symbols.values():\n",
    "            raise Exception(f'Must parameterize w.r.t. one of the following: {self.symbols.values()}')\n",
    "        self.wrt = symbol\n",
    "        \n",
    "    def copy(self):\n",
    "        raise NotImplementedError\n",
    "        \n",
    "    def _test(self):\n",
    "        exprs = []\n",
    "        for s in self.symbols.values():\n",
    "            self.parameterize_with_respect_to(s)\n",
    "            exprs.append(self.expr)\n",
    "        assert all([sympy.simplify(e - exprs[0]) == 0 for e in exprs])\n",
    "    \n",
    "    \n",
    "class LogUnivariateGaussian(ExpFamDensity):\n",
    "    \n",
    "    x = self.x\n",
    "    mu = self.mu\n",
    "    gamma = self.gamma\n",
    "    symbols = {s.name: s for s in (x, mu, gamma)}\n",
    "    \n",
    "    _u = {\n",
    "        x: Matrix([x, x**2]),\n",
    "        mu: Matrix([mu, mu**2]),\n",
    "        gamma: Matrix([gamma, sympy.log(gamma)])\n",
    "    }\n",
    "    _phi = {\n",
    "        x: Matrix([gamma * mu, -.5 * gamma]),\n",
    "        mu: Matrix([gamma * x, -.5 * gamma]),\n",
    "        gamma: Matrix([(mu * x) - (.5 * x**2) - (.5 * mu**2), .5])\n",
    "    }\n",
    "    _fg = {\n",
    "        x: .5 * (sympy.log(gamma) - gamma * mu**2 - sympy.log(2 * sympy.pi)),\n",
    "        mu: .5 * (sympy.log(gamma) - gamma * x**2 - sympy.log(2 * sympy.pi)),\n",
    "        gamma: -.5 * sympy.log(2 * sympy.pi)\n",
    "    }\n",
    "    \n",
    "    def __init__(self, mu, gamma):\n",
    "        super().__init__()\n",
    "        self._mu = mu\n",
    "        self._gamma = gamma\n",
    "        \n",
    "    def copy(self):\n",
    "        return LogUnivariateGaussian(mu=self.mu, gamma=self.gamma)\n",
    "    \n",
    "    def __repr__(self):\n",
    "        return f'LogUnivariateGaussian(mu={self.mu}, gamma={self.gamma})'\n",
    "        \n",
    "        \n",
    "class LogGamma(ExpFamDensity):\n",
    "    \n",
    "    x = self.x\n",
    "    alpha = self.alpha\n",
    "    beta = self.beta\n",
    "    symbols = {s.name: s for s in (x, alpha, beta)}\n",
    "    \n",
    "    _u = {\n",
    "        x: Matrix([x, sympy.log(x)]),\n",
    "        alpha: Matrix([alpha, -sympy.log(sympy.gamma(alpha))]),\n",
    "        beta: Matrix([beta, sympy.log(beta)])\n",
    "    }\n",
    "    _phi = {\n",
    "        x: Matrix([-beta, alpha]),\n",
    "        alpha: Matrix([sympy.log(x) + sympy.log(beta), 1]),\n",
    "        beta: Matrix([-x, alpha])\n",
    "    }\n",
    "    _fg = {\n",
    "        x: alpha * sympy.log(beta) - sympy.log(sympy.gamma(alpha)) + 1 / x,\n",
    "        alpha: -beta * x + 1 / x,\n",
    "        beta: alpha * sympy.log(x) - sympy.log(sympy.gamma(alpha)) + 1 / x\n",
    "    }\n",
    "    \n",
    "    def __init__(self, alpha, beta):\n",
    "        super().__init__()\n",
    "        self._alpha = alpha\n",
    "        self._beta = beta\n",
    "        \n",
    "    def copy(self):\n",
    "        return LogGamma(alpha=self.alpha, beta=self.beta)\n",
    "    \n",
    "    def __repr__(self):\n",
    "        return f'LogGamma(alpha={self.alpha}, beta={self.beta})'"
   ]
  },
  {
   "cell_type": "raw",
   "metadata": {},
   "source": [
    "# Pseudocode\n",
    "\n",
    "# graph: u -> X <- gamma\n",
    "\n",
    "to update u, we need from its children (which here, is just X):\n",
    "- expectation of natural parameter vector of \"X, parameterized w.r.t. u\"\n",
    "\n",
    "expectation of natural parameter vector is defined as a function of the expectation of the natural statistic vector of X, and that of the parents of X (w.r.t. those parents)\n",
    "- so, to X, we pass these expectations from its parents"
   ]
  },
  {
   "cell_type": "code",
   "execution_count": 42,
   "metadata": {},
   "outputs": [],
   "source": [
    "class Node:\n",
    "    \n",
    "    def __init__(self, name: str, density: ExpFamDensity, observed: tuple = None, kind: str = 'node'):\n",
    "        self.name = name\n",
    "        self.density = density\n",
    "        self.observed = observed\n",
    "        self.parents = {}\n",
    "        self.children = {}\n",
    "        \n",
    "    def add_child(self, param, child):\n",
    "        self.children[param] = child\n",
    "        \n",
    "    def add_parent(self, param, parent):\n",
    "        if param not in self.density.params:\n",
    "            raise Exception(f'Parent must be set for one of the following: {self.density.params}')\n",
    "        if not isinstance(parent, Node):\n",
    "            raise Exception(f'Parent must be of type `Node`')\n",
    "        self.parents[param] = parent\n",
    "        parent.add_child(param, self)\n",
    "        \n",
    "    def copy(self):\n",
    "        n = Node(name=self.name, density=self.density.copy(), kind='variational_node')\n",
    "        for param, parent in self.parents.items():\n",
    "            n.add_parent(param, parent)\n",
    "        return n\n",
    "    \n",
    "    @property\n",
    "    def parent_to_param(self):\n",
    "        return {v: k for k, v in self.parents.items()}\n",
    "    \n",
    "    def __repr__(self):\n",
    "        return f'{self.density} (name: {self.name})'\n",
    "        \n",
    "\n",
    "class Graph:\n",
    "    \n",
    "    def __init__(self, nodes: set):\n",
    "        self.nodes = {node.name: node for node in nodes}\n",
    "        self.Q = {node.name: node.copy() for node in nodes}"
   ]
  },
  {
   "cell_type": "code",
   "execution_count": 43,
   "metadata": {},
   "outputs": [],
   "source": [
    "# Instantiate nodes\n",
    "x = Node(name='observed', density=LogUnivariateGaussian(0, 1), observed=(1, 1.5, -.5, .25))\n",
    "gamma = Node(name='gamma', density=LogGamma(0, 1))\n",
    "mu = Node(name='mu', density=LogUnivariateGaussian(0, 1))\n",
    "\n",
    "# Add parents, children\n",
    "x.add_parent(param=x.density.mu, parent=mu)\n",
    "x.add_parent(param=x.density.gamma, parent=gamma)\n",
    "\n",
    "# Build graph\n",
    "g = Graph(nodes={x, gamma, mu})"
   ]
  },
  {
   "cell_type": "code",
   "execution_count": 44,
   "metadata": {},
   "outputs": [],
   "source": [
    "# Update mu"
   ]
  },
  {
   "cell_type": "code",
   "execution_count": 45,
   "metadata": {},
   "outputs": [],
   "source": [
    "for param, child in g.nodes['mu'].children.items():\n",
    "    child.density.parameterize_with_respect_to(param)"
   ]
  },
  {
   "cell_type": "code",
   "execution_count": 47,
   "metadata": {},
   "outputs": [
    {
     "data": {
      "text/plain": [
       "Matrix([\n",
       "[   gamma*x],\n",
       "[-0.5*gamma]])"
      ]
     },
     "execution_count": 47,
     "metadata": {},
     "output_type": "execute_result"
    }
   ],
   "source": [
    "child.density.phi"
   ]
  },
  {
   "cell_type": "code",
   "execution_count": 48,
   "metadata": {},
   "outputs": [
    {
     "data": {
      "text/plain": [
       "{gamma, x}"
      ]
     },
     "execution_count": 48,
     "metadata": {},
     "output_type": "execute_result"
    }
   ],
   "source": [
    "child.density.phi.free_symbols"
   ]
  },
  {
   "cell_type": "raw",
   "metadata": {},
   "source": [
    "# things to do\n",
    "- replace each variable with its expectation w.r.t. the corresponding distribution Q (or with just the value, if observed)"
   ]
  },
  {
   "cell_type": "code",
   "execution_count": 49,
   "metadata": {},
   "outputs": [
    {
     "data": {
      "text/plain": [
       "x"
      ]
     },
     "execution_count": 49,
     "metadata": {},
     "output_type": "execute_result"
    }
   ],
   "source": [
    "child.density.x"
   ]
  },
  {
   "cell_type": "code",
   "execution_count": null,
   "metadata": {},
   "outputs": [],
   "source": [
    "child.density.parameterize_with_respect_to"
   ]
  },
  {
   "cell_type": "code",
   "execution_count": 10,
   "metadata": {},
   "outputs": [
    {
     "data": {
      "text/plain": [
       "LogUnivariateGaussian(mu=mu, gamma=gamma) (name: mu)"
      ]
     },
     "execution_count": 10,
     "metadata": {},
     "output_type": "execute_result"
    }
   ],
   "source": [
    "rv"
   ]
  },
  {
   "cell_type": "code",
   "execution_count": 8,
   "metadata": {},
   "outputs": [
    {
     "data": {
      "text/plain": [
       "LogUnivariateGaussian(mu=mu, gamma=gamma) (name: observed)"
      ]
     },
     "execution_count": 8,
     "metadata": {},
     "output_type": "execute_result"
    }
   ],
   "source": [
    "child"
   ]
  },
  {
   "cell_type": "code",
   "execution_count": 28,
   "metadata": {},
   "outputs": [
    {
     "data": {
      "text/plain": [
       "{mu: LogUnivariateGaussian(mu=mu, gamma=gamma) (name: mu),\n",
       " gamma: LogGamma(alpha=alpha, beta=beta) (name: gamma)}"
      ]
     },
     "execution_count": 28,
     "metadata": {},
     "output_type": "execute_result"
    }
   ],
   "source": [
    "child.parents"
   ]
  },
  {
   "cell_type": "code",
   "execution_count": 26,
   "metadata": {},
   "outputs": [
    {
     "data": {
      "text/plain": [
       "{mu: LogUnivariateGaussian(mu=mu, gamma=gamma) (name: mu),\n",
       " gamma: LogGamma(alpha=alpha, beta=beta) (name: gamma)}"
      ]
     },
     "execution_count": 26,
     "metadata": {},
     "output_type": "execute_result"
    }
   ],
   "source": [
    "rv.parents"
   ]
  },
  {
   "cell_type": "code",
   "execution_count": 325,
   "metadata": {},
   "outputs": [
    {
     "data": {
      "text/plain": [
       "{LogUnivariateGaussian(mu=mu, gamma=gamma) (name: mu): LogUnivariateGaussian(mu=mu, gamma=gamma) (name: observed)}"
      ]
     },
     "execution_count": 325,
     "metadata": {},
     "output_type": "execute_result"
    }
   ],
   "source": [
    "g.nodes['mu'].children"
   ]
  },
  {
   "cell_type": "code",
   "execution_count": 96,
   "metadata": {},
   "outputs": [],
   "source": [
    "('mu')"
   ]
  },
  {
   "cell_type": "code",
   "execution_count": 109,
   "metadata": {},
   "outputs": [
    {
     "data": {
      "text/plain": [
       "{'gamma', 'mu'}"
      ]
     },
     "execution_count": 109,
     "metadata": {},
     "output_type": "execute_result"
    }
   ],
   "source": [
    "{s.name for s in g.nodes['mu'].children[0].density.phi.free_symbols}"
   ]
  },
  {
   "cell_type": "code",
   "execution_count": null,
   "metadata": {},
   "outputs": [],
   "source": []
  }
 ],
 "metadata": {
  "kernelspec": {
   "display_name": "Python 3",
   "language": "python",
   "name": "python3"
  },
  "language_info": {
   "codemirror_mode": {
    "name": "ipython",
    "version": 3
   },
   "file_extension": ".py",
   "mimetype": "text/x-python",
   "name": "python",
   "nbconvert_exporter": "python",
   "pygments_lexer": "ipython3",
   "version": "3.6.6"
  }
 },
 "nbformat": 4,
 "nbformat_minor": 2
}
