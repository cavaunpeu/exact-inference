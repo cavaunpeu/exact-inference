{
 "cells": [
  {
   "cell_type": "code",
   "execution_count": 14,
   "metadata": {},
   "outputs": [],
   "source": [
    "import sympy\n",
    "from sympy import Symbol, Matrix"
   ]
  },
  {
   "cell_type": "code",
   "execution_count": 112,
   "metadata": {},
   "outputs": [],
   "source": [
    "class Distribution:\n",
    "    \n",
    "    @property\n",
    "    def expr(self):\n",
    "        expr, = self.phi.T * self.u\n",
    "        return expr + self.fg\n",
    "    \n",
    "    @property\n",
    "    def symbol_names(self):\n",
    "        return [s.name for s in self.symbols]\n",
    "    \n",
    "    def set_with_respect_to(self, name):\n",
    "        if name not in self.symbol_names:\n",
    "            raise Exception(f'{name} not a valid parameter of this distribution')\n",
    "        self.wrt = name\n",
    "        \n",
    "    def test(self):\n",
    "        exprs = []\n",
    "        for name in self.symbol_names:\n",
    "            self.set_with_respect_to(name)\n",
    "            exprs.append(self.expr)\n",
    "        assert all([sympy.simplify(e - exprs[0]) == 0 for e in exprs])\n",
    "    \n",
    "    \n",
    "class LogUnivariateGaussian(Distribution):\n",
    "    \n",
    "    x = Symbol('x')\n",
    "    mu = Symbol('mu')\n",
    "    tau = Symbol('tau')\n",
    "    symbols = [x, mu, tau]\n",
    "    \n",
    "    _u = {\n",
    "        'x': Matrix([x, x**2]),\n",
    "        'mu': Matrix([mu, mu**2]),\n",
    "        'tau': Matrix([tau, sympy.log(tau)])\n",
    "    }\n",
    "    _phi = {\n",
    "        'x': Matrix([tau * mu, -.5 * tau]),\n",
    "        'mu': Matrix([tau * x, -.5 * tau]),\n",
    "        'tau': Matrix([(mu * x) - (.5 * x**2) - (.5 * mu**2), .5])\n",
    "    }\n",
    "    _fg = {\n",
    "        'x': .5 * (sympy.log(tau) - tau * mu**2 - sympy.log(2 * sympy.pi)),\n",
    "        'mu': .5 * (sympy.log(tau) - tau * x**2 - sympy.log(2 * sympy.pi)),\n",
    "        'tau': -.5 * sympy.log(2 * sympy.pi)\n",
    "    }\n",
    "    \n",
    "    def __init__(self, mu, tau, wrt='x'):\n",
    "        self.test()\n",
    "        self.wrt = wrt\n",
    "        \n",
    "    @property\n",
    "    def u(self):\n",
    "        return self._u[self.wrt]\n",
    "        \n",
    "    @property\n",
    "    def phi(self):\n",
    "        return self._phi[self.wrt]\n",
    "        \n",
    "    @property\n",
    "    def fg(self):\n",
    "        return self._fg[self.wrt]"
   ]
  },
  {
   "cell_type": "code",
   "execution_count": 113,
   "metadata": {},
   "outputs": [],
   "source": [
    "lug = LogUnivariateGaussian(0, 1)"
   ]
  }
 ],
 "metadata": {
  "kernelspec": {
   "display_name": "Python 3",
   "language": "python",
   "name": "python3"
  },
  "language_info": {
   "codemirror_mode": {
    "name": "ipython",
    "version": 3
   },
   "file_extension": ".py",
   "mimetype": "text/x-python",
   "name": "python",
   "nbconvert_exporter": "python",
   "pygments_lexer": "ipython3",
   "version": "3.6.6"
  }
 },
 "nbformat": 4,
 "nbformat_minor": 2
}
