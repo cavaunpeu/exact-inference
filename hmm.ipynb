{
 "cells": [
  {
   "cell_type": "markdown",
   "metadata": {},
   "source": [
    "# Hidden Markov Models\n",
    "\n",
    "The following code builds three types of Hidden Markov Models (HMMs) with Gaussian emission models:\n",
    "\n",
    "1. An HMM fit with the Expectation-Maximization (EM) algorithm, which implies exact updates of its parameters `pi` (a vector of probabilities governing the initial latent variable in the chain), `A` (the transition matrix), and `mu` (the parameter of each Gaussian, `p(x|mu_z, std_z)`). (We fix the standard deviation for simplicity.)\n",
    "2. An HMM where the parameter `mu` of the Gaussian emission model is parameterized by a neural network, fit with EM, and with parameter updates via gradient descent in the M-step.\n",
    "3. Same as 2., with Dirichlet priors placed on `pi` and, individually, on the rows of `A`."
   ]
  },
  {
   "cell_type": "code",
   "execution_count": null,
   "metadata": {},
   "outputs": [],
   "source": [
    "%load_ext autoreload\n",
    "%autoreload 2"
   ]
  },
  {
   "cell_type": "code",
   "execution_count": 59,
   "metadata": {},
   "outputs": [],
   "source": [
    "from collections import deque\n",
    "from copy import deepcopy\n",
    "\n",
    "import numpy as np\n",
    "\n",
    "from pomegranate import *\n",
    "import torch\n",
    "from torch import nn\n",
    "from torch.distributions import Dirichlet, Normal\n",
    "import torch.nn.functional as F\n",
    "from torch.optim import Adam, SGD"
   ]
  },
  {
   "cell_type": "code",
   "execution_count": 60,
   "metadata": {},
   "outputs": [],
   "source": [
    "K = 5  # number of latent state\n",
    "M = 10  # length of observations\n",
    "N = 10  # number of observations\n",
    "\n",
    "mu = [np.log(z + 1) for z in range(K)]  # the mean of our observation model, i.e. E[p(x|z)]\n",
    "std = [1.] * K  # standard deviation on gaussian observations"
   ]
  },
  {
   "cell_type": "markdown",
   "metadata": {},
   "source": [
    "# Generate data"
   ]
  },
  {
   "cell_type": "code",
   "execution_count": 61,
   "metadata": {},
   "outputs": [],
   "source": [
    "SEED = 1\n",
    "np.random.seed(SEED)\n",
    "torch.manual_seed(SEED)\n",
    "\n",
    "# Parameters\n",
    "A = F.softmax(torch.randn(K, K), dim=-1)  # randomly initialize a transition matrix\n",
    "pi = F.softmax(torch.randn(K), dim=-1)  # randomly initialize a distribution over the initial latent state\n",
    "\n",
    "# Data\n",
    "X, Z = [], []\n",
    "for n in range(N):\n",
    "    obs = []\n",
    "    for m in range(M):\n",
    "        if m == 0:\n",
    "            z = np.random.choice(range(K), p=pi.numpy())\n",
    "        else:\n",
    "            z = np.random.choice(range(K), p=A[z].numpy())\n",
    "        x = mu[z] + std[z] * np.random.randn()\n",
    "        obs.append((z, x))\n",
    "    z_m, x_m = zip(*obs)\n",
    "    Z.append(z_m)\n",
    "    X.append(x_m)\n",
    "\n",
    "Z = np.array(Z); X = np.array(X)\n",
    "assert Z.shape == (N, M)\n",
    "assert X.shape == (N, M)"
   ]
  },
  {
   "cell_type": "markdown",
   "metadata": {},
   "source": [
    "## Print first observation"
   ]
  },
  {
   "cell_type": "code",
   "execution_count": 62,
   "metadata": {},
   "outputs": [
    {
     "name": "stdout",
     "output_type": "stream",
     "text": [
      "m: 0 | p(z_m):       2 | p(x_m|2): 0.296\n",
      "m: 1 | p(z_m|z_m-1): 0 | p(x_m|0): -0.449\n",
      "m: 2 | p(z_m|z_m-1): 1 | p(x_m|1): -0.413\n",
      "m: 3 | p(z_m|z_m-1): 4 | p(x_m|4): -0.0451\n",
      "m: 4 | p(z_m|z_m-1): 3 | p(x_m|3): 0.369\n",
      "m: 5 | p(z_m|z_m-1): 4 | p(x_m|4): 2.25\n",
      "m: 6 | p(z_m|z_m-1): 0 | p(x_m|0): -0.86\n",
      "m: 7 | p(z_m|z_m-1): 3 | p(x_m|3): 3.16\n",
      "m: 8 | p(z_m|z_m-1): 1 | p(x_m|1): 1.26\n",
      "m: 9 | p(z_m|z_m-1): 4 | p(x_m|4): 1.04\n"
     ]
    }
   ],
   "source": [
    "n = 0\n",
    "x, z = X[n], Z[n]\n",
    "\n",
    "for m, (z_m, x_m) in enumerate(zip(z, x)):\n",
    "    if m == 0:\n",
    "        print(f'm: {m} | p(z_m):       {z_m} | p(x_m|{z_m}): {x_m:1.3}')\n",
    "    else:\n",
    "        print(f'm: {m} | p(z_m|z_m-1): {z_m} | p(x_m|{z_m}): {x_m:1.3}')\n",
    "        \n",
    "del x, z, m"
   ]
  },
  {
   "cell_type": "markdown",
   "metadata": {},
   "source": [
    "# Create models"
   ]
  },
  {
   "cell_type": "code",
   "execution_count": 63,
   "metadata": {},
   "outputs": [],
   "source": [
    "class HMM:\n",
    "    \n",
    "    EMBED_DIM = 10\n",
    "    HIDDEN_DIM = 5\n",
    "    \n",
    "    def __init__(self, pi=None, A=None, mu=None, std=None, seed=1):\n",
    "        torch.manual_seed(seed)\n",
    "        self.A = A if A is not None else F.softmax(torch.randn(K, K), dim=-1)\n",
    "        self.pi = pi if pi is not None else F.softmax(torch.randn(K), dim=-1)\n",
    "        self.mu = mu if mu is not None else torch.randn(K).abs()\n",
    "        self.std = std if std is not None else torch.randn(K).abs()\n",
    "        \n",
    "    def loglik(self, z, x):\n",
    "        \"\"\"\n",
    "        The likelihood of the given observation `x`, conditional on latent code `z`, \n",
    "        given a Gaussian observation model.\n",
    "        \"\"\"\n",
    "        x = torch.FloatTensor([x])\n",
    "        return Normal(loc=self.mu[z], scale=self.std[z]).log_prob(x)\n",
    "\n",
    "    def factor(self, z_i, z_j, x):\n",
    "        return self.A[z_i][z_j] * self.loglik(z_j, x).exp()"
   ]
  },
  {
   "cell_type": "markdown",
   "metadata": {},
   "source": [
    "# E-step"
   ]
  },
  {
   "cell_type": "markdown",
   "metadata": {},
   "source": [
    "## Alpha step"
   ]
  },
  {
   "cell_type": "markdown",
   "metadata": {},
   "source": [
    "The HMM factor is given by: $f(z_{n-1}, z_n) = p(z_n|z_n-1)p(X|z_n)$, where $n$ is\n",
    "our current index on the chain.\n",
    "\n",
    "The message from factor to variable, moving forward along the chain, is given by:\n",
    "\n",
    "$$\n",
    "\\sum\\limits_{z_{n-1}} f(z_{n-1}, z_n) * \\mu_{f_{n-1} \\rightarrow z_{n-1}}\n",
    "$$\n",
    "\n",
    "In an efficient implementation, for each value $z_j$, we would compute $p(X|z_n)$ upfront then multiply it by the summation. Below, we recompute it inside each term of the summation unnecessarily for demonstrative purposes."
   ]
  },
  {
   "cell_type": "code",
   "execution_count": 64,
   "metadata": {},
   "outputs": [],
   "source": [
    "def alpha_step(model, x):\n",
    "    alpha = []\n",
    "    for m in range(M):\n",
    "        if m == 0:\n",
    "            a_m = [model.pi[z] * model.loglik(z, x[m]).exp() for z in range(K)]\n",
    "\n",
    "        else:\n",
    "            a_m = [sum(model.factor(z_i, z_j, x[m]) * alpha[-1][z_i] for z_i in range(K)) for z_j in range(K)]\n",
    "        alpha.append(torch.FloatTensor(a_m))\n",
    "    return torch.stack(alpha)"
   ]
  },
  {
   "cell_type": "markdown",
   "metadata": {},
   "source": [
    "## Beta step"
   ]
  },
  {
   "cell_type": "code",
   "execution_count": 65,
   "metadata": {},
   "outputs": [],
   "source": [
    "def beta_step(model, x):\n",
    "    beta = []\n",
    "    for m in reversed(range(M)):\n",
    "        if m == M - 1:\n",
    "            b_m = [1. for _ in range(K)]\n",
    "        else:\n",
    "            b_m = [sum(model.factor(z_i, z_j, x[m+1]) * beta[-1][z_j] for z_j in range(K)) for z_i in range(K)]\n",
    "        beta.append(torch.FloatTensor(b_m))\n",
    "    return torch.stack(beta).flip(0)  # NB: we flip the axes back!"
   ]
  },
  {
   "cell_type": "markdown",
   "metadata": {},
   "source": [
    "## Posterior marginals"
   ]
  },
  {
   "cell_type": "code",
   "execution_count": 66,
   "metadata": {},
   "outputs": [],
   "source": [
    "def compute_gamma(alpha, beta):\n",
    "    gamma_ = alpha * beta\n",
    "    evd = gamma_.sum(1)\n",
    "    # p(X) = \\sum_{z_n} \\alpha(z_n) * \\beta(z_n), for any choice of n!\n",
    "    assert np.allclose(evd[0], evd)\n",
    "    gamma = gamma_ / evd[0]\n",
    "    assert np.allclose(gamma.sum(1), 1.)\n",
    "    return gamma, evd[0]"
   ]
  },
  {
   "cell_type": "markdown",
   "metadata": {},
   "source": [
    "## Posterior transition matrices"
   ]
  },
  {
   "cell_type": "code",
   "execution_count": 67,
   "metadata": {},
   "outputs": [],
   "source": [
    "def compute_zeta(model, alpha, beta, evd, x):\n",
    "    zeta_ = []\n",
    "    for m in range(M-1):\n",
    "        liks = np.array([model.loglik(z, x[m+1]).exp().item() for z in range(K)])\n",
    "        zeta_m = np.outer(alpha[m], beta[m+1]) * model.A.detach().numpy() * liks\n",
    "        zeta_.append(zeta_m)\n",
    "\n",
    "    zeta = torch.FloatTensor(zeta_).clone() / evd\n",
    "    assert all([np.allclose(zta.sum(), 1.) for zta in zeta])\n",
    "    \n",
    "    return zeta"
   ]
  },
  {
   "cell_type": "markdown",
   "metadata": {},
   "source": [
    "## Altogether"
   ]
  },
  {
   "cell_type": "code",
   "execution_count": 68,
   "metadata": {},
   "outputs": [],
   "source": [
    "def e_step(model, x):\n",
    "    alpha = alpha_step(model, x)\n",
    "    beta = beta_step(model, x)\n",
    "    gamma, evd = compute_gamma(alpha, beta)\n",
    "    zeta = compute_zeta(model, alpha, beta, evd, x)\n",
    "    return gamma, evd, zeta"
   ]
  },
  {
   "cell_type": "markdown",
   "metadata": {},
   "source": [
    "# M-step"
   ]
  },
  {
   "cell_type": "code",
   "execution_count": 69,
   "metadata": {},
   "outputs": [],
   "source": [
    "def train_via_em(data, model, n_epochs, verbose=False, evd_tolerance=1e-4):\n",
    "    \n",
    "    X = data.copy()\n",
    "    model = deepcopy(model)\n",
    "    prev_evd = float('-inf')\n",
    "    \n",
    "    for n in range(n_epochs):\n",
    "        # E-step (compute posteriors)\n",
    "        gamma, evd, zeta = zip(*[e_step(model, x) for x in X])\n",
    "        evd = np.sum(evd)\n",
    "\n",
    "        # M-step (update parameters)\n",
    "        ## Pi\n",
    "        model.pi = sum(gamma)[0] / sum(gamma)[0].sum()\n",
    "        ## A\n",
    "        zeta = sum([zta.sum(0) for zta in zeta])\n",
    "        model.A = zeta / zeta.sum(1)[:, None]\n",
    "        ## mu\n",
    "        for z in range(K):\n",
    "            model.mu[z] = sum((g[:, z].numpy() * x).sum() for g, x in zip(gamma, X)) / sum(g[:, z].sum() for g in gamma)\n",
    "\n",
    "        assert np.allclose(model.pi.sum(), 1.)\n",
    "        assert np.allclose(model.A.sum(1), 1.)\n",
    "        assert evd >= (prev_evd - evd_tolerance)\n",
    "\n",
    "        if (n % (n_epochs / 10) == 0 and n != 0) or verbose:\n",
    "            print(f'Epoch {n} | P(X): {evd:1.5}')\n",
    "\n",
    "        prev_evd = evd\n",
    "        \n",
    "    gamma, evd, zeta = zip(*[e_step(model, x) for x in X])\n",
    "    evd = np.sum(evd)\n",
    "        \n",
    "    return model, evd, gamma, zeta"
   ]
  },
  {
   "cell_type": "markdown",
   "metadata": {},
   "source": [
    "## Max-sum (Viterbi algorithm)"
   ]
  },
  {
   "cell_type": "code",
   "execution_count": 70,
   "metadata": {},
   "outputs": [],
   "source": [
    "def compute_max_sum_messages(model, x):\n",
    "    omega = []\n",
    "\n",
    "    for m in range(M):\n",
    "        if m == 0:\n",
    "            o_m = [model.pi[z].log() + model.loglik(z, x[m]) for z in range(K)]\n",
    "            o_m_idx = [None] * len(o_m)\n",
    "        else:\n",
    "            o_m = []\n",
    "            o_m_idx = []\n",
    "            for z_j in range(K):\n",
    "                ll = model.loglik(z_j, x[m])\n",
    "                mx, mx_idx = torch.tensor([ll + model.A[z_i][z_j].log() + omega[-1][z_i][0] for z_i in range(K)]).max(0)\n",
    "                o_m.append(mx)\n",
    "                o_m_idx.append(mx_idx)\n",
    "        o = [(t.item(), i.item()) if i is not None else (t.item(), i) for t, i in zip(o_m, o_m_idx)]\n",
    "        omega.append(o)\n",
    "    return omega\n",
    "\n",
    "\n",
    "def backtrack(omega):\n",
    "    m = M\n",
    "    configs = []\n",
    "    while omega:\n",
    "        o_m = omega.pop()\n",
    "        vals, idxs = zip(*o_m)\n",
    "        if M == 1:\n",
    "            max_val = max(vals)\n",
    "            configs.append([vals.index(max_val)])\n",
    "        elif all([i is not None for i in idxs]):\n",
    "            if m == M:\n",
    "                max_val = max(vals)\n",
    "                for i, v in enumerate(vals):\n",
    "                    if v == max_val:\n",
    "                        c = deque([idxs[i], i])\n",
    "                        configs.append(c)\n",
    "            else:\n",
    "                for c in configs:\n",
    "                    phi = c[0]\n",
    "                    c.appendleft(idxs[phi])\n",
    "            m -= 1\n",
    "    configs = [tuple(c) for c in configs]\n",
    "    return max_val, configs\n",
    "\n",
    "\n",
    "def viterbi(model, x):\n",
    "    omega = compute_max_sum_messages(model, x)\n",
    "    max_val, configs = backtrack(omega)\n",
    "    return max_val, configs"
   ]
  },
  {
   "cell_type": "markdown",
   "metadata": {},
   "source": [
    "## Test\n",
    "\n",
    "**NB: To get these tests to pass, you must install pomegranate from my [fork](https://github.com/cavaunpeu/pomegranate/tree/hmm-testing-tweaks), which contains a few tweaks that ensure that, er, when you specify `max_iterations=1`, the algorithm only runs for 1 iteration, kind of thing.**"
   ]
  },
  {
   "cell_type": "code",
   "execution_count": 71,
   "metadata": {},
   "outputs": [],
   "source": [
    "x = X[0]\n",
    "\n",
    "# Theirs\n",
    "dists = [NormalDistribution(m, sd) for m, sd in zip(mu, std)]\n",
    "trans_mat = A.numpy()\n",
    "starts = pi.numpy()\n",
    "their_model = HiddenMarkovModel.from_matrix(trans_mat, dists, starts)\n",
    "\n",
    "# Ours\n",
    "our_model = HMM(pi=pi, A=A, mu=mu, std=std)\n",
    "\n",
    "# Test\n",
    "\n",
    "## E-step\n",
    "gamma, evd, zeta = e_step(our_model, x)\n",
    "\n",
    "### Log-prob\n",
    "assert np.allclose(np.exp(their_model.log_probability(x)), evd.item())\n",
    "\n",
    "### Transitions, emissions\n",
    "transitions, emissions = their_model.forward_backward(x)\n",
    "assert np.allclose(np.exp(emissions), gamma)\n",
    "assert np.allclose(transitions[:K, :K], zeta.sum(0))\n",
    "\n",
    "## Viterbi\n",
    "their_max_val, their_states = their_model.viterbi(x)\n",
    "their_states, _ = zip(*their_states[1:])\n",
    "our_max_val, our_states = viterbi(our_model, x)\n",
    "assert their_states in our_states\n",
    "assert np.allclose(their_max_val, our_max_val)\n",
    "\n",
    "## M-step\n",
    "assert np.allclose(our_model.pi.numpy(), their_model.dense_transition_matrix()[their_model.start_index, :][:K])\n",
    "assert np.allclose(our_model.A.numpy(), their_model.dense_transition_matrix()[:K, :K])\n",
    "_ = their_model.fit(X, min_iterations=1, max_iterations=1, algorithm='baum-welch', stop_threshold=1e-15)\n",
    "mdl, evd, gamma, zeta = train_via_em(data=X, model=our_model, n_epochs=1)\n",
    "assert np.allclose(mdl.pi, their_model.dense_transition_matrix()[their_model.start_index, :][:K])\n",
    "assert np.allclose(mdl.A, their_model.dense_transition_matrix()[:K, :K])\n",
    "their_mu, their_std = zip(*[s.distribution.parameters for s in their_model.get_params()['states'][:K]])\n",
    "assert np.allclose(their_mu, [m.item() for m in mdl.mu])"
   ]
  },
  {
   "cell_type": "markdown",
   "metadata": {},
   "source": [
    "# Vanilla HMM (Model 1)"
   ]
  },
  {
   "cell_type": "markdown",
   "metadata": {},
   "source": [
    "## Train"
   ]
  },
  {
   "cell_type": "code",
   "execution_count": 16,
   "metadata": {},
   "outputs": [
    {
     "name": "stdout",
     "output_type": "stream",
     "text": [
      "Epoch 10 | P(X): 5.1061e-05\n",
      "Epoch 20 | P(X): 8.383e-05\n",
      "Epoch 30 | P(X): 0.00010088\n",
      "Epoch 40 | P(X): 0.00010554\n",
      "Epoch 50 | P(X): 0.0001061\n",
      "Epoch 60 | P(X): 0.00010601\n",
      "Epoch 70 | P(X): 0.00010601\n",
      "Epoch 80 | P(X): 0.00010599\n",
      "Epoch 90 | P(X): 0.00010592\n"
     ]
    }
   ],
   "source": [
    "N_EPOCHS = 100\n",
    "\n",
    "model = HMM()\n",
    "\n",
    "model, evd, gamma, zeta = train_via_em(X, model, N_EPOCHS, verbose=False)"
   ]
  },
  {
   "cell_type": "markdown",
   "metadata": {},
   "source": [
    "# Neural HMM (Model 2)"
   ]
  },
  {
   "cell_type": "code",
   "execution_count": 21,
   "metadata": {},
   "outputs": [],
   "source": [
    "class GuassianObservationModel(nn.Module):\n",
    "    \n",
    "    def __init__(self, K, embed_dim, hidden_dim):\n",
    "        super().__init__()\n",
    "        self.embed = nn.Embedding(K, embed_dim)\n",
    "        self.hidden = nn.Linear(embed_dim, hidden_dim)\n",
    "        self.out = nn.Linear(hidden_dim, 1)\n",
    "        self.mu = nn.Parameter(torch.ones(K))\n",
    "        \n",
    "    def forward(self, z):\n",
    "        embed = self.embed(torch.LongTensor([z]))\n",
    "        return torch.relu(self.out(self.hidden(embed)))  # ReLU, b/c we know obs. means are positive\n",
    "    \n",
    "    \n",
    "class NeuralHMM(nn.Module):\n",
    "    \n",
    "    EMBED_DIM = 10\n",
    "    HIDDEN_DIM = 5\n",
    "    OBS_MODEL_STD = 1.\n",
    "    \n",
    "    def __init__(self, pi=None, A=None, mu=None, std=None, seed=42):\n",
    "        super().__init__()\n",
    "        torch.manual_seed(seed)\n",
    "        self._A = A if A is not None else nn.Parameter(torch.randn(K, K))\n",
    "        self._pi = pi if pi is not None else nn.Parameter(torch.randn(K))\n",
    "        self.obs_model = GuassianObservationModel(K, self.EMBED_DIM, self.HIDDEN_DIM)\n",
    "        \n",
    "    @property\n",
    "    def pi(self):\n",
    "        return F.softmax(self._pi, dim=-1)\n",
    "    \n",
    "    @property\n",
    "    def A(self):\n",
    "        return F.softmax(self._A, dim=-1)\n",
    "        \n",
    "    def loglik(self, z, x):\n",
    "        \"\"\"\n",
    "        The likelihood of the given observation `x`, conditional on latent code `z`, \n",
    "        given a Gaussian observation model.\n",
    "        \"\"\"\n",
    "        x = torch.FloatTensor([x])\n",
    "        return Normal(loc=self.obs_model(z), scale=self.OBS_MODEL_STD).log_prob(x)\n",
    "    \n",
    "    def factor(self, z_i, z_j, x):\n",
    "        return self.A[z_i][z_j] * self.loglik(z_j, x).exp()\n",
    "    \n",
    "    def elbo(self, X, gamma, zeta):\n",
    "        Q = 0\n",
    "        for x in X:\n",
    "            Q += (gamma[0] * self.pi.log()).sum()\n",
    "            for zta in zeta:\n",
    "                Q += (zta * self.A.log()).sum()\n",
    "            for gma in gamma:\n",
    "                for z in range(K):\n",
    "                    Q += (gma[z] * self.loglik(z, x)).sum()\n",
    "        return Q"
   ]
  },
  {
   "cell_type": "markdown",
   "metadata": {},
   "source": [
    "## Train"
   ]
  },
  {
   "cell_type": "code",
   "execution_count": 24,
   "metadata": {},
   "outputs": [
    {
     "name": "stdout",
     "output_type": "stream",
     "text": [
      "Epoch 10 | P(X): 1.3345e-05 | ELBO: -16584.544921875\n",
      "Epoch 20 | P(X): 2.2306e-05 | ELBO: -15657.876953125\n",
      "Epoch 30 | P(X): 2.6937e-05 | ELBO: -15233.6865234375\n",
      "Epoch 40 | P(X): 2.9675e-05 | ELBO: -15065.7841796875\n",
      "Epoch 50 | P(X): 3.0983e-05 | ELBO: -14989.5029296875\n",
      "Epoch 60 | P(X): 3.1971e-05 | ELBO: -14914.7099609375\n",
      "Epoch 70 | P(X): 3.2353e-05 | ELBO: -14827.8447265625\n",
      "Epoch 80 | P(X): 3.2619e-05 | ELBO: -14772.3232421875\n",
      "Epoch 90 | P(X): 3.2909e-05 | ELBO: -14744.5869140625\n"
     ]
    }
   ],
   "source": [
    "N_EPOCHS = 100\n",
    "LR = .05\n",
    "VERBOSE = False\n",
    "ALPHA = 1\n",
    "\n",
    "model = NeuralHMM()\n",
    "optim = Adam(model.parameters(), lr=LR)\n",
    "\n",
    "for n in range(N_EPOCHS):\n",
    "    gamma, evd, zeta = zip(*[e_step(model, x) for x in X])\n",
    "    gamma, zeta, evd = sum(gamma), sum(zeta), sum(evd)\n",
    "    Q = model.elbo(X, gamma, zeta)\n",
    "    optim.zero_grad()\n",
    "    (-Q).backward()\n",
    "    optim.step()\n",
    "    \n",
    "    assert np.allclose(model.pi.sum().detach().numpy(), 1.)\n",
    "    assert np.allclose(model.A.sum(1).detach().numpy(), 1.)\n",
    "    \n",
    "    if n % (N_EPOCHS / 10) == 0 and n != 0 or VERBOSE:\n",
    "        print(f'Epoch {n} | P(X): {evd:1.5} | ELBO: {Q}')"
   ]
  },
  {
   "cell_type": "markdown",
   "metadata": {},
   "source": [
    "# Bayesian HMM (Model 3)"
   ]
  },
  {
   "cell_type": "code",
   "execution_count": 72,
   "metadata": {},
   "outputs": [],
   "source": [
    "class NeuralHMMWithTriuDirichletPrior(nn.Module):\n",
    "    \n",
    "    EMBED_DIM = 10\n",
    "    HIDDEN_DIM = 5\n",
    "    OBS_MODEL_STD = 1.\n",
    "    \n",
    "    def __init__(self, pi_conc_vec, a_conc_mat, seed=42):\n",
    "        super().__init__()\n",
    "        torch.manual_seed(seed)\n",
    "        self.pi_prior = Dirichlet(torch.FloatTensor(pi_conc_vec))\n",
    "        self.A_prior = [Dirichlet(torch.FloatTensor(cm)) for cm in a_conc_mat]\n",
    "        self.__A = nn.ParameterList([nn.Parameter(torch.randn(K)) for _ in range(K)])\n",
    "        self.__pi = nn.Parameter(torch.randn(K))\n",
    "        self.obs_model = GuassianObservationModel(K, self.EMBED_DIM, self.HIDDEN_DIM)\n",
    "        \n",
    "    @property\n",
    "    def pi(self):\n",
    "        return F.softmax(self.__pi, dim=-1)\n",
    "    \n",
    "    @property\n",
    "    def A(self):\n",
    "        return torch.stack(self._A)\n",
    "    \n",
    "    @property\n",
    "    def _A(self):\n",
    "        return [F.softmax(_a, dim=-1) for _a in self.__A]\n",
    "\n",
    "    def loglik(self, z, x):\n",
    "        \"\"\"\n",
    "        The likelihood of the given observation `x`, conditional on latent code `z`, \n",
    "        given a Gaussian observation model.\n",
    "        \"\"\"\n",
    "        x = torch.FloatTensor([x])\n",
    "        return Normal(loc=self.obs_model(z), scale=self.OBS_MODEL_STD).log_prob(x)\n",
    "    \n",
    "    def factor(self, z_i, z_j, x):\n",
    "        return self.A[z_i][z_j] * self.loglik(z_j, x).exp()\n",
    "    \n",
    "    def _elbo(self, X, gamma, zeta):\n",
    "        Q = 0\n",
    "        for x in X:\n",
    "            Q += (gamma[0] * self.pi.log()).sum()\n",
    "            for zta in zeta:\n",
    "                Q += (zta * self.A.log()).sum()\n",
    "            for gma in gamma:\n",
    "                for z in range(K):\n",
    "                    Q += (gma[z] * self.loglik(z, x)).sum()\n",
    "        return Q\n",
    "    \n",
    "    def elbo(self, X, gamma, zeta, eps=1e-30):\n",
    "        Q = self._elbo(X, gamma, zeta)\n",
    "        # pi\n",
    "        jac = []\n",
    "        for v in self.pi:\n",
    "            v.backward(retain_graph=True)\n",
    "            jac.append(self.__pi.grad)\n",
    "        jac = torch.stack(jac, dim=-1)\n",
    "        Q += self.pi_prior.log_prob(self.pi + eps).sum() + (jac.det().abs() + eps).log()\n",
    "        # A\n",
    "        for i, (_a, __a) in enumerate(zip(self._A, self.__A)):\n",
    "            jac = []\n",
    "            for v in _a:\n",
    "                v.backward(retain_graph=True)\n",
    "                jac.append(__a.grad)\n",
    "            jac = torch.stack(jac, dim=-1)\n",
    "            Q += self.A_prior[i].log_prob(_a + eps).sum() + (jac.det().abs() + eps).log()\n",
    "        return Q"
   ]
  },
  {
   "cell_type": "markdown",
   "metadata": {},
   "source": [
    "## Train"
   ]
  },
  {
   "cell_type": "code",
   "execution_count": 55,
   "metadata": {},
   "outputs": [
    {
     "name": "stdout",
     "output_type": "stream",
     "text": [
      "Epoch 0 | P(X): 1.1721e-07 | ELBO: -inf\n",
      "Epoch 1 | P(X): 2.1205e-07 | ELBO: -inf\n",
      "Epoch 2 | P(X): 3.666e-07 | ELBO: -inf\n",
      "Epoch 3 | P(X): 6.1206e-07 | ELBO: -inf\n",
      "Epoch 4 | P(X): 9.9642e-07 | ELBO: -inf\n",
      "Epoch 5 | P(X): 1.584e-06 | ELBO: -inf\n",
      "Epoch 6 | P(X): 2.456e-06 | ELBO: -inf\n",
      "Epoch 7 | P(X): 3.7023e-06 | ELBO: -inf\n",
      "Epoch 8 | P(X): 5.394e-06 | ELBO: -inf\n",
      "Epoch 9 | P(X): 7.5342e-06 | ELBO: -inf\n",
      "Epoch 10 | P(X): 9.999e-06 | ELBO: -inf\n",
      "Epoch 11 | P(X): 1.2511e-05 | ELBO: -inf\n",
      "Epoch 12 | P(X): 1.4698e-05 | ELBO: -inf\n",
      "Epoch 13 | P(X): 1.6249e-05 | ELBO: -inf\n",
      "Epoch 14 | P(X): 1.7078e-05 | ELBO: -inf\n",
      "Epoch 15 | P(X): 1.7356e-05 | ELBO: -inf\n",
      "Epoch 16 | P(X): 1.7393e-05 | ELBO: -inf\n",
      "Epoch 17 | P(X): 1.7474e-05 | ELBO: -inf\n",
      "Epoch 18 | P(X): 1.7778e-05 | ELBO: -inf\n",
      "Epoch 19 | P(X): 1.8359e-05 | ELBO: -inf\n",
      "Epoch 20 | P(X): 1.918e-05 | ELBO: -inf\n",
      "Epoch 21 | P(X): 2.0144e-05 | ELBO: -inf\n",
      "Epoch 22 | P(X): 2.1118e-05 | ELBO: -inf\n",
      "Epoch 23 | P(X): 2.1971e-05 | ELBO: -inf\n",
      "Epoch 24 | P(X): 2.26e-05 | ELBO: -inf\n",
      "Epoch 25 | P(X): 2.2957e-05 | ELBO: -inf\n",
      "Epoch 26 | P(X): 2.305e-05 | ELBO: -inf\n",
      "Epoch 27 | P(X): 2.2938e-05 | ELBO: -inf\n",
      "Epoch 28 | P(X): 2.2704e-05 | ELBO: -inf\n",
      "Epoch 29 | P(X): 2.2435e-05 | ELBO: -inf\n",
      "Epoch 30 | P(X): 2.2203e-05 | ELBO: -inf\n",
      "Epoch 31 | P(X): 2.2057e-05 | ELBO: -inf\n",
      "Epoch 32 | P(X): 2.2025e-05 | ELBO: -inf\n",
      "Epoch 33 | P(X): 2.2113e-05 | ELBO: -inf\n",
      "Epoch 34 | P(X): 2.2309e-05 | ELBO: -inf\n",
      "Epoch 35 | P(X): 2.259e-05 | ELBO: -inf\n",
      "Epoch 36 | P(X): 2.2924e-05 | ELBO: -inf\n",
      "Epoch 37 | P(X): 2.3274e-05 | ELBO: -inf\n",
      "Epoch 38 | P(X): 2.3609e-05 | ELBO: -inf\n",
      "Epoch 39 | P(X): 2.3904e-05 | ELBO: -inf\n",
      "Epoch 40 | P(X): 2.4144e-05 | ELBO: -inf\n",
      "Epoch 41 | P(X): 2.4329e-05 | ELBO: -inf\n",
      "Epoch 42 | P(X): 2.447e-05 | ELBO: -inf\n",
      "Epoch 43 | P(X): 2.4586e-05 | ELBO: -inf\n",
      "Epoch 44 | P(X): 2.4694e-05 | ELBO: -inf\n",
      "Epoch 45 | P(X): 2.4809e-05 | ELBO: -inf\n",
      "Epoch 46 | P(X): 2.4938e-05 | ELBO: -inf\n",
      "Epoch 47 | P(X): 2.5079e-05 | ELBO: -inf\n",
      "Epoch 48 | P(X): 2.5224e-05 | ELBO: -inf\n",
      "Epoch 49 | P(X): 2.5362e-05 | ELBO: -inf\n",
      "Epoch 50 | P(X): 2.5483e-05 | ELBO: -inf\n",
      "Epoch 51 | P(X): 2.558e-05 | ELBO: -inf\n",
      "Epoch 52 | P(X): 2.5653e-05 | ELBO: -inf\n",
      "Epoch 53 | P(X): 2.5706e-05 | ELBO: -inf\n",
      "Epoch 54 | P(X): 2.5748e-05 | ELBO: -inf\n",
      "Epoch 55 | P(X): 2.5787e-05 | ELBO: -inf\n",
      "Epoch 56 | P(X): 2.5833e-05 | ELBO: -inf\n",
      "Epoch 57 | P(X): 2.5892e-05 | ELBO: -inf\n",
      "Epoch 58 | P(X): 2.5967e-05 | ELBO: -inf\n",
      "Epoch 59 | P(X): 2.6056e-05 | ELBO: -inf\n",
      "Epoch 60 | P(X): 2.6154e-05 | ELBO: -inf\n",
      "Epoch 61 | P(X): 2.6257e-05 | ELBO: -inf\n",
      "Epoch 62 | P(X): 2.6358e-05 | ELBO: -inf\n",
      "Epoch 63 | P(X): 2.6451e-05 | ELBO: -inf\n",
      "Epoch 64 | P(X): 2.6534e-05 | ELBO: -inf\n",
      "Epoch 65 | P(X): 2.6606e-05 | ELBO: -inf\n",
      "Epoch 66 | P(X): 2.6667e-05 | ELBO: -inf\n",
      "Epoch 67 | P(X): 2.6719e-05 | ELBO: -inf\n",
      "Epoch 68 | P(X): 2.6765e-05 | ELBO: -inf\n",
      "Epoch 69 | P(X): 2.6807e-05 | ELBO: -inf\n",
      "Epoch 70 | P(X): 2.6846e-05 | ELBO: -inf\n",
      "Epoch 71 | P(X): 2.6883e-05 | ELBO: -inf\n",
      "Epoch 72 | P(X): 2.6915e-05 | ELBO: -inf\n",
      "Epoch 73 | P(X): 2.6944e-05 | ELBO: -inf\n",
      "Epoch 74 | P(X): 2.6968e-05 | ELBO: -inf\n",
      "Epoch 75 | P(X): 2.6989e-05 | ELBO: -inf\n",
      "Epoch 76 | P(X): 2.7006e-05 | ELBO: -inf\n",
      "Epoch 77 | P(X): 2.7023e-05 | ELBO: -inf\n",
      "Epoch 78 | P(X): 2.704e-05 | ELBO: -inf\n",
      "Epoch 79 | P(X): 2.7059e-05 | ELBO: -inf\n",
      "Epoch 80 | P(X): 2.7081e-05 | ELBO: -inf\n",
      "Epoch 81 | P(X): 2.7108e-05 | ELBO: -inf\n",
      "Epoch 82 | P(X): 2.7137e-05 | ELBO: -inf\n",
      "Epoch 83 | P(X): 2.717e-05 | ELBO: -inf\n",
      "Epoch 84 | P(X): 2.7203e-05 | ELBO: -inf\n",
      "Epoch 85 | P(X): 2.7237e-05 | ELBO: -inf\n",
      "Epoch 86 | P(X): 2.727e-05 | ELBO: -inf\n",
      "Epoch 87 | P(X): 2.7301e-05 | ELBO: -inf\n",
      "Epoch 88 | P(X): 2.7331e-05 | ELBO: -inf\n",
      "Epoch 89 | P(X): 2.736e-05 | ELBO: -inf\n",
      "Epoch 90 | P(X): 2.7386e-05 | ELBO: -inf\n",
      "Epoch 91 | P(X): 2.7412e-05 | ELBO: -inf\n",
      "Epoch 92 | P(X): 2.7436e-05 | ELBO: -inf\n",
      "Epoch 93 | P(X): 2.7459e-05 | ELBO: -inf\n",
      "Epoch 94 | P(X): 2.7481e-05 | ELBO: -inf\n",
      "Epoch 95 | P(X): 2.7501e-05 | ELBO: -inf\n",
      "Epoch 96 | P(X): 2.7521e-05 | ELBO: -inf\n",
      "Epoch 97 | P(X): 2.7539e-05 | ELBO: -inf\n",
      "Epoch 98 | P(X): 2.7558e-05 | ELBO: -inf\n",
      "Epoch 99 | P(X): 2.7576e-05 | ELBO: -inf\n"
     ]
    }
   ],
   "source": [
    "N_EPOCHS = 100\n",
    "LR = .01\n",
    "VERBOSE = True\n",
    "PI_CONCENTRATION_VEC = torch.randint(5, (K,)).float()\n",
    "A_CONCENTRATION_MAT = torch.ones(K, K) + torch.randint(0, 5, (K, K)).float().triu()\n",
    "\n",
    "model = NeuralHMMWithTriuDirichletPrior(PI_CONCENTRATION_VEC, A_CONCENTRATION_MAT)\n",
    "optim = Adam(model.parameters(), lr=LR)\n",
    "\n",
    "for n in range(N_EPOCHS):\n",
    "    gamma, evd, zeta = zip(*[e_step(model, x) for x in X])\n",
    "    gamma, zeta, evd = sum(gamma), sum(zeta), sum(evd)\n",
    "    Q = model.elbo(X, gamma, zeta)\n",
    "    optim.zero_grad()\n",
    "    (-Q).backward()\n",
    "    optim.step()\n",
    "    \n",
    "    assert np.allclose(model.pi.sum().detach().numpy(), 1.)\n",
    "    assert np.allclose(model.A.sum(1).detach().numpy(), 1.)\n",
    "    \n",
    "    if n % (N_EPOCHS / 10) == 0 and n != 0 or VERBOSE:\n",
    "        print(f'Epoch {n} | P(X): {evd:1.5} | ELBO: {Q}')"
   ]
  }
 ],
 "metadata": {
  "kernelspec": {
   "display_name": "Python 3",
   "language": "python",
   "name": "python3"
  },
  "language_info": {
   "codemirror_mode": {
    "name": "ipython",
    "version": 3
   },
   "file_extension": ".py",
   "mimetype": "text/x-python",
   "name": "python",
   "nbconvert_exporter": "python",
   "pygments_lexer": "ipython3",
   "version": "3.6.6"
  }
 },
 "nbformat": 4,
 "nbformat_minor": 2
}
