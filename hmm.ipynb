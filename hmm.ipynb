{
 "cells": [
  {
   "cell_type": "code",
   "execution_count": 89,
   "metadata": {},
   "outputs": [],
   "source": [
    "import numpy as np\n",
    "\n",
    "from torch import nn\n",
    "from torch.distributions import Dirichlet, Normal\n",
    "import torch.nn.functional as F"
   ]
  },
  {
   "cell_type": "code",
   "execution_count": 78,
   "metadata": {},
   "outputs": [],
   "source": [
    "K = 5  # number of latent state\n",
    "M = 10  # length of observations\n",
    "N = 50  # number of observations\n",
    "\n",
    "sd = .05  # standard deviation on gaussian observations\n",
    "mu = lambda z: np.log(z + 1)  # the mean of our observation model, i.e. E[p(x|z)]"
   ]
  },
  {
   "cell_type": "markdown",
   "metadata": {},
   "source": [
    "# Create dummy data"
   ]
  },
  {
   "cell_type": "code",
   "execution_count": 87,
   "metadata": {},
   "outputs": [],
   "source": [
    "# Parameters\n",
    "A = F.softmax(torch.randn(K, K), dim=1).numpy()  # randomly initialize a transition matrix\n",
    "pi = np.array(K * [1 / K])  # uniform distribution over the initial latent state\n",
    "\n",
    "# Data\n",
    "X, Z = [], []\n",
    "for n in range(N):\n",
    "    obs = []\n",
    "    for m in range(M):\n",
    "        if m == 0:\n",
    "            z = np.random.choice(range(K), p=pi)\n",
    "        else:\n",
    "            z = np.random.choice(range(K), p=A[z])\n",
    "        x = mu(z) + sd * np.random.randn()\n",
    "        obs.append((z, x))\n",
    "    z_m, x_m = zip(*obs)\n",
    "    Z.append(z_m)\n",
    "    X.append(x_m)\n",
    "\n",
    "Z = np.array(Z); X = np.array(X)\n",
    "assert Z.shape == (N, M)\n",
    "assert X.shape == (N, M)"
   ]
  },
  {
   "cell_type": "markdown",
   "metadata": {},
   "source": [
    "# Create models"
   ]
  },
  {
   "cell_type": "code",
   "execution_count": 158,
   "metadata": {},
   "outputs": [],
   "source": [
    "class GuassianObservationModel(nn.Module):\n",
    "    \n",
    "    def __init__(self, K, embed_dim, hidden_dim):\n",
    "        super().__init__()\n",
    "        self.embed = nn.Embedding(K, embed_dim)\n",
    "        self.hidden = nn.Linear(embed_dim, hidden_dim)\n",
    "        self.out = nn.Linear(hidden_dim, 1)\n",
    "        \n",
    "    def forward(self, z):\n",
    "        embed = self.embed(z)\n",
    "        return torch.relu(self.out(self.hidden(embed)))  # ReLU, b/c we know obs. means are positive\n",
    "    \n",
    "    \n",
    "class HMM:\n",
    "    \n",
    "    EMBED_DIM = 20\n",
    "    HIDDEN_DIM = 10\n",
    "    \n",
    "    def __init__(self, pi, A, X):\n",
    "        self.pi = pi\n",
    "        self.A = A\n",
    "        self.X = torch.tensor(X, requires_grad=False, dtype=torch.float32)\n",
    "        self.obs_model = GuassianObservationModel(K, self.EMBED_DIM, self.HIDDEN_DIM)\n",
    "        \n",
    "    def log_lik(self, z):\n",
    "        \"\"\"\n",
    "        The log-likelihood of *all* of our observed data conditional on latent code `z`,\n",
    "        given a Gaussian observation model.\n",
    "        \n",
    "        This quantity is also known as the \"mean-squared error\" between the observed data and\n",
    "        our \"prediction\" thereof, which can be computed via the L2-norm of the differences between\n",
    "        each datum, and the output of our model given `z`.\n",
    "        \"\"\"\n",
    "        z = torch.LongTensor([z])\n",
    "        return (self.X[:, z] - self.obs_model(z)).norm().item()\n",
    "    \n",
    "    def evidence(self):\n",
    "        return sum([self.obs_model(z).item() for z in range(K)])\n",
    "        \n",
    "    def factor(self, i, j, m):\n",
    "        \"\"\"\n",
    "        The HMM factor is given by: `f(z_m-1, z_m) = p(z_m|z_m-1)p(x_m|z_m)`, where:\n",
    "        \n",
    "            - `m` gives our current index in the chain\n",
    "            - `i` gives the value of `z_m-1`\n",
    "            - `j` gives the value of `z_m`\n",
    "        \"\"\"\n",
    "        return self.A[i][j] * self.log_lik(j)"
   ]
  },
  {
   "cell_type": "markdown",
   "metadata": {},
   "source": [
    "# Setup"
   ]
  },
  {
   "cell_type": "code",
   "execution_count": 159,
   "metadata": {},
   "outputs": [],
   "source": [
    "hmm = HMM(pi, A, X)"
   ]
  },
  {
   "cell_type": "markdown",
   "metadata": {},
   "source": [
    "# E-step"
   ]
  },
  {
   "cell_type": "markdown",
   "metadata": {},
   "source": [
    "## Alpha step"
   ]
  },
  {
   "cell_type": "code",
   "execution_count": 174,
   "metadata": {},
   "outputs": [],
   "source": [
    "alpha = []\n",
    "\n",
    "for m in range(M):\n",
    "    if m == 0:\n",
    "        a_m = [hmm.log_lik(z) * hmm.pi[z] for z in range(K)]\n",
    "    else:\n",
    "        a_m = []\n",
    "        for z_j in range(K):\n",
    "            ll = hmm.log_lik(z_j)\n",
    "            a_m.append(sum([alpha[-1][z_i] * hmm.A[z_i][z_j] for z_i in range(K)]))\n",
    "    alpha.append(a_m)\n",
    "alpha = np.array(alpha)"
   ]
  }
 ],
 "metadata": {
  "kernelspec": {
   "display_name": "Python 3",
   "language": "python",
   "name": "python3"
  },
  "language_info": {
   "codemirror_mode": {
    "name": "ipython",
    "version": 3
   },
   "file_extension": ".py",
   "mimetype": "text/x-python",
   "name": "python",
   "nbconvert_exporter": "python",
   "pygments_lexer": "ipython3",
   "version": "3.7.1"
  }
 },
 "nbformat": 4,
 "nbformat_minor": 2
}
