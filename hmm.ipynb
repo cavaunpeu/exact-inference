{
 "cells": [
  {
   "cell_type": "code",
   "execution_count": 343,
   "metadata": {},
   "outputs": [],
   "source": [
    "import numpy as np\n",
    "\n",
    "import torch\n",
    "from torch import nn\n",
    "from torch.distributions import Dirichlet, Normal\n",
    "import torch.nn.functional as F\n",
    "from torch.optim import Adam"
   ]
  },
  {
   "cell_type": "code",
   "execution_count": 344,
   "metadata": {},
   "outputs": [],
   "source": [
    "K = 5  # number of latent state\n",
    "M = 10  # length of observations\n",
    "N = 50  # number of observations\n",
    "\n",
    "sd = .05  # standard deviation on gaussian observations\n",
    "mu = lambda z: np.log(z + 1)  # the mean of our observation model, i.e. E[p(x|z)]"
   ]
  },
  {
   "cell_type": "markdown",
   "metadata": {},
   "source": [
    "# Create dummy data"
   ]
  },
  {
   "cell_type": "code",
   "execution_count": 345,
   "metadata": {},
   "outputs": [],
   "source": [
    "SEED = 1\n",
    "np.random.seed(SEED)\n",
    "torch.manual_seed(SEED)\n",
    "\n",
    "# Parameters\n",
    "A = F.softmax(torch.randn(K, K), dim=1)  # randomly initialize a transition matrix\n",
    "pi = torch.FloatTensor(K * [1 / K])  # uniform distribution over the initial latent state\n",
    "\n",
    "# Data\n",
    "X, Z = [], []\n",
    "for n in range(N):\n",
    "    obs = []\n",
    "    for m in range(M):\n",
    "        if m == 0:\n",
    "            z = np.random.choice(range(K), p=pi.numpy())\n",
    "        else:\n",
    "            z = np.random.choice(range(K), p=A[z].numpy())\n",
    "        x = mu(z) + sd * np.random.randn()\n",
    "        obs.append((z, x))\n",
    "    z_m, x_m = zip(*obs)\n",
    "    Z.append(z_m)\n",
    "    X.append(x_m)\n",
    "\n",
    "Z = np.array(Z); X = np.array(X)\n",
    "assert Z.shape == (N, M)\n",
    "assert X.shape == (N, M)"
   ]
  },
  {
   "cell_type": "markdown",
   "metadata": {},
   "source": [
    "# Create models"
   ]
  },
  {
   "cell_type": "code",
   "execution_count": 346,
   "metadata": {},
   "outputs": [],
   "source": [
    "class GuassianObservationModel(nn.Module):\n",
    "    \n",
    "    def __init__(self, K, embed_dim, hidden_dim):\n",
    "        super().__init__()\n",
    "        self.embed = nn.Embedding(K, embed_dim)\n",
    "        self.hidden = nn.Linear(embed_dim, hidden_dim)\n",
    "        self.out = nn.Linear(hidden_dim, 1)\n",
    "        \n",
    "    def forward(self, z):\n",
    "        embed = self.embed(z)\n",
    "        return torch.relu(self.out(self.hidden(embed)))  # ReLU, b/c we know obs. means are positive\n",
    "    \n",
    "    \n",
    "class HMM(nn.Module):\n",
    "    \n",
    "    EMBED_DIM = 20\n",
    "    HIDDEN_DIM = 10\n",
    "    \n",
    "    def __init__(self, pi, A, X, seed=1):\n",
    "        super().__init__()\n",
    "        self.pi = pi\n",
    "        self.A = A\n",
    "        self.X = torch.tensor(X, requires_grad=False, dtype=torch.float32)\n",
    "        self.obs_model = GuassianObservationModel(K, self.EMBED_DIM, self.HIDDEN_DIM)\n",
    "        \n",
    "    def log_lik(self, z, m):\n",
    "        \"\"\"\n",
    "        The log-likelihood of *all* of our observed data, in the m-th index of the sequential\n",
    "        observation, conditional on latent code `z`, given a Gaussian observation model.\n",
    "        \n",
    "        This opposite of this quantity is also known as the \"mean-squared error\" between the \n",
    "        observed data and our \"prediction\" thereof, which can be computed via the L2-norm of \n",
    "        the differences between each datum, and the output of our model given `z`.\n",
    "        \"\"\"\n",
    "        z = torch.LongTensor([z])\n",
    "        return -(self.X[:, m] - self.obs_model(z)).norm()\n",
    "        \n",
    "    def factor(self, z_i, z_j, m):\n",
    "        return self.A[z_i][z_j] * self.log_lik(z_j, m)"
   ]
  },
  {
   "cell_type": "markdown",
   "metadata": {},
   "source": [
    "# Setup"
   ]
  },
  {
   "cell_type": "code",
   "execution_count": 347,
   "metadata": {},
   "outputs": [],
   "source": [
    "hmm = HMM(pi, A, X)\n",
    "optim = Adam(hmm.parameters())"
   ]
  },
  {
   "cell_type": "markdown",
   "metadata": {},
   "source": [
    "# E-step"
   ]
  },
  {
   "cell_type": "markdown",
   "metadata": {},
   "source": [
    "## Alpha step"
   ]
  },
  {
   "cell_type": "markdown",
   "metadata": {},
   "source": [
    "The HMM factor is given by: $f(z_{n-1}, z_n) = p(z_n|z_n-1)p(X|z_n)$, where $n$ is\n",
    "our current index on the chain.\n",
    "\n",
    "The message from factor to variable, moving forward along the chain, is given by:\n",
    "\n",
    "$$\n",
    "\\sum\\limits_{z_{n-1}} f(z_{n-1}, z_n) * \\mu_{f_{n-1} \\rightarrow z_{n-1}}\n",
    "$$\n",
    "\n",
    "In an efficient implementation, for each value $z_j$, we would compute $p(X|z_n)$ upfront then multiply it by the summation. Below, we recompute it inside each term of the summation unnecessarily for demonstrative purposes."
   ]
  },
  {
   "cell_type": "code",
   "execution_count": 348,
   "metadata": {},
   "outputs": [],
   "source": [
    "def alpha_step(hmm):\n",
    "    alpha = []\n",
    "\n",
    "    for m in range(M):\n",
    "        if m == 0:\n",
    "            a_m = [hmm.log_lik(z, m) * hmm.pi[z] for z in range(K)]\n",
    "        else:\n",
    "            a_m = [sum(hmm.factor(z_i, z_j, m) * alpha[-1][z_i] for z_i in range(K)) for z_j in range(K)]\n",
    "        alpha.append(a_m)\n",
    "    return torch.FloatTensor(alpha).detach()"
   ]
  },
  {
   "cell_type": "markdown",
   "metadata": {},
   "source": [
    "## Beta step"
   ]
  },
  {
   "cell_type": "code",
   "execution_count": 349,
   "metadata": {},
   "outputs": [],
   "source": [
    "def beta_step(hmm):\n",
    "    beta = []\n",
    "\n",
    "    for m in reversed(range(1, M + 1)):\n",
    "        if m == M:\n",
    "            b_m = np.ones(K)\n",
    "        else:\n",
    "            b_m = [sum(hmm.factor(z_i, z_j, m) * beta[-1][z_j] for z_j in range(K)) for z_i in range(K)]\n",
    "        beta.append(b_m)\n",
    "    return torch.FloatTensor(beta).flip(0).detach()  # NB: we flip the axes back!"
   ]
  },
  {
   "cell_type": "markdown",
   "metadata": {},
   "source": [
    "## Posterior marginals"
   ]
  },
  {
   "cell_type": "code",
   "execution_count": 350,
   "metadata": {},
   "outputs": [],
   "source": [
    "def compute_gamma(alpha, beta):\n",
    "    gamma_ = alpha * beta\n",
    "    evidence = gamma_.sum(1)\n",
    "\n",
    "    # p(X) = \\sum_{z_n} \\alpha(z_n) * \\beta(z_n), for any choice of n!\n",
    "    assert np.allclose(evidence[0], evidence)\n",
    "\n",
    "    gamma = gamma_ / evidence[0]\n",
    "    assert np.allclose(gamma.sum(1), 1.)\n",
    "    \n",
    "    return gamma, evidence[0]"
   ]
  },
  {
   "cell_type": "markdown",
   "metadata": {},
   "source": [
    "## Posterior transition matrices"
   ]
  },
  {
   "cell_type": "code",
   "execution_count": 351,
   "metadata": {},
   "outputs": [],
   "source": [
    "def compute_zeta(alpha, beta):\n",
    "    zeta_ = []\n",
    "    for m in range(1, M):\n",
    "        log_liks = np.array([hmm.log_lik(z, m).item() for z in range(K)])\n",
    "        zeta_m = np.outer(alpha[m-1], beta[m]) * hmm.A.numpy() * log_liks\n",
    "        zeta_.append(zeta_m)\n",
    "\n",
    "    zeta = torch.FloatTensor(zeta_).detach() / evidence[0]\n",
    "    assert all([np.allclose(zta.sum(), 1.) for zta in zeta])\n",
    "    \n",
    "    return zeta"
   ]
  },
  {
   "cell_type": "markdown",
   "metadata": {},
   "source": [
    "## Altogether"
   ]
  },
  {
   "cell_type": "code",
   "execution_count": 352,
   "metadata": {},
   "outputs": [],
   "source": [
    "def e_step(hmm):\n",
    "    alpha = alpha_step(hmm)\n",
    "    beta = beta_step(hmm)\n",
    "    gamma, evidence = compute_gamma(alpha, beta)\n",
    "    zeta = compute_zeta(alpha, beta)\n",
    "    return gamma, evidence, zeta"
   ]
  },
  {
   "cell_type": "markdown",
   "metadata": {},
   "source": [
    "# M-step"
   ]
  },
  {
   "cell_type": "code",
   "execution_count": 353,
   "metadata": {},
   "outputs": [],
   "source": [
    "def m_step(hmm, gamma, zeta):\n",
    "    tgt = 0\n",
    "\n",
    "    tgt += (gamma[0] * hmm.pi.log()).sum()\n",
    "    for zta in zeta:\n",
    "        tgt += (zta * hmm.A.log()).sum()\n",
    "    for m, gma in enumerate(gamma):\n",
    "        for z in range(K):\n",
    "            tgt += gma[z] * hmm.log_lik(z, m)\n",
    "    \n",
    "    return tgt"
   ]
  },
  {
   "cell_type": "markdown",
   "metadata": {},
   "source": [
    "# Train"
   ]
  },
  {
   "cell_type": "code",
   "execution_count": 354,
   "metadata": {},
   "outputs": [],
   "source": [
    "N_EPOCHS = 10"
   ]
  },
  {
   "cell_type": "code",
   "execution_count": 355,
   "metadata": {},
   "outputs": [
    {
     "name": "stdout",
     "output_type": "stream",
     "text": [
      "Epoch 0 | Marginal Likelihood: 434817984.0\n"
     ]
    },
    {
     "ename": "IndexError",
     "evalue": "invalid index of a 0-dim tensor. Use tensor.item() to convert a 0-dim tensor to a Python number",
     "output_type": "error",
     "traceback": [
      "\u001b[0;31m---------------------------------------------------------------------------\u001b[0m",
      "\u001b[0;31mIndexError\u001b[0m                                Traceback (most recent call last)",
      "\u001b[0;32m<ipython-input-355-2a594fda39af>\u001b[0m in \u001b[0;36m<module>\u001b[0;34m\u001b[0m\n\u001b[1;32m      1\u001b[0m \u001b[0;32mfor\u001b[0m \u001b[0mn\u001b[0m \u001b[0;32min\u001b[0m \u001b[0mrange\u001b[0m\u001b[0;34m(\u001b[0m\u001b[0mN_EPOCHS\u001b[0m\u001b[0;34m)\u001b[0m\u001b[0;34m:\u001b[0m\u001b[0;34m\u001b[0m\u001b[0;34m\u001b[0m\u001b[0m\n\u001b[0;32m----> 2\u001b[0;31m     \u001b[0mgamma\u001b[0m\u001b[0;34m,\u001b[0m \u001b[0mevidence\u001b[0m\u001b[0;34m,\u001b[0m \u001b[0mzeta\u001b[0m \u001b[0;34m=\u001b[0m \u001b[0me_step\u001b[0m\u001b[0;34m(\u001b[0m\u001b[0mhmm\u001b[0m\u001b[0;34m)\u001b[0m\u001b[0;34m\u001b[0m\u001b[0;34m\u001b[0m\u001b[0m\n\u001b[0m\u001b[1;32m      3\u001b[0m     \u001b[0mprint\u001b[0m\u001b[0;34m(\u001b[0m\u001b[0;34mf'Epoch {n} | Marginal Likelihood: {evidence}'\u001b[0m\u001b[0;34m)\u001b[0m\u001b[0;34m\u001b[0m\u001b[0;34m\u001b[0m\u001b[0m\n\u001b[1;32m      4\u001b[0m     \u001b[0mtgt\u001b[0m \u001b[0;34m=\u001b[0m \u001b[0mm_step\u001b[0m\u001b[0;34m(\u001b[0m\u001b[0mhmm\u001b[0m\u001b[0;34m,\u001b[0m \u001b[0mgamma\u001b[0m\u001b[0;34m,\u001b[0m \u001b[0mzeta\u001b[0m\u001b[0;34m)\u001b[0m\u001b[0;34m\u001b[0m\u001b[0;34m\u001b[0m\u001b[0m\n\u001b[1;32m      5\u001b[0m     \u001b[0mtgt\u001b[0m\u001b[0;34m.\u001b[0m\u001b[0mbackward\u001b[0m\u001b[0;34m(\u001b[0m\u001b[0;34m)\u001b[0m\u001b[0;34m\u001b[0m\u001b[0;34m\u001b[0m\u001b[0m\n",
      "\u001b[0;32m<ipython-input-352-be930072f749>\u001b[0m in \u001b[0;36me_step\u001b[0;34m(hmm)\u001b[0m\n\u001b[1;32m      3\u001b[0m     \u001b[0mbeta\u001b[0m \u001b[0;34m=\u001b[0m \u001b[0mbeta_step\u001b[0m\u001b[0;34m(\u001b[0m\u001b[0mhmm\u001b[0m\u001b[0;34m)\u001b[0m\u001b[0;34m\u001b[0m\u001b[0;34m\u001b[0m\u001b[0m\n\u001b[1;32m      4\u001b[0m     \u001b[0mgamma\u001b[0m\u001b[0;34m,\u001b[0m \u001b[0mevidence\u001b[0m \u001b[0;34m=\u001b[0m \u001b[0mcompute_gamma\u001b[0m\u001b[0;34m(\u001b[0m\u001b[0malpha\u001b[0m\u001b[0;34m,\u001b[0m \u001b[0mbeta\u001b[0m\u001b[0;34m)\u001b[0m\u001b[0;34m\u001b[0m\u001b[0;34m\u001b[0m\u001b[0m\n\u001b[0;32m----> 5\u001b[0;31m     \u001b[0mzeta\u001b[0m \u001b[0;34m=\u001b[0m \u001b[0mcompute_zeta\u001b[0m\u001b[0;34m(\u001b[0m\u001b[0malpha\u001b[0m\u001b[0;34m,\u001b[0m \u001b[0mbeta\u001b[0m\u001b[0;34m)\u001b[0m\u001b[0;34m\u001b[0m\u001b[0;34m\u001b[0m\u001b[0m\n\u001b[0m\u001b[1;32m      6\u001b[0m     \u001b[0;32mreturn\u001b[0m \u001b[0mgamma\u001b[0m\u001b[0;34m,\u001b[0m \u001b[0mevidence\u001b[0m\u001b[0;34m,\u001b[0m \u001b[0mzeta\u001b[0m\u001b[0;34m\u001b[0m\u001b[0;34m\u001b[0m\u001b[0m\n",
      "\u001b[0;32m<ipython-input-351-2a28fe3d3fb2>\u001b[0m in \u001b[0;36mcompute_zeta\u001b[0;34m(alpha, beta)\u001b[0m\n\u001b[1;32m      6\u001b[0m         \u001b[0mzeta_\u001b[0m\u001b[0;34m.\u001b[0m\u001b[0mappend\u001b[0m\u001b[0;34m(\u001b[0m\u001b[0mzeta_m\u001b[0m\u001b[0;34m)\u001b[0m\u001b[0;34m\u001b[0m\u001b[0;34m\u001b[0m\u001b[0m\n\u001b[1;32m      7\u001b[0m \u001b[0;34m\u001b[0m\u001b[0m\n\u001b[0;32m----> 8\u001b[0;31m     \u001b[0mzeta\u001b[0m \u001b[0;34m=\u001b[0m \u001b[0mtorch\u001b[0m\u001b[0;34m.\u001b[0m\u001b[0mFloatTensor\u001b[0m\u001b[0;34m(\u001b[0m\u001b[0mzeta_\u001b[0m\u001b[0;34m)\u001b[0m\u001b[0;34m.\u001b[0m\u001b[0mdetach\u001b[0m\u001b[0;34m(\u001b[0m\u001b[0;34m)\u001b[0m \u001b[0;34m/\u001b[0m \u001b[0mevidence\u001b[0m\u001b[0;34m[\u001b[0m\u001b[0;36m0\u001b[0m\u001b[0;34m]\u001b[0m\u001b[0;34m\u001b[0m\u001b[0;34m\u001b[0m\u001b[0m\n\u001b[0m\u001b[1;32m      9\u001b[0m     \u001b[0;32massert\u001b[0m \u001b[0mall\u001b[0m\u001b[0;34m(\u001b[0m\u001b[0;34m[\u001b[0m\u001b[0mnp\u001b[0m\u001b[0;34m.\u001b[0m\u001b[0mallclose\u001b[0m\u001b[0;34m(\u001b[0m\u001b[0mzta\u001b[0m\u001b[0;34m.\u001b[0m\u001b[0msum\u001b[0m\u001b[0;34m(\u001b[0m\u001b[0;34m)\u001b[0m\u001b[0;34m,\u001b[0m \u001b[0;36m1.\u001b[0m\u001b[0;34m)\u001b[0m \u001b[0;32mfor\u001b[0m \u001b[0mzta\u001b[0m \u001b[0;32min\u001b[0m \u001b[0mzeta\u001b[0m\u001b[0;34m]\u001b[0m\u001b[0;34m)\u001b[0m\u001b[0;34m\u001b[0m\u001b[0;34m\u001b[0m\u001b[0m\n\u001b[1;32m     10\u001b[0m \u001b[0;34m\u001b[0m\u001b[0m\n",
      "\u001b[0;31mIndexError\u001b[0m: invalid index of a 0-dim tensor. Use tensor.item() to convert a 0-dim tensor to a Python number"
     ]
    }
   ],
   "source": [
    "for n in range(N_EPOCHS):\n",
    "    gamma, evidence, zeta = e_step(hmm)\n",
    "    print(f'Epoch {n} | Marginal Likelihood: {evidence}')\n",
    "    tgt = m_step(hmm, gamma, zeta)\n",
    "    tgt.backward()\n",
    "    optim.step()"
   ]
  },
  {
   "cell_type": "markdown",
   "metadata": {},
   "source": [
    "# Max-sum (Viterbi algorithm)"
   ]
  },
  {
   "cell_type": "markdown",
   "metadata": {},
   "source": [
    "### Pass max-messages forward"
   ]
  },
  {
   "cell_type": "code",
   "execution_count": 301,
   "metadata": {},
   "outputs": [],
   "source": [
    "omega = []\n",
    "\n",
    "for m in range(M):\n",
    "    if m == 0:\n",
    "        o_m = [hmm.pi[m].log() + hmm.log_lik(z, m) for z in range(K)]\n",
    "        o_m_idx = [None] * len(o_m)\n",
    "    else:\n",
    "        o_m = []\n",
    "        o_m_idx = []\n",
    "        for z_j in range(K):\n",
    "            ll = hmm.log_lik(z_j, m)\n",
    "            mx, mx_idx = torch.tensor([ll + hmm.A[z_i][z_j] + omega[-1][z_i][0] for z_i in range(K)]).max(0)\n",
    "            o_m.append(mx)\n",
    "            o_m_idx.append(mx_idx)\n",
    "    o = [(t.item(), i.item()) if i is not None else (t.item(), i) for t, i in zip(o_m, o_m_idx)]\n",
    "    omega.append(o)"
   ]
  },
  {
   "cell_type": "markdown",
   "metadata": {},
   "source": [
    "### Backtrack"
   ]
  },
  {
   "cell_type": "code",
   "execution_count": 302,
   "metadata": {},
   "outputs": [
    {
     "name": "stdout",
     "output_type": "stream",
     "text": [
      "Max val: -73.41764831542969\n",
      "Maximizing configs: [[0, 0, 0, 0, 0, 0, 0, 0, 0, 0]]\n"
     ]
    }
   ],
   "source": [
    "m = M\n",
    "configs = []\n",
    "while omega:\n",
    "    o_m = omega.pop()\n",
    "    vals, idxs = zip(*o_m)\n",
    "    if all([i is not None for i in idxs]):\n",
    "        if m == M:\n",
    "            max_val = max(vals)\n",
    "            for i, v in enumerate(vals):\n",
    "                if v == max_val:\n",
    "                    configs.append([i, idxs[i]])\n",
    "        else:\n",
    "            for c in configs:\n",
    "                phi = c[-1]\n",
    "                c.append(idxs[phi])\n",
    "        m -= 1\n",
    "        \n",
    "print(f'Max val: {max_val}')\n",
    "print(f'Maximizing configs: {configs}')"
   ]
  }
 ],
 "metadata": {
  "kernelspec": {
   "display_name": "Python 3",
   "language": "python",
   "name": "python3"
  },
  "language_info": {
   "codemirror_mode": {
    "name": "ipython",
    "version": 3
   },
   "file_extension": ".py",
   "mimetype": "text/x-python",
   "name": "python",
   "nbconvert_exporter": "python",
   "pygments_lexer": "ipython3",
   "version": "3.7.1"
  }
 },
 "nbformat": 4,
 "nbformat_minor": 2
}
