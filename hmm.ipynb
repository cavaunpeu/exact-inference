{
 "cells": [
  {
   "cell_type": "code",
   "execution_count": 94,
   "metadata": {},
   "outputs": [],
   "source": [
    "import numpy as np\n",
    "import torch\n",
    "from torch import nn\n",
    "from torch.distributions import Dirichlet, Normal\n",
    "import torch.nn.functional as F\n",
    "from torch.optim import Adam"
   ]
  },
  {
   "cell_type": "code",
   "execution_count": 223,
   "metadata": {},
   "outputs": [],
   "source": [
    "K = 5  # number of latent state\n",
    "M = 10  # length of observations\n",
    "N = 2  # number of observations\n",
    "\n",
    "sd = 1  # standard deviation on gaussian observations\n",
    "mu = lambda z: np.log(z + 1)  # the mean of our observation model, i.e. E[p(x|z)]"
   ]
  },
  {
   "cell_type": "markdown",
   "metadata": {},
   "source": [
    "# Generate data"
   ]
  },
  {
   "cell_type": "code",
   "execution_count": 224,
   "metadata": {},
   "outputs": [],
   "source": [
    "SEED = 1\n",
    "np.random.seed(SEED)\n",
    "torch.manual_seed(SEED)\n",
    "\n",
    "# Parameters\n",
    "A = F.softmax(torch.randn(K, K), dim=-1)  # randomly initialize a transition matrix\n",
    "pi = F.softmax(torch.randn(K), dim=-1)  # randomly initialize a distribution over the initial latent state\n",
    "\n",
    "# Data\n",
    "X, Z = [], []\n",
    "for n in range(N):\n",
    "    obs = []\n",
    "    for m in range(M):\n",
    "        if m == 0:\n",
    "            z = np.random.choice(range(K), p=pi.numpy())\n",
    "        else:\n",
    "            z = np.random.choice(range(K), p=A[z].numpy())\n",
    "        x = mu(z) + sd * np.random.randn()\n",
    "        obs.append((z, x))\n",
    "    z_m, x_m = zip(*obs)\n",
    "    Z.append(z_m)\n",
    "    X.append(x_m)\n",
    "\n",
    "Z = np.array(Z); X = np.array(X)\n",
    "assert Z.shape == (N, M)\n",
    "assert X.shape == (N, M)"
   ]
  },
  {
   "cell_type": "markdown",
   "metadata": {},
   "source": [
    "## Print first observation"
   ]
  },
  {
   "cell_type": "code",
   "execution_count": 225,
   "metadata": {},
   "outputs": [
    {
     "name": "stdout",
     "output_type": "stream",
     "text": [
      "m: 0 | p(z_m):       2 | p(x_m|2): 0.296\n",
      "m: 1 | p(z_m|z_m-1): 0 | p(x_m|0): -0.449\n",
      "m: 2 | p(z_m|z_m-1): 1 | p(x_m|1): -0.413\n",
      "m: 3 | p(z_m|z_m-1): 4 | p(x_m|4): -0.0451\n",
      "m: 4 | p(z_m|z_m-1): 3 | p(x_m|3): 0.369\n",
      "m: 5 | p(z_m|z_m-1): 4 | p(x_m|4): 2.25\n",
      "m: 6 | p(z_m|z_m-1): 0 | p(x_m|0): -0.86\n",
      "m: 7 | p(z_m|z_m-1): 3 | p(x_m|3): 3.16\n",
      "m: 8 | p(z_m|z_m-1): 1 | p(x_m|1): 1.26\n",
      "m: 9 | p(z_m|z_m-1): 4 | p(x_m|4): 1.04\n"
     ]
    }
   ],
   "source": [
    "m = 0\n",
    "x, z = X[m], Z[m]\n",
    "\n",
    "for m, (z_m, x_m) in enumerate(zip(z, x)):\n",
    "    if m == 0:\n",
    "        print(f'm: {m} | p(z_m):       {z_m} | p(x_m|{z_m}): {x_m:1.3}')\n",
    "    else:\n",
    "        print(f'm: {m} | p(z_m|z_m-1): {z_m} | p(x_m|{z_m}): {x_m:1.3}')"
   ]
  },
  {
   "cell_type": "markdown",
   "metadata": {},
   "source": [
    "# Create models"
   ]
  },
  {
   "cell_type": "code",
   "execution_count": 226,
   "metadata": {},
   "outputs": [],
   "source": [
    "class GuassianObservationModel(nn.Module):\n",
    "    \n",
    "    def __init__(self, K, embed_dim, hidden_dim):\n",
    "        super().__init__()\n",
    "#         self.embed = nn.Embedding(K, embed_dim)\n",
    "#         self.hidden = nn.Linear(embed_dim, hidden_dim)\n",
    "#         self.out = nn.Linear(hidden_dim, 1)\n",
    "        self.mu = nn.Parameter(torch.ones(K))\n",
    "        \n",
    "    def forward(self, z):\n",
    "#         embed = self.embed(z)\n",
    "#         return torch.relu(self.out(self.hidden(embed)))  # ReLU, b/c we know obs. means are positive\n",
    "        return self.mu[z]\n",
    "\n",
    "\n",
    "class HMM:\n",
    "    \n",
    "    EMBED_DIM = 10\n",
    "    HIDDEN_DIM = 5\n",
    "    OBS_MODEL_STDDEV = 1\n",
    "    \n",
    "    def __init__(self, pi, A, X, seed=1):\n",
    "        self.pi = torch.ones(K) / K\n",
    "        self.A = torch.ones(K, K) / K\n",
    "        self.mu = np.zeros(K)\n",
    "        self.X = torch.FloatTensor(X)\n",
    "        \n",
    "    def lik(self, z, x):\n",
    "        \"\"\"\n",
    "        The likelihood of *all* of our observed data, in the m-th index of the sequential\n",
    "        observation, conditional on latent code `z`, given a Gaussian observation model.\n",
    "        \"\"\"\n",
    "        x = torch.FloatTensor([x])\n",
    "        return Normal(loc=self.mu[z], scale=self.OBS_MODEL_STDDEV).log_prob(x).exp()\n",
    "\n",
    "    def factor(self, z_i, z_j, z):\n",
    "        return self.A[z_i][z_j] * self.lik(z_j, z)\n",
    "    \n",
    "    \n",
    "class NeuralHMM(nn.Module):\n",
    "    \n",
    "    EMBED_DIM = 10\n",
    "    HIDDEN_DIM = 5\n",
    "    OBS_MODEL_STDDEV = 1\n",
    "    \n",
    "    def __init__(self, pi, A, X, seed=1):\n",
    "        super().__init__()\n",
    "        self._pi = nn.Parameter(torch.ones(K) / K)\n",
    "        self._A = nn.Parameter(torch.ones(K, K) / K)\n",
    "        self.X = torch.FloatTensor(X)\n",
    "        self.obs_model = GuassianObservationModel(K, self.EMBED_DIM, self.HIDDEN_DIM)\n",
    "        \n",
    "    @property\n",
    "    def pi(self):\n",
    "        return F.softmax(self._pi, dim=-1)\n",
    "    \n",
    "    @property\n",
    "    def A(self):\n",
    "        return F.softmax(self._A, dim=-1)\n",
    "        \n",
    "    def lik(self, z, m):\n",
    "        \"\"\"\n",
    "        The likelihood of *all* of our observed data, in the m-th index of the sequential\n",
    "        observation, conditional on latent code `z`, given a Gaussian observation model.\n",
    "        \"\"\"\n",
    "        z = torch.LongTensor([z])\n",
    "        X_m = self.X[:, m]\n",
    "        return Normal(loc=self.obs_model(z), scale=self.OBS_MODEL_STDDEV).log_prob(X_m).sum().exp()\n",
    "\n",
    "    def factor(self, z_i, z_j, x):\n",
    "        return self.A[z_i][z_j] * self.lik(z_j, m)"
   ]
  },
  {
   "cell_type": "markdown",
   "metadata": {},
   "source": [
    "# E-step"
   ]
  },
  {
   "cell_type": "markdown",
   "metadata": {},
   "source": [
    "## Alpha step"
   ]
  },
  {
   "cell_type": "markdown",
   "metadata": {},
   "source": [
    "The HMM factor is given by: $f(z_{n-1}, z_n) = p(z_n|z_n-1)p(X|z_n)$, where $n$ is\n",
    "our current index on the chain.\n",
    "\n",
    "The message from factor to variable, moving forward along the chain, is given by:\n",
    "\n",
    "$$\n",
    "\\sum\\limits_{z_{n-1}} f(z_{n-1}, z_n) * \\mu_{f_{n-1} \\rightarrow z_{n-1}}\n",
    "$$\n",
    "\n",
    "In an efficient implementation, for each value $z_j$, we would compute $p(X|z_n)$ upfront then multiply it by the summation. Below, we recompute it inside each term of the summation unnecessarily for demonstrative purposes."
   ]
  },
  {
   "cell_type": "code",
   "execution_count": 227,
   "metadata": {},
   "outputs": [],
   "source": [
    "# K = 2\n",
    "# M = 5\n",
    "\n",
    "\n",
    "# class HMM:\n",
    "    \n",
    "#     EMBED_DIM = 10\n",
    "#     HIDDEN_DIM = 5\n",
    "#     OBS_MODEL_STDDEV = 1\n",
    "    \n",
    "#     def __init__(self, pi, A, X, B, seed=1):\n",
    "#         self.pi = pi\n",
    "#         self.A = A\n",
    "#         self.X = X\n",
    "#         self.B = B\n",
    "        \n",
    "#     def lik(self, z, m):\n",
    "#         \"\"\"\n",
    "#         The likelihood of *all* of our observed data, in the m-th index of the sequential\n",
    "#         observation, conditional on latent code `z`, given a Gaussian observation model.\n",
    "#         \"\"\"\n",
    "#         return self.B[z][self.X[m]]\n",
    "\n",
    "#     def factor(self, z_i, z_j, m):\n",
    "#         return self.A[z_i][z_j] * self.lik(z_j, m)\n",
    "\n",
    "# A = np.array([[.7, .3], [.3, .7]])\n",
    "# B = np.array([[.9, .1], [.2, .8]])\n",
    "# X = [0, 0, 1, 0, 0]\n",
    "# pi = np.array([.5, .5])\n",
    "\n",
    "# hmm = HMM(pi, A, X, B)"
   ]
  },
  {
   "cell_type": "code",
   "execution_count": 228,
   "metadata": {},
   "outputs": [],
   "source": [
    "def alpha_step(hmm, x):\n",
    "    alpha = [hmm.pi]\n",
    "    for m in range(M):\n",
    "        a_m = [sum(hmm.factor(z_i, z_j, x[m]) * alpha[-1][z_i] for z_i in range(K)) for z_j in range(K)]\n",
    "        alpha.append(torch.FloatTensor(a_m))\n",
    "    return torch.stack(alpha).clone()"
   ]
  },
  {
   "cell_type": "markdown",
   "metadata": {},
   "source": [
    "## Beta step"
   ]
  },
  {
   "cell_type": "code",
   "execution_count": 229,
   "metadata": {},
   "outputs": [],
   "source": [
    "def beta_step(hmm, x):\n",
    "    beta = [torch.ones(K)]\n",
    "    for m in reversed(range(M)):\n",
    "        b_m = [sum(hmm.factor(z_i, z_j, x[m]) * beta[-1][z_j] for z_j in range(K)) for z_i in range(K)]\n",
    "        beta.append(torch.FloatTensor(b_m))\n",
    "    return torch.stack(beta).flip(0).clone()  # NB: we flip the axes back!"
   ]
  },
  {
   "cell_type": "markdown",
   "metadata": {},
   "source": [
    "## Posterior marginals"
   ]
  },
  {
   "cell_type": "code",
   "execution_count": 230,
   "metadata": {},
   "outputs": [],
   "source": [
    "def compute_gamma(alpha, beta):\n",
    "    gamma_ = alpha * beta\n",
    "    evidence = gamma_.sum(1)\n",
    "\n",
    "    # p(X) = \\sum_{z_n} \\alpha(z_n) * \\beta(z_n), for any choice of n!\n",
    "    assert np.allclose(evidence[0], evidence)\n",
    "\n",
    "    gamma = gamma_ / evidence[0]\n",
    "    assert np.allclose(gamma.sum(1), 1.)\n",
    "    \n",
    "    return gamma, evidence[0]"
   ]
  },
  {
   "cell_type": "markdown",
   "metadata": {},
   "source": [
    "## Posterior transition matrices"
   ]
  },
  {
   "cell_type": "code",
   "execution_count": 231,
   "metadata": {},
   "outputs": [],
   "source": [
    "def compute_zeta(alpha, beta, evidence, x):\n",
    "    zeta_ = []\n",
    "    for m in range(M):\n",
    "        liks = np.array([hmm.lik(z, x[m]).item() for z in range(K)])\n",
    "        zeta_m = np.outer(alpha[m-1], beta[m]) * hmm.A.detach().numpy() * liks\n",
    "        zeta_.append(zeta_m)\n",
    "\n",
    "    zeta = torch.FloatTensor(zeta_).clone() / evidence\n",
    "#     assert all([np.allclose(zta.sum(), 1.) for zta in zeta])\n",
    "    \n",
    "    return zeta"
   ]
  },
  {
   "cell_type": "markdown",
   "metadata": {},
   "source": [
    "## Altogether"
   ]
  },
  {
   "cell_type": "code",
   "execution_count": 232,
   "metadata": {},
   "outputs": [],
   "source": [
    "def e_step(hmm, x):\n",
    "    alpha = alpha_step(hmm, x)\n",
    "    beta = beta_step(hmm, x)\n",
    "    gamma, evidence = compute_gamma(alpha, beta)\n",
    "    zeta = compute_zeta(alpha, beta, evidence, x)\n",
    "    return gamma, evidence, zeta"
   ]
  },
  {
   "cell_type": "markdown",
   "metadata": {},
   "source": [
    "# Vanilla HMM"
   ]
  },
  {
   "cell_type": "markdown",
   "metadata": {},
   "source": [
    "## Train"
   ]
  },
  {
   "cell_type": "code",
   "execution_count": 239,
   "metadata": {},
   "outputs": [
    {
     "name": "stdout",
     "output_type": "stream",
     "text": [
      "Epoch 0 | P(X): 3.8057e-09\n",
      "Epoch 1 | P(X): 7.1645e-09\n",
      "Epoch 2 | P(X): 7.1645e-09\n",
      "Epoch 3 | P(X): 7.1645e-09\n",
      "Epoch 4 | P(X): 7.1645e-09\n",
      "Epoch 5 | P(X): 7.1645e-09\n",
      "Epoch 6 | P(X): 7.1645e-09\n",
      "Epoch 7 | P(X): 7.1645e-09\n",
      "Epoch 8 | P(X): 7.1645e-09\n",
      "Epoch 9 | P(X): 7.1645e-09\n",
      "Epoch 10 | P(X): 7.1645e-09\n",
      "Epoch 11 | P(X): 7.1645e-09\n",
      "Epoch 12 | P(X): 7.1645e-09\n",
      "Epoch 13 | P(X): 7.1645e-09\n",
      "Epoch 14 | P(X): 7.1645e-09\n",
      "Epoch 15 | P(X): 7.1645e-09\n",
      "Epoch 16 | P(X): 7.1645e-09\n",
      "Epoch 17 | P(X): 7.1645e-09\n",
      "Epoch 18 | P(X): 7.1645e-09\n",
      "Epoch 19 | P(X): 7.1645e-09\n"
     ]
    }
   ],
   "source": [
    "N_EPOCHS = 20\n",
    "PRINT_EVERY = True\n",
    "LR = .001\n",
    "\n",
    "hmm = HMM(pi, A, X)\n",
    "\n",
    "\n",
    "for n in range(N_EPOCHS):\n",
    "    gamma, evidence, zeta = 0, 0, 0\n",
    "    for x in X:\n",
    "        g, e, z = e_step(hmm, x)\n",
    "        gamma += g\n",
    "        evidence += e\n",
    "        zeta += z\n",
    "    gamma /= len(X)\n",
    "    evidence /= len(X)\n",
    "    zeta /= len(X)\n",
    "    \n",
    "    gamma = gamma[1:, :]\n",
    "    \n",
    "    # M-step (update parameters)\n",
    "    ## Pi\n",
    "    hmm.pi = gamma[0] / gamma[0].sum()\n",
    "    ## A\n",
    "    for z_i in range(K):\n",
    "        for z_j in range(K):\n",
    "            hmm.A[z_i][z_j] = sum([zta[z_i, z_j] for zta in zeta]) / sum([zta[z_i].sum() for zta in zeta])\n",
    "    ## mu\n",
    "    hmm.mu = [(hmm.X * gamma[:, k]).mean().item() / gamma[:, k].sum().item() for k in range(K)]\n",
    "    \n",
    "    assert np.allclose(hmm.pi.sum(), 1.)\n",
    "    assert np.allclose(hmm.A.sum(1), 1.)\n",
    "    \n",
    "    if (n % (N_EPOCHS / 10) == 0 and n != 0) or PRINT_EVERY:\n",
    "        print(f'Epoch {n} | P(X): {evidence:1.5}')"
   ]
  },
  {
   "cell_type": "markdown",
   "metadata": {},
   "source": [
    "# M-step"
   ]
  },
  {
   "cell_type": "code",
   "execution_count": null,
   "metadata": {},
   "outputs": [],
   "source": [
    "def m_step(hmm, gamma, zeta):\n",
    "    tgt = 0\n",
    "\n",
    "    tgt += (gamma[0] * hmm.pi.log()).sum()\n",
    "    for zta in zeta:\n",
    "        tgt += (zta * hmm.A.log()).sum()\n",
    "    for m, gma in enumerate(gamma):\n",
    "        for z in range(K):\n",
    "            tgt += gma[z] * hmm.lik(z, m).log()\n",
    "    \n",
    "    return tgt"
   ]
  },
  {
   "cell_type": "markdown",
   "metadata": {},
   "source": [
    "# Neural HMM"
   ]
  },
  {
   "cell_type": "markdown",
   "metadata": {},
   "source": [
    "## Train"
   ]
  },
  {
   "cell_type": "code",
   "execution_count": null,
   "metadata": {},
   "outputs": [],
   "source": [
    "import numpy as np\n",
    "from hmmlearn import hmm\n",
    "np.random.seed(42)\n",
    "\n",
    "model = hmm.GaussianHMM(n_components=3, covariance_type=\"full\")\n",
    "model.startprob_ = np.array([0.6, 0.3, 0.1])\n",
    "model.transmat_ = np.array([[0.7, 0.2, 0.1], [0.3, 0.5, 0.2], [0.3, 0.3, 0.4]])\n",
    "model.means_ = np.array([[0.0, 0.0], [3.0, -3.0], [5.0, 10.0]])\n",
    "model.covars_ = np.tile(np.identity(2), (3, 1, 1))"
   ]
  },
  {
   "cell_type": "code",
   "execution_count": null,
   "metadata": {},
   "outputs": [],
   "source": [
    "X = np.concatenate([X1, X2])\n",
    "lengths = [len(X1), len(X2)]\n",
    "model = hmm.GaussianHMM(n_components=3)\n",
    "model.fit(X, lengths)  "
   ]
  },
  {
   "cell_type": "code",
   "execution_count": null,
   "metadata": {},
   "outputs": [],
   "source": [
    "X = np.random.randn(100, 3)\n",
    "\n",
    "lengths = [3] * 100"
   ]
  },
  {
   "cell_type": "code",
   "execution_count": null,
   "metadata": {},
   "outputs": [],
   "source": [
    "model.fit(X, lengths)"
   ]
  },
  {
   "cell_type": "code",
   "execution_count": null,
   "metadata": {},
   "outputs": [],
   "source": [
    "N_EPOCHS = 100\n",
    "LR = .01\n",
    "\n",
    "hmm = NeuralHMM(pi, A, X)\n",
    "optim = Adam(hmm.parameters(), lr=LR)\n",
    "\n",
    "for n in range(N_EPOCHS):\n",
    "    gamma, evidence, zeta = e_step(hmm)\n",
    "    tgt = m_step(hmm, gamma, zeta)\n",
    "    (-tgt).backward()\n",
    "    optim.step()\n",
    "    \n",
    "    assert np.allclose(hmm.pi.sum().detach().numpy(), 1.)\n",
    "    assert np.allclose(hmm.A.sum(1).detach().numpy(), 1.)\n",
    "    \n",
    "    if n % (N_EPOCHS / 10) == 0 and n != 0:\n",
    "        print(f'Epoch {n} | P(X): {evidence:1.5}')"
   ]
  },
  {
   "cell_type": "markdown",
   "metadata": {},
   "source": [
    "# Max-sum (Viterbi algorithm)"
   ]
  },
  {
   "cell_type": "markdown",
   "metadata": {},
   "source": [
    "### Pass max-messages forward"
   ]
  },
  {
   "cell_type": "code",
   "execution_count": null,
   "metadata": {},
   "outputs": [],
   "source": [
    "omega = []\n",
    "\n",
    "for m in range(M):\n",
    "    if m == 0:\n",
    "        o_m = [hmm.pi[m].log() + hmm.lik(z, m) for z in range(K)]\n",
    "        o_m_idx = [None] * len(o_m)\n",
    "    else:\n",
    "        o_m = []\n",
    "        o_m_idx = []\n",
    "        for z_j in range(K):\n",
    "            ll = hmm.lik(z_j, m)\n",
    "            mx, mx_idx = torch.tensor([ll + hmm.A[z_i][z_j] + omega[-1][z_i][0] for z_i in range(K)]).max(0)\n",
    "            o_m.append(mx)\n",
    "            o_m_idx.append(mx_idx)\n",
    "    o = [(t.item(), i.item()) if i is not None else (t.item(), i) for t, i in zip(o_m, o_m_idx)]\n",
    "    omega.append(o)"
   ]
  },
  {
   "cell_type": "markdown",
   "metadata": {},
   "source": [
    "### Backtrack"
   ]
  },
  {
   "cell_type": "code",
   "execution_count": null,
   "metadata": {},
   "outputs": [],
   "source": [
    "m = M\n",
    "configs = []\n",
    "while omega:\n",
    "    o_m = omega.pop()\n",
    "    vals, idxs = zip(*o_m)\n",
    "    if all([i is not None for i in idxs]):\n",
    "        if m == M:\n",
    "            max_val = max(vals)\n",
    "            for i, v in enumerate(vals):\n",
    "                if v == max_val:\n",
    "                    configs.append([i, idxs[i]])\n",
    "        else:\n",
    "            for c in configs:\n",
    "                phi = c[-1]\n",
    "                c.append(idxs[phi])\n",
    "        m -= 1\n",
    "        \n",
    "print(f'Max val: {max_val}')\n",
    "print(f'Maximizing configs: {configs}')"
   ]
  }
 ],
 "metadata": {
  "kernelspec": {
   "display_name": "Python 3",
   "language": "python",
   "name": "python3"
  },
  "language_info": {
   "codemirror_mode": {
    "name": "ipython",
    "version": 3
   },
   "file_extension": ".py",
   "mimetype": "text/x-python",
   "name": "python",
   "nbconvert_exporter": "python",
   "pygments_lexer": "ipython3",
   "version": "3.7.1"
  }
 },
 "nbformat": 4,
 "nbformat_minor": 2
}
