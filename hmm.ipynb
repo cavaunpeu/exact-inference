{
 "cells": [
  {
   "cell_type": "code",
   "execution_count": 1,
   "metadata": {},
   "outputs": [],
   "source": [
    "import numpy as np\n",
    "import torch\n",
    "from torch import nn\n",
    "from torch.distributions import Dirichlet, Normal\n",
    "import torch.nn.functional as F\n",
    "from torch.optim import Adam"
   ]
  },
  {
   "cell_type": "code",
   "execution_count": 2,
   "metadata": {},
   "outputs": [],
   "source": [
    "K = 5  # number of latent state\n",
    "M = 10  # length of observations\n",
    "N = 8  # number of observations\n",
    "\n",
    "sd = 1  # standard deviation on gaussian observations\n",
    "mu = [np.log(z + 1) for z in range(K)]  # the mean of our observation model, i.e. E[p(x|z)]"
   ]
  },
  {
   "cell_type": "markdown",
   "metadata": {},
   "source": [
    "# Generate data"
   ]
  },
  {
   "cell_type": "code",
   "execution_count": 3,
   "metadata": {},
   "outputs": [],
   "source": [
    "SEED = 1\n",
    "np.random.seed(SEED)\n",
    "torch.manual_seed(SEED)\n",
    "\n",
    "# Parameters\n",
    "A = F.softmax(torch.randn(K, K), dim=-1)  # randomly initialize a transition matrix\n",
    "pi = F.softmax(torch.randn(K), dim=-1)  # randomly initialize a distribution over the initial latent state\n",
    "\n",
    "# Data\n",
    "X, Z = [], []\n",
    "for n in range(N):\n",
    "    obs = []\n",
    "    for m in range(M):\n",
    "        if m == 0:\n",
    "            z = np.random.choice(range(K), p=pi.numpy())\n",
    "        else:\n",
    "            z = np.random.choice(range(K), p=A[z].numpy())\n",
    "        x = mu[z] + sd * np.random.randn()\n",
    "        obs.append((z, x))\n",
    "    z_m, x_m = zip(*obs)\n",
    "    Z.append(z_m)\n",
    "    X.append(x_m)\n",
    "\n",
    "Z = np.array(Z); X = np.array(X)\n",
    "assert Z.shape == (N, M)\n",
    "assert X.shape == (N, M)"
   ]
  },
  {
   "cell_type": "markdown",
   "metadata": {},
   "source": [
    "## Print first observation"
   ]
  },
  {
   "cell_type": "code",
   "execution_count": 4,
   "metadata": {},
   "outputs": [
    {
     "name": "stdout",
     "output_type": "stream",
     "text": [
      "m: 0 | p(z_m):       2 | p(x_m|2): 0.296\n",
      "m: 1 | p(z_m|z_m-1): 0 | p(x_m|0): -0.449\n",
      "m: 2 | p(z_m|z_m-1): 1 | p(x_m|1): -0.413\n",
      "m: 3 | p(z_m|z_m-1): 4 | p(x_m|4): -0.0451\n",
      "m: 4 | p(z_m|z_m-1): 3 | p(x_m|3): 0.369\n",
      "m: 5 | p(z_m|z_m-1): 4 | p(x_m|4): 2.25\n",
      "m: 6 | p(z_m|z_m-1): 0 | p(x_m|0): -0.86\n",
      "m: 7 | p(z_m|z_m-1): 3 | p(x_m|3): 3.16\n",
      "m: 8 | p(z_m|z_m-1): 1 | p(x_m|1): 1.26\n",
      "m: 9 | p(z_m|z_m-1): 4 | p(x_m|4): 1.04\n"
     ]
    }
   ],
   "source": [
    "n = 0\n",
    "x, z = X[n], Z[n]\n",
    "\n",
    "for m, (z_m, x_m) in enumerate(zip(z, x)):\n",
    "    if m == 0:\n",
    "        print(f'm: {m} | p(z_m):       {z_m} | p(x_m|{z_m}): {x_m:1.3}')\n",
    "    else:\n",
    "        print(f'm: {m} | p(z_m|z_m-1): {z_m} | p(x_m|{z_m}): {x_m:1.3}')\n",
    "        \n",
    "del x, z, m"
   ]
  },
  {
   "cell_type": "markdown",
   "metadata": {},
   "source": [
    "# Create models"
   ]
  },
  {
   "cell_type": "code",
   "execution_count": 5,
   "metadata": {},
   "outputs": [],
   "source": [
    "class GuassianObservationModel(nn.Module):\n",
    "    \n",
    "    def __init__(self, K, embed_dim, hidden_dim):\n",
    "        super().__init__()\n",
    "#         self.embed = nn.Embedding(K, embed_dim)\n",
    "#         self.hidden = nn.Linear(embed_dim, hidden_dim)\n",
    "#         self.out = nn.Linear(hidden_dim, 1)\n",
    "        self.mu = nn.Parameter(torch.ones(K))\n",
    "        \n",
    "    def forward(self, z):\n",
    "#         embed = self.embed(z)\n",
    "#         return torch.relu(self.out(self.hidden(embed)))  # ReLU, b/c we know obs. means are positive\n",
    "        return self.mu[z]\n",
    "\n",
    "\n",
    "class HMM:\n",
    "    \n",
    "    EMBED_DIM = 10\n",
    "    HIDDEN_DIM = 5\n",
    "    OBS_MODEL_STDDEV = sd\n",
    "    \n",
    "    def __init__(self, pi=None, A=None, mu=None, seed=1):\n",
    "        torch.manual_seed(seed)\n",
    "        self.A = A if A is not None else F.softmax(torch.randn(K, K), dim=-1)\n",
    "        self.pi = pi if pi is not None else F.softmax(torch.randn(K), dim=-1)\n",
    "        self.mu = mu if mu is not None else torch.randn(K).abs()\n",
    "        \n",
    "    def lik(self, z, x):\n",
    "        \"\"\"\n",
    "        The likelihood of the given observation `x`, conditional on latent code `z`, \n",
    "        given a Gaussian observation model.\n",
    "        \"\"\"\n",
    "        x = torch.FloatTensor([x])\n",
    "        return Normal(loc=self.mu[z], scale=self.OBS_MODEL_STDDEV).log_prob(x).exp()\n",
    "\n",
    "    def factor(self, z_i, z_j, x):\n",
    "        return self.A[z_i][z_j] * self.lik(z_j, x)\n",
    "    \n",
    "    \n",
    "class NeuralHMM(nn.Module):\n",
    "    \n",
    "    EMBED_DIM = 10\n",
    "    HIDDEN_DIM = 5\n",
    "    OBS_MODEL_STDDEV = 1\n",
    "    \n",
    "    def __init__(self, pi, A, X, seed=1):\n",
    "        super().__init__()\n",
    "        self._pi = nn.Parameter(torch.ones(K) / K)\n",
    "        self._A = nn.Parameter(torch.ones(K, K) / K)\n",
    "        self.X = torch.FloatTensor(X)\n",
    "        self.obs_model = GuassianObservationModel(K, self.EMBED_DIM, self.HIDDEN_DIM)\n",
    "        \n",
    "    @property\n",
    "    def pi(self):\n",
    "        return F.softmax(self._pi, dim=-1)\n",
    "    \n",
    "    @property\n",
    "    def A(self):\n",
    "        return F.softmax(self._A, dim=-1)\n",
    "        \n",
    "    def lik(self, z, m):\n",
    "        \"\"\"\n",
    "        The likelihood of *all* of our observed data, in the m-th index of the sequential\n",
    "        observation, conditional on latent code `z`, given a Gaussian observation model.\n",
    "        \"\"\"\n",
    "        z = torch.LongTensor([z])\n",
    "        X_m = self.X[:, m]\n",
    "        return Normal(loc=self.obs_model(z), scale=self.OBS_MODEL_STDDEV).log_prob(X_m).sum().exp()\n",
    "\n",
    "    def factor(self, z_i, z_j, x):\n",
    "        return self.A[z_i][z_j] * self.lik(z_j, m)"
   ]
  },
  {
   "cell_type": "markdown",
   "metadata": {},
   "source": [
    "# E-step"
   ]
  },
  {
   "cell_type": "markdown",
   "metadata": {},
   "source": [
    "## Alpha step"
   ]
  },
  {
   "cell_type": "markdown",
   "metadata": {},
   "source": [
    "The HMM factor is given by: $f(z_{n-1}, z_n) = p(z_n|z_n-1)p(X|z_n)$, where $n$ is\n",
    "our current index on the chain.\n",
    "\n",
    "The message from factor to variable, moving forward along the chain, is given by:\n",
    "\n",
    "$$\n",
    "\\sum\\limits_{z_{n-1}} f(z_{n-1}, z_n) * \\mu_{f_{n-1} \\rightarrow z_{n-1}}\n",
    "$$\n",
    "\n",
    "In an efficient implementation, for each value $z_j$, we would compute $p(X|z_n)$ upfront then multiply it by the summation. Below, we recompute it inside each term of the summation unnecessarily for demonstrative purposes."
   ]
  },
  {
   "cell_type": "code",
   "execution_count": 6,
   "metadata": {},
   "outputs": [],
   "source": [
    "def alpha_step(model, x):\n",
    "    alpha = []\n",
    "    for m in range(M):\n",
    "        if m == 0:\n",
    "            a_m = [model.pi[z] * model.lik(z, x[m]) for z in range(K)]\n",
    "\n",
    "        else:\n",
    "            a_m = [sum(model.factor(z_i, z_j, x[m]) * alpha[-1][z_i] for z_i in range(K)) for z_j in range(K)]\n",
    "        alpha.append(torch.FloatTensor(a_m))\n",
    "    return torch.stack(alpha)"
   ]
  },
  {
   "cell_type": "markdown",
   "metadata": {},
   "source": [
    "## Beta step"
   ]
  },
  {
   "cell_type": "code",
   "execution_count": 7,
   "metadata": {},
   "outputs": [],
   "source": [
    "def beta_step(model, x):\n",
    "    beta = []\n",
    "    for m in reversed(range(M)):\n",
    "        if m == M - 1:\n",
    "            b_m = [1. for _ in range(K)]\n",
    "        else:\n",
    "            b_m = [sum(model.factor(z_i, z_j, x[m+1]) * beta[-1][z_j] for z_j in range(K)) for z_i in range(K)]\n",
    "        beta.append(torch.FloatTensor(b_m))\n",
    "    return torch.stack(beta).flip(0)  # NB: we flip the axes back!"
   ]
  },
  {
   "cell_type": "markdown",
   "metadata": {},
   "source": [
    "## Posterior marginals"
   ]
  },
  {
   "cell_type": "code",
   "execution_count": 8,
   "metadata": {},
   "outputs": [],
   "source": [
    "def compute_gamma(alpha, beta):\n",
    "    gamma_ = alpha * beta\n",
    "    evd = gamma_.sum(1)\n",
    "    # p(X) = \\sum_{z_n} \\alpha(z_n) * \\beta(z_n), for any choice of n!\n",
    "    assert np.allclose(evd[0], evd)\n",
    "    gamma = gamma_ / evd[0]\n",
    "    assert np.allclose(gamma.sum(1), 1.)\n",
    "    return gamma, evd[0]"
   ]
  },
  {
   "cell_type": "markdown",
   "metadata": {},
   "source": [
    "## Posterior transition matrices"
   ]
  },
  {
   "cell_type": "code",
   "execution_count": 9,
   "metadata": {},
   "outputs": [],
   "source": [
    "def compute_zeta(model, alpha, beta, evd, x):\n",
    "    zeta_ = []\n",
    "    for m in range(M-1):\n",
    "        liks = np.array([model.lik(z, x[m+1]).item() for z in range(K)])\n",
    "        zeta_m = np.outer(alpha[m], beta[m+1]) * model.A.detach().numpy() * liks\n",
    "        zeta_.append(zeta_m)\n",
    "\n",
    "    zeta = torch.FloatTensor(zeta_).clone() / evd\n",
    "    assert all([np.allclose(zta.sum(), 1.) for zta in zeta])\n",
    "    \n",
    "    return zeta"
   ]
  },
  {
   "cell_type": "markdown",
   "metadata": {},
   "source": [
    "## Altogether"
   ]
  },
  {
   "cell_type": "code",
   "execution_count": 10,
   "metadata": {},
   "outputs": [],
   "source": [
    "def e_step(model, x):\n",
    "    alpha = alpha_step(model, x)\n",
    "    beta = beta_step(model, x)\n",
    "    gamma, evd = compute_gamma(alpha, beta)\n",
    "    zeta = compute_zeta(model, alpha, beta, evd, x)\n",
    "    return gamma, evd, zeta"
   ]
  },
  {
   "cell_type": "markdown",
   "metadata": {},
   "source": [
    "## Test"
   ]
  },
  {
   "cell_type": "code",
   "execution_count": 11,
   "metadata": {},
   "outputs": [],
   "source": [
    "from pomegranate import *\n",
    "\n",
    "# Theirs\n",
    "dists = [NormalDistribution(m, sd) for m in mu]\n",
    "trans_mat = A.numpy()\n",
    "starts = pi.numpy()\n",
    "their_model = HiddenMarkovModel.from_matrix(trans_mat, dists, starts)\n",
    "\n",
    "x = X[0]\n",
    "\n",
    "# Ours\n",
    "our_model = HMM(pi=pi, A=A, mu=mu)\n",
    "gamma, evd, zeta = e_step(our_model, x)\n",
    "\n",
    "# Test\n",
    "assert np.allclose(np.exp(their_model.log_probability(x)), evd.item())\n",
    "\n",
    "transitions, emissions = their_model.forward_backward(x)\n",
    "assert np.allclose(np.exp(emissions), gamma)\n",
    "assert np.allclose(transitions[:K, :K], zeta.sum(0))"
   ]
  },
  {
   "cell_type": "markdown",
   "metadata": {},
   "source": [
    "# Vanilla HMM"
   ]
  },
  {
   "cell_type": "markdown",
   "metadata": {},
   "source": [
    "## Train"
   ]
  },
  {
   "cell_type": "code",
   "execution_count": 13,
   "metadata": {},
   "outputs": [
    {
     "name": "stdout",
     "output_type": "stream",
     "text": [
      "Epoch 10 | P(X): 2.9735e-06\n"
     ]
    },
    {
     "ename": "AssertionError",
     "evalue": "",
     "output_type": "error",
     "traceback": [
      "\u001b[0;31m---------------------------------------------------------------------------\u001b[0m",
      "\u001b[0;31mAssertionError\u001b[0m                            Traceback (most recent call last)",
      "\u001b[0;32m<ipython-input-13-909742cfe782>\u001b[0m in \u001b[0;36m<module>\u001b[0;34m\u001b[0m\n\u001b[1;32m     25\u001b[0m     \u001b[0;32massert\u001b[0m \u001b[0mnp\u001b[0m\u001b[0;34m.\u001b[0m\u001b[0mallclose\u001b[0m\u001b[0;34m(\u001b[0m\u001b[0mmodel\u001b[0m\u001b[0;34m.\u001b[0m\u001b[0mpi\u001b[0m\u001b[0;34m.\u001b[0m\u001b[0msum\u001b[0m\u001b[0;34m(\u001b[0m\u001b[0;34m)\u001b[0m\u001b[0;34m,\u001b[0m \u001b[0;36m1.\u001b[0m\u001b[0;34m)\u001b[0m\u001b[0;34m\u001b[0m\u001b[0m\n\u001b[1;32m     26\u001b[0m     \u001b[0;32massert\u001b[0m \u001b[0mnp\u001b[0m\u001b[0;34m.\u001b[0m\u001b[0mallclose\u001b[0m\u001b[0;34m(\u001b[0m\u001b[0mmodel\u001b[0m\u001b[0;34m.\u001b[0m\u001b[0mA\u001b[0m\u001b[0;34m.\u001b[0m\u001b[0msum\u001b[0m\u001b[0;34m(\u001b[0m\u001b[0;36m1\u001b[0m\u001b[0;34m)\u001b[0m\u001b[0;34m,\u001b[0m \u001b[0;36m1.\u001b[0m\u001b[0;34m)\u001b[0m\u001b[0;34m\u001b[0m\u001b[0m\n\u001b[0;32m---> 27\u001b[0;31m     \u001b[0;32massert\u001b[0m \u001b[0mevd\u001b[0m \u001b[0;34m>=\u001b[0m \u001b[0mprev_evd\u001b[0m\u001b[0;34m\u001b[0m\u001b[0m\n\u001b[0m\u001b[1;32m     28\u001b[0m \u001b[0;34m\u001b[0m\u001b[0m\n\u001b[1;32m     29\u001b[0m     \u001b[0;32mif\u001b[0m \u001b[0;34m(\u001b[0m\u001b[0mn\u001b[0m \u001b[0;34m%\u001b[0m \u001b[0;34m(\u001b[0m\u001b[0mN_EPOCHS\u001b[0m \u001b[0;34m/\u001b[0m \u001b[0;36m10\u001b[0m\u001b[0;34m)\u001b[0m \u001b[0;34m==\u001b[0m \u001b[0;36m0\u001b[0m \u001b[0;32mand\u001b[0m \u001b[0mn\u001b[0m \u001b[0;34m!=\u001b[0m \u001b[0;36m0\u001b[0m\u001b[0;34m)\u001b[0m \u001b[0;32mor\u001b[0m \u001b[0mPRINT_EVERY\u001b[0m\u001b[0;34m:\u001b[0m\u001b[0;34m\u001b[0m\u001b[0m\n",
      "\u001b[0;31mAssertionError\u001b[0m: "
     ]
    }
   ],
   "source": [
    "N_EPOCHS = 100\n",
    "PRINT_EVERY = False\n",
    "# SEED = np.random.randint(-100, 100)\n",
    "SEED = 1\n",
    "\n",
    "model = HMM(seed=SEED)\n",
    "prev_evd = float('-inf')\n",
    "\n",
    "\n",
    "for n in range(N_EPOCHS):\n",
    "    # E-step (compute posteriors)\n",
    "    gamma, evd, zeta = zip(*[e_step(model, x) for x in X])\n",
    "    evd = np.mean(evd)\n",
    "    \n",
    "    # M-step (update parameters)\n",
    "    ## Pi\n",
    "    model.pi = sum(gamma)[0] / sum(gamma)[0].sum()\n",
    "    ## A\n",
    "    zeta = sum([zta.sum(0) for zta in zeta])\n",
    "    model.A = zeta / zeta.sum(1)[:, None]\n",
    "    ## mu\n",
    "    for z in range(K):\n",
    "        model.mu[z] = sum((g[:, z].numpy() * x).sum() for g, x in zip(gamma, X)) / sum(g[:, z].sum() for g in gamma)\n",
    "    \n",
    "    assert np.allclose(model.pi.sum(), 1.)\n",
    "    assert np.allclose(model.A.sum(1), 1.)\n",
    "    assert evd >= prev_evd\n",
    "    \n",
    "    if (n % (N_EPOCHS / 10) == 0 and n != 0) or PRINT_EVERY:\n",
    "        print(f'Epoch {n} | P(X): {evd:1.5}')\n",
    "        \n",
    "    prev_evd = evd"
   ]
  },
  {
   "cell_type": "markdown",
   "metadata": {},
   "source": [
    "# M-step"
   ]
  },
  {
   "cell_type": "code",
   "execution_count": 60,
   "metadata": {},
   "outputs": [],
   "source": [
    "def m_step(hmm, gamma, zeta):\n",
    "    tgt = 0\n",
    "\n",
    "    tgt += (gamma[0] * hmm.pi.log()).sum()\n",
    "    for zta in zeta:\n",
    "        tgt += (zta * hmm.A.log()).sum()\n",
    "    for m, gma in enumerate(gamma):\n",
    "        for z in range(K):\n",
    "            tgt += gma[z] * hmm.lik(z, m).log()\n",
    "    \n",
    "    return tgt"
   ]
  },
  {
   "cell_type": "markdown",
   "metadata": {},
   "source": [
    "# Neural HMM"
   ]
  },
  {
   "cell_type": "markdown",
   "metadata": {},
   "source": [
    "## Train"
   ]
  },
  {
   "cell_type": "code",
   "execution_count": null,
   "metadata": {},
   "outputs": [],
   "source": [
    "import numpy as np\n",
    "from hmmlearn import hmm\n",
    "np.random.seed(42)\n",
    "\n",
    "model = hmm.GaussianHMM(n_components=3, covariance_type=\"full\")\n",
    "model.startprob_ = np.array([0.6, 0.3, 0.1])\n",
    "model.transmat_ = np.array([[0.7, 0.2, 0.1], [0.3, 0.5, 0.2], [0.3, 0.3, 0.4]])\n",
    "model.means_ = np.array([[0.0, 0.0], [3.0, -3.0], [5.0, 10.0]])\n",
    "model.covars_ = np.tile(np.identity(2), (3, 1, 1))"
   ]
  },
  {
   "cell_type": "code",
   "execution_count": null,
   "metadata": {},
   "outputs": [],
   "source": [
    "X = np.concatenate([X1, X2])\n",
    "lengths = [len(X1), len(X2)]\n",
    "model = hmm.GaussianHMM(n_components=3)\n",
    "model.fit(X, lengths)  "
   ]
  },
  {
   "cell_type": "code",
   "execution_count": null,
   "metadata": {},
   "outputs": [],
   "source": [
    "X = np.random.randn(100, 3)\n",
    "\n",
    "lengths = [3] * 100"
   ]
  },
  {
   "cell_type": "code",
   "execution_count": null,
   "metadata": {},
   "outputs": [],
   "source": [
    "model.fit(X, lengths)"
   ]
  },
  {
   "cell_type": "code",
   "execution_count": null,
   "metadata": {},
   "outputs": [],
   "source": [
    "N_EPOCHS = 100\n",
    "LR = .01\n",
    "\n",
    "hmm = NeuralHMM(pi, A, X)\n",
    "optim = Adam(hmm.parameters(), lr=LR)\n",
    "\n",
    "for n in range(N_EPOCHS):\n",
    "    gamma, evd, zeta = e_step(hmm)\n",
    "    tgt = m_step(hmm, gamma, zeta)\n",
    "    (-tgt).backward()\n",
    "    optim.step()\n",
    "    \n",
    "    assert np.allclose(hmm.pi.sum().detach().numpy(), 1.)\n",
    "    assert np.allclose(hmm.A.sum(1).detach().numpy(), 1.)\n",
    "    \n",
    "    if n % (N_EPOCHS / 10) == 0 and n != 0:\n",
    "        print(f'Epoch {n} | P(X): {evd:1.5}')"
   ]
  },
  {
   "cell_type": "markdown",
   "metadata": {},
   "source": [
    "# Max-sum (Viterbi algorithm)"
   ]
  },
  {
   "cell_type": "markdown",
   "metadata": {},
   "source": [
    "### Pass max-messages forward"
   ]
  },
  {
   "cell_type": "code",
   "execution_count": null,
   "metadata": {},
   "outputs": [],
   "source": [
    "omega = []\n",
    "\n",
    "for m in range(M):\n",
    "    if m == 0:\n",
    "        o_m = [hmm.pi[m].log() + hmm.lik(z, m) for z in range(K)]\n",
    "        o_m_idx = [None] * len(o_m)\n",
    "    else:\n",
    "        o_m = []\n",
    "        o_m_idx = []\n",
    "        for z_j in range(K):\n",
    "            ll = hmm.lik(z_j, m)\n",
    "            mx, mx_idx = torch.tensor([ll + hmm.A[z_i][z_j] + omega[-1][z_i][0] for z_i in range(K)]).max(0)\n",
    "            o_m.append(mx)\n",
    "            o_m_idx.append(mx_idx)\n",
    "    o = [(t.item(), i.item()) if i is not None else (t.item(), i) for t, i in zip(o_m, o_m_idx)]\n",
    "    omega.append(o)"
   ]
  },
  {
   "cell_type": "markdown",
   "metadata": {},
   "source": [
    "### Backtrack"
   ]
  },
  {
   "cell_type": "code",
   "execution_count": null,
   "metadata": {},
   "outputs": [],
   "source": [
    "m = M\n",
    "configs = []\n",
    "while omega:\n",
    "    o_m = omega.pop()\n",
    "    vals, idxs = zip(*o_m)\n",
    "    if all([i is not None for i in idxs]):\n",
    "        if m == M:\n",
    "            max_val = max(vals)\n",
    "            for i, v in enumerate(vals):\n",
    "                if v == max_val:\n",
    "                    configs.append([i, idxs[i]])\n",
    "        else:\n",
    "            for c in configs:\n",
    "                phi = c[-1]\n",
    "                c.append(idxs[phi])\n",
    "        m -= 1\n",
    "        \n",
    "print(f'Max val: {max_val}')\n",
    "print(f'Maximizing configs: {configs}')"
   ]
  }
 ],
 "metadata": {
  "kernelspec": {
   "display_name": "Python 3",
   "language": "python",
   "name": "python3"
  },
  "language_info": {
   "codemirror_mode": {
    "name": "ipython",
    "version": 3
   },
   "file_extension": ".py",
   "mimetype": "text/x-python",
   "name": "python",
   "nbconvert_exporter": "python",
   "pygments_lexer": "ipython3",
   "version": "3.6.6"
  }
 },
 "nbformat": 4,
 "nbformat_minor": 2
}
