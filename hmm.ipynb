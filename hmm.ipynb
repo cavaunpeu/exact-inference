{
 "cells": [
  {
   "cell_type": "code",
   "execution_count": 1,
   "metadata": {},
   "outputs": [],
   "source": [
    "%load_ext autoreload\n",
    "%autoreload 2"
   ]
  },
  {
   "cell_type": "code",
   "execution_count": 2,
   "metadata": {},
   "outputs": [],
   "source": [
    "from collections import deque\n",
    "from copy import deepcopy\n",
    "\n",
    "import numpy as np\n",
    "\n",
    "from pomegranate import *\n",
    "import torch\n",
    "from torch import nn\n",
    "from torch.distributions import Dirichlet, Normal\n",
    "import torch.nn.functional as F\n",
    "from torch.optim import Adam"
   ]
  },
  {
   "cell_type": "code",
   "execution_count": 3,
   "metadata": {},
   "outputs": [],
   "source": [
    "K = 5  # number of latent state\n",
    "M = 10  # length of observations\n",
    "N = 1  # number of observations\n",
    "\n",
    "mu = [np.log(z + 1) for z in range(K)]  # the mean of our observation model, i.e. E[p(x|z)]\n",
    "std = [1.] * K  # standard deviation on gaussian observations"
   ]
  },
  {
   "cell_type": "markdown",
   "metadata": {},
   "source": [
    "# Generate data"
   ]
  },
  {
   "cell_type": "code",
   "execution_count": 4,
   "metadata": {},
   "outputs": [],
   "source": [
    "SEED = 1\n",
    "np.random.seed(SEED)\n",
    "torch.manual_seed(SEED)\n",
    "\n",
    "# Parameters\n",
    "A = F.softmax(torch.randn(K, K), dim=-1)  # randomly initialize a transition matrix\n",
    "pi = F.softmax(torch.randn(K), dim=-1)  # randomly initialize a distribution over the initial latent state\n",
    "\n",
    "# Data\n",
    "X, Z = [], []\n",
    "for n in range(N):\n",
    "    obs = []\n",
    "    for m in range(M):\n",
    "        if m == 0:\n",
    "            z = np.random.choice(range(K), p=pi.numpy())\n",
    "        else:\n",
    "            z = np.random.choice(range(K), p=A[z].numpy())\n",
    "        x = mu[z] + std[z] * np.random.randn()\n",
    "        obs.append((z, x))\n",
    "    z_m, x_m = zip(*obs)\n",
    "    Z.append(z_m)\n",
    "    X.append(x_m)\n",
    "\n",
    "Z = np.array(Z); X = np.array(X)\n",
    "assert Z.shape == (N, M)\n",
    "assert X.shape == (N, M)"
   ]
  },
  {
   "cell_type": "markdown",
   "metadata": {},
   "source": [
    "## Print first observation"
   ]
  },
  {
   "cell_type": "code",
   "execution_count": 5,
   "metadata": {},
   "outputs": [
    {
     "name": "stdout",
     "output_type": "stream",
     "text": [
      "m: 0 | p(z_m):       2 | p(x_m|2): 0.296\n",
      "m: 1 | p(z_m|z_m-1): 0 | p(x_m|0): -0.449\n",
      "m: 2 | p(z_m|z_m-1): 1 | p(x_m|1): -0.413\n",
      "m: 3 | p(z_m|z_m-1): 4 | p(x_m|4): -0.0451\n",
      "m: 4 | p(z_m|z_m-1): 3 | p(x_m|3): 0.369\n",
      "m: 5 | p(z_m|z_m-1): 4 | p(x_m|4): 2.25\n",
      "m: 6 | p(z_m|z_m-1): 0 | p(x_m|0): -0.86\n",
      "m: 7 | p(z_m|z_m-1): 3 | p(x_m|3): 3.16\n",
      "m: 8 | p(z_m|z_m-1): 1 | p(x_m|1): 1.26\n",
      "m: 9 | p(z_m|z_m-1): 4 | p(x_m|4): 1.04\n"
     ]
    }
   ],
   "source": [
    "n = 0\n",
    "x, z = X[n], Z[n]\n",
    "\n",
    "for m, (z_m, x_m) in enumerate(zip(z, x)):\n",
    "    if m == 0:\n",
    "        print(f'm: {m} | p(z_m):       {z_m} | p(x_m|{z_m}): {x_m:1.3}')\n",
    "    else:\n",
    "        print(f'm: {m} | p(z_m|z_m-1): {z_m} | p(x_m|{z_m}): {x_m:1.3}')\n",
    "        \n",
    "del x, z, m"
   ]
  },
  {
   "cell_type": "markdown",
   "metadata": {},
   "source": [
    "# Create models"
   ]
  },
  {
   "cell_type": "code",
   "execution_count": 6,
   "metadata": {},
   "outputs": [],
   "source": [
    "class GuassianObservationModel(nn.Module):\n",
    "    \n",
    "    def __init__(self, K, embed_dim, hidden_dim):\n",
    "        super().__init__()\n",
    "#         self.embed = nn.Embedding(K, embed_dim)\n",
    "#         self.hidden = nn.Linear(embed_dim, hidden_dim)\n",
    "#         self.out = nn.Linear(hidden_dim, 1)\n",
    "        self.mu = nn.Parameter(torch.ones(K))\n",
    "        \n",
    "    def forward(self, z):\n",
    "#         embed = self.embed(z)\n",
    "#         return torch.relu(self.out(self.hidden(embed)))  # ReLU, b/c we know obs. means are positive\n",
    "        return self.mu[z]\n",
    "\n",
    "\n",
    "class HMM:\n",
    "    \n",
    "    EMBED_DIM = 10\n",
    "    HIDDEN_DIM = 5\n",
    "    \n",
    "    def __init__(self, pi=None, A=None, mu=None, std=None, seed=1):\n",
    "        torch.manual_seed(seed)\n",
    "        self.A = A if A is not None else F.softmax(torch.randn(K, K), dim=-1)\n",
    "        self.pi = pi if pi is not None else F.softmax(torch.randn(K), dim=-1)\n",
    "        self.mu = mu if mu is not None else torch.randn(K).abs()\n",
    "        self.std = std if std is not None else torch.randn(K).abs()\n",
    "        \n",
    "    def lik(self, z, x):\n",
    "        \"\"\"\n",
    "        The likelihood of the given observation `x`, conditional on latent code `z`, \n",
    "        given a Gaussian observation model.\n",
    "        \"\"\"\n",
    "        x = torch.FloatTensor([x])\n",
    "        return Normal(loc=self.mu[z], scale=self.std[z]).log_prob(x).exp()\n",
    "\n",
    "    def factor(self, z_i, z_j, x):\n",
    "        return self.A[z_i][z_j] * self.lik(z_j, x)\n",
    "    \n",
    "    \n",
    "class NeuralHMM(nn.Module):\n",
    "    \n",
    "    EMBED_DIM = 10\n",
    "    HIDDEN_DIM = 5\n",
    "    OBS_MODEL_STDDEV = 1\n",
    "    \n",
    "    def __init__(self, pi, A, X, seed=1):\n",
    "        super().__init__()\n",
    "        self._pi = nn.Parameter(torch.ones(K) / K)\n",
    "        self._A = nn.Parameter(torch.ones(K, K) / K)\n",
    "        self.X = torch.FloatTensor(X)\n",
    "        self.obs_model = GuassianObservationModel(K, self.EMBED_DIM, self.HIDDEN_DIM)\n",
    "        \n",
    "    @property\n",
    "    def pi(self):\n",
    "        return F.softmax(self._pi, dim=-1)\n",
    "    \n",
    "    @property\n",
    "    def A(self):\n",
    "        return F.softmax(self._A, dim=-1)\n",
    "        \n",
    "    def lik(self, z, m):\n",
    "        \"\"\"\n",
    "        The likelihood of *all* of our observed data, in the m-th index of the sequential\n",
    "        observation, conditional on latent code `z`, given a Gaussian observation model.\n",
    "        \"\"\"\n",
    "        z = torch.LongTensor([z])\n",
    "        X_m = self.X[:, m]\n",
    "        return Normal(loc=self.obs_model(z), scale=self.OBS_MODEL_STDDEV).log_prob(X_m).sum().exp()\n",
    "\n",
    "    def factor(self, z_i, z_j, x):\n",
    "        return self.A[z_i][z_j] * self.lik(z_j, m)"
   ]
  },
  {
   "cell_type": "markdown",
   "metadata": {},
   "source": [
    "# E-step"
   ]
  },
  {
   "cell_type": "markdown",
   "metadata": {},
   "source": [
    "## Alpha step"
   ]
  },
  {
   "cell_type": "markdown",
   "metadata": {},
   "source": [
    "The HMM factor is given by: $f(z_{n-1}, z_n) = p(z_n|z_n-1)p(X|z_n)$, where $n$ is\n",
    "our current index on the chain.\n",
    "\n",
    "The message from factor to variable, moving forward along the chain, is given by:\n",
    "\n",
    "$$\n",
    "\\sum\\limits_{z_{n-1}} f(z_{n-1}, z_n) * \\mu_{f_{n-1} \\rightarrow z_{n-1}}\n",
    "$$\n",
    "\n",
    "In an efficient implementation, for each value $z_j$, we would compute $p(X|z_n)$ upfront then multiply it by the summation. Below, we recompute it inside each term of the summation unnecessarily for demonstrative purposes."
   ]
  },
  {
   "cell_type": "code",
   "execution_count": 7,
   "metadata": {},
   "outputs": [],
   "source": [
    "def alpha_step(model, x):\n",
    "    alpha = []\n",
    "    for m in range(M):\n",
    "        if m == 0:\n",
    "            a_m = [model.pi[z] * model.lik(z, x[m]) for z in range(K)]\n",
    "\n",
    "        else:\n",
    "            a_m = [sum(model.factor(z_i, z_j, x[m]) * alpha[-1][z_i] for z_i in range(K)) for z_j in range(K)]\n",
    "        alpha.append(torch.FloatTensor(a_m))\n",
    "    return torch.stack(alpha)"
   ]
  },
  {
   "cell_type": "markdown",
   "metadata": {},
   "source": [
    "## Beta step"
   ]
  },
  {
   "cell_type": "code",
   "execution_count": 8,
   "metadata": {},
   "outputs": [],
   "source": [
    "def beta_step(model, x):\n",
    "    beta = []\n",
    "    for m in reversed(range(M)):\n",
    "        if m == M - 1:\n",
    "            b_m = [1. for _ in range(K)]\n",
    "        else:\n",
    "            b_m = [sum(model.factor(z_i, z_j, x[m+1]) * beta[-1][z_j] for z_j in range(K)) for z_i in range(K)]\n",
    "        beta.append(torch.FloatTensor(b_m))\n",
    "    return torch.stack(beta).flip(0)  # NB: we flip the axes back!"
   ]
  },
  {
   "cell_type": "markdown",
   "metadata": {},
   "source": [
    "## Posterior marginals"
   ]
  },
  {
   "cell_type": "code",
   "execution_count": 9,
   "metadata": {},
   "outputs": [],
   "source": [
    "def compute_gamma(alpha, beta):\n",
    "    gamma_ = alpha * beta\n",
    "    evd = gamma_.sum(1)\n",
    "    # p(X) = \\sum_{z_n} \\alpha(z_n) * \\beta(z_n), for any choice of n!\n",
    "    assert np.allclose(evd[0], evd)\n",
    "    gamma = gamma_ / evd[0]\n",
    "    assert np.allclose(gamma.sum(1), 1.)\n",
    "    return gamma, evd[0]"
   ]
  },
  {
   "cell_type": "markdown",
   "metadata": {},
   "source": [
    "## Posterior transition matrices"
   ]
  },
  {
   "cell_type": "code",
   "execution_count": 10,
   "metadata": {},
   "outputs": [],
   "source": [
    "def compute_zeta(model, alpha, beta, evd, x):\n",
    "    zeta_ = []\n",
    "    for m in range(M-1):\n",
    "        liks = np.array([model.lik(z, x[m+1]).item() for z in range(K)])\n",
    "        zeta_m = np.outer(alpha[m], beta[m+1]) * model.A.detach().numpy() * liks\n",
    "        zeta_.append(zeta_m)\n",
    "\n",
    "    zeta = torch.FloatTensor(zeta_).clone() / evd\n",
    "    assert all([np.allclose(zta.sum(), 1.) for zta in zeta])\n",
    "    \n",
    "    return zeta"
   ]
  },
  {
   "cell_type": "markdown",
   "metadata": {},
   "source": [
    "## Altogether"
   ]
  },
  {
   "cell_type": "code",
   "execution_count": 11,
   "metadata": {},
   "outputs": [],
   "source": [
    "def e_step(model, x):\n",
    "    alpha = alpha_step(model, x)\n",
    "    beta = beta_step(model, x)\n",
    "    gamma, evd = compute_gamma(alpha, beta)\n",
    "    zeta = compute_zeta(model, alpha, beta, evd, x)\n",
    "    return gamma, evd, zeta"
   ]
  },
  {
   "cell_type": "markdown",
   "metadata": {},
   "source": [
    "# M-step"
   ]
  },
  {
   "cell_type": "code",
   "execution_count": 12,
   "metadata": {},
   "outputs": [],
   "source": [
    "def train_via_em(data, model, n_epochs, verbose=False):\n",
    "    \n",
    "    X = data.copy()\n",
    "    model = deepcopy(model)\n",
    "    prev_evd = float('-inf')\n",
    "    \n",
    "    for n in range(n_epochs):\n",
    "        # E-step (compute posteriors)\n",
    "        gamma, evd, zeta = zip(*[e_step(model, x) for x in X])\n",
    "        evd = np.sum(evd)\n",
    "\n",
    "        # M-step (update parameters)\n",
    "        ## Pi\n",
    "        model.pi = sum(gamma)[0] / sum(gamma)[0].sum()\n",
    "        ## A\n",
    "        zeta = sum([zta.sum(0) for zta in zeta])\n",
    "        model.A = zeta / zeta.sum(1)[:, None]\n",
    "        ## mu\n",
    "        for z in range(K):\n",
    "            model.mu[z] = sum((g[:, z].numpy() * x).sum() for g, x in zip(gamma, X)) / sum(g[:, z].sum() for g in gamma)\n",
    "        ## std\n",
    "        for z in range(K):\n",
    "            model.std[z] = sum((g[:, z].numpy() * ( (x - model.mu[z].item()) @ (x - model.mu[z].item()).T) ).sum() for g, x in zip(gamma, X)) / sum(g[:, z].sum() for g in gamma)\n",
    "\n",
    "        assert np.allclose(model.pi.sum(), 1.)\n",
    "        assert np.allclose(model.A.sum(1), 1.)\n",
    "#         assert evd >= (prev_evd - 1e-8)\n",
    "\n",
    "        if (n % (n_epochs / 10) == 0 and n != 0) or verbose:\n",
    "            print(f'Epoch {n} | P(X): {evd:1.5}')\n",
    "\n",
    "        prev_evd = evd\n",
    "        \n",
    "    gamma, evd, zeta = zip(*[e_step(model, x) for x in X])\n",
    "    evd = np.sum(evd)\n",
    "        \n",
    "    return model, evd, gamma, zeta"
   ]
  },
  {
   "cell_type": "markdown",
   "metadata": {},
   "source": [
    "## Max-sum (Viterbi algorithm)"
   ]
  },
  {
   "cell_type": "code",
   "execution_count": 13,
   "metadata": {},
   "outputs": [],
   "source": [
    "def compute_max_sum_messages(model, x):\n",
    "    omega = []\n",
    "\n",
    "    for m in range(M):\n",
    "        if m == 0:\n",
    "            o_m = [model.pi[z].log() + model.lik(z, x[m]).log() for z in range(K)]\n",
    "            o_m_idx = [None] * len(o_m)\n",
    "        else:\n",
    "            o_m = []\n",
    "            o_m_idx = []\n",
    "            for z_j in range(K):\n",
    "                ll = model.lik(z_j, x[m]).log()\n",
    "                mx, mx_idx = torch.tensor([ll + model.A[z_i][z_j].log() + omega[-1][z_i][0] for z_i in range(K)]).max(0)\n",
    "                o_m.append(mx)\n",
    "                o_m_idx.append(mx_idx)\n",
    "        o = [(t.item(), i.item()) if i is not None else (t.item(), i) for t, i in zip(o_m, o_m_idx)]\n",
    "        omega.append(o)\n",
    "    return omega\n",
    "\n",
    "\n",
    "def backtrack(omega):\n",
    "    m = M\n",
    "    configs = []\n",
    "    while omega:\n",
    "        o_m = omega.pop()\n",
    "        vals, idxs = zip(*o_m)\n",
    "        if M == 1:\n",
    "            max_val = max(vals)\n",
    "            configs.append([vals.index(max_val)])\n",
    "        elif all([i is not None for i in idxs]):\n",
    "            if m == M:\n",
    "                max_val = max(vals)\n",
    "                for i, v in enumerate(vals):\n",
    "                    if v == max_val:\n",
    "                        c = deque([idxs[i], i])\n",
    "                        configs.append(c)\n",
    "            else:\n",
    "                for c in configs:\n",
    "                    phi = c[0]\n",
    "                    c.appendleft(idxs[phi])\n",
    "            m -= 1\n",
    "    configs = [tuple(c) for c in configs]\n",
    "    return max_val, configs\n",
    "\n",
    "\n",
    "def viterbi(model, x):\n",
    "    omega = compute_max_sum_messages(model, x)\n",
    "    max_val, configs = backtrack(omega)\n",
    "    return max_val, configs"
   ]
  },
  {
   "cell_type": "markdown",
   "metadata": {},
   "source": [
    "## Test"
   ]
  },
  {
   "cell_type": "code",
   "execution_count": 14,
   "metadata": {},
   "outputs": [],
   "source": [
    "from pomegranate import *"
   ]
  },
  {
   "cell_type": "code",
   "execution_count": 40,
   "metadata": {},
   "outputs": [
    {
     "name": "stdout",
     "output_type": "stream",
     "text": [
      "None\n",
      "None\n",
      "inf\n",
      "1e-15\n",
      "running step\n",
      "[0.15095705 0.22557507 0.30250657 0.20898374 0.11197757]\n",
      "running step\n",
      "[0.15095705 0.22557507 0.30250657 0.20898374 0.11197757]\n",
      "running step\n",
      "[0.16729411 0.15976887 0.52149144 0.11524573 0.03619985]\n"
     ]
    },
    {
     "ename": "AssertionError",
     "evalue": "",
     "output_type": "error",
     "traceback": [
      "\u001b[0;31m---------------------------------------------------------------------------\u001b[0m",
      "\u001b[0;31mAssertionError\u001b[0m                            Traceback (most recent call last)",
      "\u001b[0;32m<ipython-input-40-10bfcb1ce0cd>\u001b[0m in \u001b[0;36m<module>\u001b[0;34m\u001b[0m\n\u001b[1;32m     40\u001b[0m \u001b[0mmdl\u001b[0m\u001b[0;34m,\u001b[0m \u001b[0mevd\u001b[0m\u001b[0;34m,\u001b[0m \u001b[0mgamma\u001b[0m\u001b[0;34m,\u001b[0m \u001b[0mzeta\u001b[0m \u001b[0;34m=\u001b[0m \u001b[0mtrain_via_em\u001b[0m\u001b[0;34m(\u001b[0m\u001b[0mdata\u001b[0m\u001b[0;34m=\u001b[0m\u001b[0mX\u001b[0m\u001b[0;34m,\u001b[0m \u001b[0mmodel\u001b[0m\u001b[0;34m=\u001b[0m\u001b[0mour_model\u001b[0m\u001b[0;34m,\u001b[0m \u001b[0mn_epochs\u001b[0m\u001b[0;34m=\u001b[0m\u001b[0;36m1\u001b[0m\u001b[0;34m)\u001b[0m\u001b[0;34m\u001b[0m\u001b[0m\n\u001b[1;32m     41\u001b[0m \u001b[0;31m# assert evd == np.exp(their_model.log_probability(x))\u001b[0m\u001b[0;34m\u001b[0m\u001b[0;34m\u001b[0m\u001b[0m\n\u001b[0;32m---> 42\u001b[0;31m \u001b[0;32massert\u001b[0m \u001b[0mnp\u001b[0m\u001b[0;34m.\u001b[0m\u001b[0mallclose\u001b[0m\u001b[0;34m(\u001b[0m\u001b[0mmdl\u001b[0m\u001b[0;34m.\u001b[0m\u001b[0mpi\u001b[0m\u001b[0;34m,\u001b[0m \u001b[0mtheir_model\u001b[0m\u001b[0;34m.\u001b[0m\u001b[0mdense_transition_matrix\u001b[0m\u001b[0;34m(\u001b[0m\u001b[0;34m)\u001b[0m\u001b[0;34m[\u001b[0m\u001b[0mtheir_model\u001b[0m\u001b[0;34m.\u001b[0m\u001b[0mstart_index\u001b[0m\u001b[0;34m,\u001b[0m \u001b[0;34m:\u001b[0m\u001b[0;34m]\u001b[0m\u001b[0;34m[\u001b[0m\u001b[0;34m:\u001b[0m\u001b[0mK\u001b[0m\u001b[0;34m]\u001b[0m\u001b[0;34m)\u001b[0m\u001b[0;34m\u001b[0m\u001b[0m\n\u001b[0m\u001b[1;32m     43\u001b[0m \u001b[0;31m# assert np.allclose(mdl.A, their_model.dense_transition_matrix()[:K, :K])\u001b[0m\u001b[0;34m\u001b[0m\u001b[0;34m\u001b[0m\u001b[0m\n",
      "\u001b[0;31mAssertionError\u001b[0m: "
     ]
    }
   ],
   "source": [
    "x = X[0]\n",
    "\n",
    "# Theirs\n",
    "dists = [NormalDistribution(m, sd) for m, sd in zip(mu, std)]\n",
    "trans_mat = A.numpy()\n",
    "starts = pi.numpy()\n",
    "their_model = HiddenMarkovModel.from_matrix(trans_mat, dists, starts)\n",
    "\n",
    "# Ours\n",
    "our_model = HMM(pi=pi, A=A, mu=mu, std=std)\n",
    "\n",
    "# Test\n",
    "\n",
    "## E-step\n",
    "gamma, evd, zeta = e_step(our_model, x)\n",
    "\n",
    "# gamma: length * states\n",
    "# evd: p(x); 1\n",
    "# zeta: length-1 * state * state\n",
    "\n",
    "### Log-prob\n",
    "assert np.allclose(np.exp(their_model.log_probability(x)), evd.item())\n",
    "\n",
    "### Transitions, emissions\n",
    "transitions, emissions = their_model.forward_backward(x)\n",
    "assert np.allclose(np.exp(emissions), gamma)\n",
    "assert np.allclose(transitions[:K, :K], zeta.sum(0))\n",
    "\n",
    "## Viterbi\n",
    "their_max_val, their_states = their_model.viterbi(x)\n",
    "their_states, _ = zip(*their_states[1:])\n",
    "our_max_val, our_states = viterbi(our_model, x)\n",
    "assert their_states in our_states\n",
    "assert np.allclose(their_max_val, our_max_val)\n",
    "\n",
    "## M-step\n",
    "assert np.allclose(our_model.pi.numpy(), their_model.dense_transition_matrix()[their_model.start_index, :][:K])\n",
    "assert np.allclose(our_model.A.numpy(), their_model.dense_transition_matrix()[:K, :K])\n",
    "_ = their_model.fit(X, max_iterations=1, algorithm='baum-welch', stop_threshold=1e-15)\n",
    "mdl, evd, gamma, zeta = train_via_em(data=X, model=our_model, n_epochs=1)\n",
    "# assert evd == np.exp(their_model.log_probability(x))\n",
    "assert np.allclose(mdl.pi, their_model.dense_transition_matrix()[their_model.start_index, :][:K])\n",
    "# assert np.allclose(mdl.A, their_model.dense_transition_matrix()[:K, :K])"
   ]
  },
  {
   "cell_type": "code",
   "execution_count": 41,
   "metadata": {},
   "outputs": [
    {
     "data": {
      "text/plain": [
       "array([0.14991336, 0.08376008, 0.71277696, 0.04628651, 0.00726308])"
      ]
     },
     "execution_count": 41,
     "metadata": {},
     "output_type": "execute_result"
    }
   ],
   "source": [
    "their_model.dense_transition_matrix()[their_model.start_index, :][:K]"
   ]
  },
  {
   "cell_type": "code",
   "execution_count": 42,
   "metadata": {},
   "outputs": [
    {
     "data": {
      "text/plain": [
       "array([0.16729413, 0.15976888, 0.52149147, 0.11524571, 0.03619985],\n",
       "      dtype=float32)"
      ]
     },
     "execution_count": 42,
     "metadata": {},
     "output_type": "execute_result"
    }
   ],
   "source": [
    "mdl.pi.numpy()  # this is the same as theirs! we just have to get theirs to stop earlier"
   ]
  },
  {
   "cell_type": "code",
   "execution_count": 19,
   "metadata": {},
   "outputs": [
    {
     "data": {
      "text/plain": [
       "tensor([0.1510, 0.2256, 0.3025, 0.2090, 0.1120])"
      ]
     },
     "execution_count": 19,
     "metadata": {},
     "output_type": "execute_result"
    }
   ],
   "source": [
    "pi"
   ]
  },
  {
   "cell_type": "code",
   "execution_count": 33,
   "metadata": {},
   "outputs": [
    {
     "data": {
      "text/plain": [
       "array([0.14991336, 0.08376008, 0.71277696, 0.04628651, 0.00726308])"
      ]
     },
     "execution_count": 33,
     "metadata": {},
     "output_type": "execute_result"
    }
   ],
   "source": [
    "their_model.dense_transition_matrix()[their_model.start_index, :][:K]"
   ]
  },
  {
   "cell_type": "code",
   "execution_count": null,
   "metadata": {},
   "outputs": [],
   "source": [
    "# from hmmlearn import hmm as hmmlearn\n",
    "\n",
    "# model = hmmlearn.GaussianHMM(n_components=K)\n",
    "# model.startprob_ = pi\n",
    "# model.transmat_ = A\n",
    "# model.means_ = np.array(mu).reshape(-1, 1)\n",
    "# model.covars_ = np.array(std).reshape(-1, 1)"
   ]
  },
  {
   "cell_type": "markdown",
   "metadata": {},
   "source": [
    "# Vanilla HMM"
   ]
  },
  {
   "cell_type": "markdown",
   "metadata": {},
   "source": [
    "## Train"
   ]
  },
  {
   "cell_type": "code",
   "execution_count": 28,
   "metadata": {},
   "outputs": [
    {
     "name": "stdout",
     "output_type": "stream",
     "text": [
      "Epoch 0 | P(X): 1.3655e-11\n",
      "Epoch 1 | P(X): 3.3402e-18\n",
      "Epoch 2 | P(X): 1.722e-16\n",
      "Epoch 3 | P(X): 1.6947e-16\n",
      "Epoch 4 | P(X): 1.7542e-16\n",
      "Epoch 5 | P(X): 1.8154e-16\n",
      "Epoch 6 | P(X): 1.8709e-16\n",
      "Epoch 7 | P(X): 1.9187e-16\n",
      "Epoch 8 | P(X): 1.9584e-16\n",
      "Epoch 9 | P(X): 1.9904e-16\n",
      "Epoch 10 | P(X): 2.0158e-16\n",
      "Epoch 11 | P(X): 2.0358e-16\n",
      "Epoch 12 | P(X): 2.0514e-16\n",
      "Epoch 13 | P(X): 2.0637e-16\n",
      "Epoch 14 | P(X): 2.0735e-16\n",
      "Epoch 15 | P(X): 2.0812e-16\n",
      "Epoch 16 | P(X): 2.0875e-16\n",
      "Epoch 17 | P(X): 2.0926e-16\n",
      "Epoch 18 | P(X): 2.0968e-16\n",
      "Epoch 19 | P(X): 2.1002e-16\n",
      "Epoch 20 | P(X): 2.1031e-16\n",
      "Epoch 21 | P(X): 2.1056e-16\n",
      "Epoch 22 | P(X): 2.1077e-16\n",
      "Epoch 23 | P(X): 2.1094e-16\n",
      "Epoch 24 | P(X): 2.111e-16\n",
      "Epoch 25 | P(X): 2.1123e-16\n",
      "Epoch 26 | P(X): 2.1135e-16\n",
      "Epoch 27 | P(X): 2.1145e-16\n",
      "Epoch 28 | P(X): 2.1154e-16\n",
      "Epoch 29 | P(X): 2.1162e-16\n",
      "Epoch 30 | P(X): 2.1169e-16\n",
      "Epoch 31 | P(X): 2.1175e-16\n",
      "Epoch 32 | P(X): 2.1181e-16\n",
      "Epoch 33 | P(X): 2.1186e-16\n",
      "Epoch 34 | P(X): 2.1191e-16\n",
      "Epoch 35 | P(X): 2.1195e-16\n",
      "Epoch 36 | P(X): 2.1199e-16\n",
      "Epoch 37 | P(X): 2.1203e-16\n",
      "Epoch 38 | P(X): 2.1206e-16\n",
      "Epoch 39 | P(X): 2.1209e-16\n",
      "Epoch 40 | P(X): 2.1212e-16\n",
      "Epoch 41 | P(X): 2.1214e-16\n",
      "Epoch 42 | P(X): 2.1216e-16\n",
      "Epoch 43 | P(X): 2.1219e-16\n",
      "Epoch 44 | P(X): 2.1221e-16\n",
      "Epoch 45 | P(X): 2.1223e-16\n",
      "Epoch 46 | P(X): 2.1224e-16\n",
      "Epoch 47 | P(X): 2.1226e-16\n",
      "Epoch 48 | P(X): 2.1228e-16\n",
      "Epoch 49 | P(X): 2.1229e-16\n",
      "Epoch 50 | P(X): 2.123e-16\n",
      "Epoch 51 | P(X): 2.1232e-16\n",
      "Epoch 52 | P(X): 2.1233e-16\n",
      "Epoch 53 | P(X): 2.1234e-16\n",
      "Epoch 54 | P(X): 2.1235e-16\n",
      "Epoch 55 | P(X): 2.1236e-16\n",
      "Epoch 56 | P(X): 2.1237e-16\n",
      "Epoch 57 | P(X): 2.1238e-16\n",
      "Epoch 58 | P(X): 2.1239e-16\n",
      "Epoch 59 | P(X): 2.124e-16\n",
      "Epoch 60 | P(X): 2.1241e-16\n",
      "Epoch 61 | P(X): 2.1241e-16\n",
      "Epoch 62 | P(X): 2.1242e-16\n",
      "Epoch 63 | P(X): 2.1243e-16\n",
      "Epoch 64 | P(X): 2.1244e-16\n",
      "Epoch 65 | P(X): 2.1244e-16\n",
      "Epoch 66 | P(X): 2.1245e-16\n",
      "Epoch 67 | P(X): 2.1245e-16\n",
      "Epoch 68 | P(X): 2.1246e-16\n",
      "Epoch 69 | P(X): 2.1247e-16\n",
      "Epoch 70 | P(X): 2.1247e-16\n",
      "Epoch 71 | P(X): 2.1248e-16\n",
      "Epoch 72 | P(X): 2.1248e-16\n",
      "Epoch 73 | P(X): 2.1248e-16\n",
      "Epoch 74 | P(X): 2.1249e-16\n",
      "Epoch 75 | P(X): 2.1249e-16\n",
      "Epoch 76 | P(X): 2.125e-16\n",
      "Epoch 77 | P(X): 2.125e-16\n",
      "Epoch 78 | P(X): 2.1251e-16\n",
      "Epoch 79 | P(X): 2.1251e-16\n",
      "Epoch 80 | P(X): 2.1251e-16\n",
      "Epoch 81 | P(X): 2.1252e-16\n",
      "Epoch 82 | P(X): 2.1252e-16\n",
      "Epoch 83 | P(X): 2.1252e-16\n",
      "Epoch 84 | P(X): 2.1253e-16\n",
      "Epoch 85 | P(X): 2.1253e-16\n",
      "Epoch 86 | P(X): 2.1253e-16\n",
      "Epoch 87 | P(X): 2.1253e-16\n",
      "Epoch 88 | P(X): 2.1254e-16\n",
      "Epoch 89 | P(X): 2.1254e-16\n",
      "Epoch 90 | P(X): 2.1254e-16\n",
      "Epoch 91 | P(X): 2.1255e-16\n",
      "Epoch 92 | P(X): 2.1255e-16\n",
      "Epoch 93 | P(X): 2.1255e-16\n",
      "Epoch 94 | P(X): 2.1255e-16\n",
      "Epoch 95 | P(X): 2.1256e-16\n",
      "Epoch 96 | P(X): 2.1256e-16\n",
      "Epoch 97 | P(X): 2.1256e-16\n",
      "Epoch 98 | P(X): 2.1256e-16\n",
      "Epoch 99 | P(X): 2.1256e-16\n",
      "Epoch 100 | P(X): 2.1257e-16\n",
      "Epoch 101 | P(X): 2.1257e-16\n",
      "Epoch 102 | P(X): 2.1257e-16\n",
      "Epoch 103 | P(X): 2.1257e-16\n",
      "Epoch 104 | P(X): 2.1257e-16\n",
      "Epoch 105 | P(X): 2.1258e-16\n",
      "Epoch 106 | P(X): 2.1258e-16\n",
      "Epoch 107 | P(X): 2.1258e-16\n",
      "Epoch 108 | P(X): 2.1258e-16\n",
      "Epoch 109 | P(X): 2.1258e-16\n",
      "Epoch 110 | P(X): 2.1258e-16\n",
      "Epoch 111 | P(X): 2.1259e-16\n",
      "Epoch 112 | P(X): 2.1259e-16\n",
      "Epoch 113 | P(X): 2.1259e-16\n",
      "Epoch 114 | P(X): 2.1259e-16\n",
      "Epoch 115 | P(X): 2.1259e-16\n",
      "Epoch 116 | P(X): 2.1259e-16\n",
      "Epoch 117 | P(X): 2.1259e-16\n",
      "Epoch 118 | P(X): 2.126e-16\n",
      "Epoch 119 | P(X): 2.126e-16\n",
      "Epoch 120 | P(X): 2.126e-16\n",
      "Epoch 121 | P(X): 2.126e-16\n",
      "Epoch 122 | P(X): 2.126e-16\n",
      "Epoch 123 | P(X): 2.126e-16\n",
      "Epoch 124 | P(X): 2.126e-16\n",
      "Epoch 125 | P(X): 2.126e-16\n",
      "Epoch 126 | P(X): 2.1261e-16\n",
      "Epoch 127 | P(X): 2.1261e-16\n",
      "Epoch 128 | P(X): 2.1261e-16\n",
      "Epoch 129 | P(X): 2.1261e-16\n",
      "Epoch 130 | P(X): 2.1261e-16\n",
      "Epoch 131 | P(X): 2.1261e-16\n",
      "Epoch 132 | P(X): 2.1261e-16\n",
      "Epoch 133 | P(X): 2.1261e-16\n",
      "Epoch 134 | P(X): 2.1261e-16\n",
      "Epoch 135 | P(X): 2.1262e-16\n",
      "Epoch 136 | P(X): 2.1262e-16\n",
      "Epoch 137 | P(X): 2.1262e-16\n"
     ]
    },
    {
     "ename": "KeyboardInterrupt",
     "evalue": "",
     "output_type": "error",
     "traceback": [
      "\u001b[0;31m---------------------------------------------------------------------------\u001b[0m",
      "\u001b[0;31mKeyboardInterrupt\u001b[0m                         Traceback (most recent call last)",
      "\u001b[0;32m<ipython-input-28-b619632f1399>\u001b[0m in \u001b[0;36m<module>\u001b[0;34m\u001b[0m\n\u001b[1;32m      3\u001b[0m \u001b[0mmodel\u001b[0m \u001b[0;34m=\u001b[0m \u001b[0mHMM\u001b[0m\u001b[0;34m(\u001b[0m\u001b[0mpi\u001b[0m\u001b[0;34m=\u001b[0m\u001b[0mpi\u001b[0m\u001b[0;34m,\u001b[0m \u001b[0mA\u001b[0m\u001b[0;34m=\u001b[0m\u001b[0mA\u001b[0m\u001b[0;34m,\u001b[0m \u001b[0mmu\u001b[0m\u001b[0;34m=\u001b[0m\u001b[0mmu\u001b[0m\u001b[0;34m)\u001b[0m\u001b[0;34m\u001b[0m\u001b[0m\n\u001b[1;32m      4\u001b[0m \u001b[0;34m\u001b[0m\u001b[0m\n\u001b[0;32m----> 5\u001b[0;31m \u001b[0mmodel\u001b[0m \u001b[0;34m=\u001b[0m \u001b[0mtrain_via_em\u001b[0m\u001b[0;34m(\u001b[0m\u001b[0mX\u001b[0m\u001b[0;34m,\u001b[0m \u001b[0mmodel\u001b[0m\u001b[0;34m,\u001b[0m \u001b[0mN_EPOCHS\u001b[0m\u001b[0;34m,\u001b[0m \u001b[0mverbose\u001b[0m\u001b[0;34m=\u001b[0m\u001b[0;32mTrue\u001b[0m\u001b[0;34m)\u001b[0m\u001b[0;34m\u001b[0m\u001b[0m\n\u001b[0m",
      "\u001b[0;32m<ipython-input-24-9a28a8370b65>\u001b[0m in \u001b[0;36mtrain_via_em\u001b[0;34m(data, model, n_epochs, verbose)\u001b[0m\n\u001b[1;32m      7\u001b[0m     \u001b[0;32mfor\u001b[0m \u001b[0mn\u001b[0m \u001b[0;32min\u001b[0m \u001b[0mrange\u001b[0m\u001b[0;34m(\u001b[0m\u001b[0mn_epochs\u001b[0m\u001b[0;34m)\u001b[0m\u001b[0;34m:\u001b[0m\u001b[0;34m\u001b[0m\u001b[0m\n\u001b[1;32m      8\u001b[0m         \u001b[0;31m# E-step (compute posteriors)\u001b[0m\u001b[0;34m\u001b[0m\u001b[0;34m\u001b[0m\u001b[0m\n\u001b[0;32m----> 9\u001b[0;31m         \u001b[0mgamma\u001b[0m\u001b[0;34m,\u001b[0m \u001b[0mevd\u001b[0m\u001b[0;34m,\u001b[0m \u001b[0mzeta\u001b[0m \u001b[0;34m=\u001b[0m \u001b[0mzip\u001b[0m\u001b[0;34m(\u001b[0m\u001b[0;34m*\u001b[0m\u001b[0;34m[\u001b[0m\u001b[0me_step\u001b[0m\u001b[0;34m(\u001b[0m\u001b[0mmodel\u001b[0m\u001b[0;34m,\u001b[0m \u001b[0mx\u001b[0m\u001b[0;34m)\u001b[0m \u001b[0;32mfor\u001b[0m \u001b[0mx\u001b[0m \u001b[0;32min\u001b[0m \u001b[0mX\u001b[0m\u001b[0;34m]\u001b[0m\u001b[0;34m)\u001b[0m\u001b[0;34m\u001b[0m\u001b[0m\n\u001b[0m\u001b[1;32m     10\u001b[0m         \u001b[0mevd\u001b[0m \u001b[0;34m=\u001b[0m \u001b[0mnp\u001b[0m\u001b[0;34m.\u001b[0m\u001b[0msum\u001b[0m\u001b[0;34m(\u001b[0m\u001b[0mevd\u001b[0m\u001b[0;34m)\u001b[0m\u001b[0;34m\u001b[0m\u001b[0m\n\u001b[1;32m     11\u001b[0m \u001b[0;34m\u001b[0m\u001b[0m\n",
      "\u001b[0;32m<ipython-input-24-9a28a8370b65>\u001b[0m in \u001b[0;36m<listcomp>\u001b[0;34m(.0)\u001b[0m\n\u001b[1;32m      7\u001b[0m     \u001b[0;32mfor\u001b[0m \u001b[0mn\u001b[0m \u001b[0;32min\u001b[0m \u001b[0mrange\u001b[0m\u001b[0;34m(\u001b[0m\u001b[0mn_epochs\u001b[0m\u001b[0;34m)\u001b[0m\u001b[0;34m:\u001b[0m\u001b[0;34m\u001b[0m\u001b[0m\n\u001b[1;32m      8\u001b[0m         \u001b[0;31m# E-step (compute posteriors)\u001b[0m\u001b[0;34m\u001b[0m\u001b[0;34m\u001b[0m\u001b[0m\n\u001b[0;32m----> 9\u001b[0;31m         \u001b[0mgamma\u001b[0m\u001b[0;34m,\u001b[0m \u001b[0mevd\u001b[0m\u001b[0;34m,\u001b[0m \u001b[0mzeta\u001b[0m \u001b[0;34m=\u001b[0m \u001b[0mzip\u001b[0m\u001b[0;34m(\u001b[0m\u001b[0;34m*\u001b[0m\u001b[0;34m[\u001b[0m\u001b[0me_step\u001b[0m\u001b[0;34m(\u001b[0m\u001b[0mmodel\u001b[0m\u001b[0;34m,\u001b[0m \u001b[0mx\u001b[0m\u001b[0;34m)\u001b[0m \u001b[0;32mfor\u001b[0m \u001b[0mx\u001b[0m \u001b[0;32min\u001b[0m \u001b[0mX\u001b[0m\u001b[0;34m]\u001b[0m\u001b[0;34m)\u001b[0m\u001b[0;34m\u001b[0m\u001b[0m\n\u001b[0m\u001b[1;32m     10\u001b[0m         \u001b[0mevd\u001b[0m \u001b[0;34m=\u001b[0m \u001b[0mnp\u001b[0m\u001b[0;34m.\u001b[0m\u001b[0msum\u001b[0m\u001b[0;34m(\u001b[0m\u001b[0mevd\u001b[0m\u001b[0;34m)\u001b[0m\u001b[0;34m\u001b[0m\u001b[0m\n\u001b[1;32m     11\u001b[0m \u001b[0;34m\u001b[0m\u001b[0m\n",
      "\u001b[0;32m<ipython-input-23-3ec7f0844fb1>\u001b[0m in \u001b[0;36me_step\u001b[0;34m(model, x)\u001b[0m\n\u001b[1;32m      1\u001b[0m \u001b[0;32mdef\u001b[0m \u001b[0me_step\u001b[0m\u001b[0;34m(\u001b[0m\u001b[0mmodel\u001b[0m\u001b[0;34m,\u001b[0m \u001b[0mx\u001b[0m\u001b[0;34m)\u001b[0m\u001b[0;34m:\u001b[0m\u001b[0;34m\u001b[0m\u001b[0m\n\u001b[1;32m      2\u001b[0m     \u001b[0malpha\u001b[0m \u001b[0;34m=\u001b[0m \u001b[0malpha_step\u001b[0m\u001b[0;34m(\u001b[0m\u001b[0mmodel\u001b[0m\u001b[0;34m,\u001b[0m \u001b[0mx\u001b[0m\u001b[0;34m)\u001b[0m\u001b[0;34m\u001b[0m\u001b[0m\n\u001b[0;32m----> 3\u001b[0;31m     \u001b[0mbeta\u001b[0m \u001b[0;34m=\u001b[0m \u001b[0mbeta_step\u001b[0m\u001b[0;34m(\u001b[0m\u001b[0mmodel\u001b[0m\u001b[0;34m,\u001b[0m \u001b[0mx\u001b[0m\u001b[0;34m)\u001b[0m\u001b[0;34m\u001b[0m\u001b[0m\n\u001b[0m\u001b[1;32m      4\u001b[0m     \u001b[0mgamma\u001b[0m\u001b[0;34m,\u001b[0m \u001b[0mevd\u001b[0m \u001b[0;34m=\u001b[0m \u001b[0mcompute_gamma\u001b[0m\u001b[0;34m(\u001b[0m\u001b[0malpha\u001b[0m\u001b[0;34m,\u001b[0m \u001b[0mbeta\u001b[0m\u001b[0;34m)\u001b[0m\u001b[0;34m\u001b[0m\u001b[0m\n\u001b[1;32m      5\u001b[0m     \u001b[0mzeta\u001b[0m \u001b[0;34m=\u001b[0m \u001b[0mcompute_zeta\u001b[0m\u001b[0;34m(\u001b[0m\u001b[0mmodel\u001b[0m\u001b[0;34m,\u001b[0m \u001b[0malpha\u001b[0m\u001b[0;34m,\u001b[0m \u001b[0mbeta\u001b[0m\u001b[0;34m,\u001b[0m \u001b[0mevd\u001b[0m\u001b[0;34m,\u001b[0m \u001b[0mx\u001b[0m\u001b[0;34m)\u001b[0m\u001b[0;34m\u001b[0m\u001b[0m\n",
      "\u001b[0;32m<ipython-input-20-bc7a0d766075>\u001b[0m in \u001b[0;36mbeta_step\u001b[0;34m(model, x)\u001b[0m\n\u001b[1;32m      5\u001b[0m             \u001b[0mb_m\u001b[0m \u001b[0;34m=\u001b[0m \u001b[0;34m[\u001b[0m\u001b[0;36m1.\u001b[0m \u001b[0;32mfor\u001b[0m \u001b[0m_\u001b[0m \u001b[0;32min\u001b[0m \u001b[0mrange\u001b[0m\u001b[0;34m(\u001b[0m\u001b[0mK\u001b[0m\u001b[0;34m)\u001b[0m\u001b[0;34m]\u001b[0m\u001b[0;34m\u001b[0m\u001b[0m\n\u001b[1;32m      6\u001b[0m         \u001b[0;32melse\u001b[0m\u001b[0;34m:\u001b[0m\u001b[0;34m\u001b[0m\u001b[0m\n\u001b[0;32m----> 7\u001b[0;31m             \u001b[0mb_m\u001b[0m \u001b[0;34m=\u001b[0m \u001b[0;34m[\u001b[0m\u001b[0msum\u001b[0m\u001b[0;34m(\u001b[0m\u001b[0mmodel\u001b[0m\u001b[0;34m.\u001b[0m\u001b[0mfactor\u001b[0m\u001b[0;34m(\u001b[0m\u001b[0mz_i\u001b[0m\u001b[0;34m,\u001b[0m \u001b[0mz_j\u001b[0m\u001b[0;34m,\u001b[0m \u001b[0mx\u001b[0m\u001b[0;34m[\u001b[0m\u001b[0mm\u001b[0m\u001b[0;34m+\u001b[0m\u001b[0;36m1\u001b[0m\u001b[0;34m]\u001b[0m\u001b[0;34m)\u001b[0m \u001b[0;34m*\u001b[0m \u001b[0mbeta\u001b[0m\u001b[0;34m[\u001b[0m\u001b[0;34m-\u001b[0m\u001b[0;36m1\u001b[0m\u001b[0;34m]\u001b[0m\u001b[0;34m[\u001b[0m\u001b[0mz_j\u001b[0m\u001b[0;34m]\u001b[0m \u001b[0;32mfor\u001b[0m \u001b[0mz_j\u001b[0m \u001b[0;32min\u001b[0m \u001b[0mrange\u001b[0m\u001b[0;34m(\u001b[0m\u001b[0mK\u001b[0m\u001b[0;34m)\u001b[0m\u001b[0;34m)\u001b[0m \u001b[0;32mfor\u001b[0m \u001b[0mz_i\u001b[0m \u001b[0;32min\u001b[0m \u001b[0mrange\u001b[0m\u001b[0;34m(\u001b[0m\u001b[0mK\u001b[0m\u001b[0;34m)\u001b[0m\u001b[0;34m]\u001b[0m\u001b[0;34m\u001b[0m\u001b[0m\n\u001b[0m\u001b[1;32m      8\u001b[0m         \u001b[0mbeta\u001b[0m\u001b[0;34m.\u001b[0m\u001b[0mappend\u001b[0m\u001b[0;34m(\u001b[0m\u001b[0mtorch\u001b[0m\u001b[0;34m.\u001b[0m\u001b[0mFloatTensor\u001b[0m\u001b[0;34m(\u001b[0m\u001b[0mb_m\u001b[0m\u001b[0;34m)\u001b[0m\u001b[0;34m)\u001b[0m\u001b[0;34m\u001b[0m\u001b[0m\n\u001b[1;32m      9\u001b[0m     \u001b[0;32mreturn\u001b[0m \u001b[0mtorch\u001b[0m\u001b[0;34m.\u001b[0m\u001b[0mstack\u001b[0m\u001b[0;34m(\u001b[0m\u001b[0mbeta\u001b[0m\u001b[0;34m)\u001b[0m\u001b[0;34m.\u001b[0m\u001b[0mflip\u001b[0m\u001b[0;34m(\u001b[0m\u001b[0;36m0\u001b[0m\u001b[0;34m)\u001b[0m  \u001b[0;31m# NB: we flip the axes back!\u001b[0m\u001b[0;34m\u001b[0m\u001b[0m\n",
      "\u001b[0;32m<ipython-input-20-bc7a0d766075>\u001b[0m in \u001b[0;36m<listcomp>\u001b[0;34m(.0)\u001b[0m\n\u001b[1;32m      5\u001b[0m             \u001b[0mb_m\u001b[0m \u001b[0;34m=\u001b[0m \u001b[0;34m[\u001b[0m\u001b[0;36m1.\u001b[0m \u001b[0;32mfor\u001b[0m \u001b[0m_\u001b[0m \u001b[0;32min\u001b[0m \u001b[0mrange\u001b[0m\u001b[0;34m(\u001b[0m\u001b[0mK\u001b[0m\u001b[0;34m)\u001b[0m\u001b[0;34m]\u001b[0m\u001b[0;34m\u001b[0m\u001b[0m\n\u001b[1;32m      6\u001b[0m         \u001b[0;32melse\u001b[0m\u001b[0;34m:\u001b[0m\u001b[0;34m\u001b[0m\u001b[0m\n\u001b[0;32m----> 7\u001b[0;31m             \u001b[0mb_m\u001b[0m \u001b[0;34m=\u001b[0m \u001b[0;34m[\u001b[0m\u001b[0msum\u001b[0m\u001b[0;34m(\u001b[0m\u001b[0mmodel\u001b[0m\u001b[0;34m.\u001b[0m\u001b[0mfactor\u001b[0m\u001b[0;34m(\u001b[0m\u001b[0mz_i\u001b[0m\u001b[0;34m,\u001b[0m \u001b[0mz_j\u001b[0m\u001b[0;34m,\u001b[0m \u001b[0mx\u001b[0m\u001b[0;34m[\u001b[0m\u001b[0mm\u001b[0m\u001b[0;34m+\u001b[0m\u001b[0;36m1\u001b[0m\u001b[0;34m]\u001b[0m\u001b[0;34m)\u001b[0m \u001b[0;34m*\u001b[0m \u001b[0mbeta\u001b[0m\u001b[0;34m[\u001b[0m\u001b[0;34m-\u001b[0m\u001b[0;36m1\u001b[0m\u001b[0;34m]\u001b[0m\u001b[0;34m[\u001b[0m\u001b[0mz_j\u001b[0m\u001b[0;34m]\u001b[0m \u001b[0;32mfor\u001b[0m \u001b[0mz_j\u001b[0m \u001b[0;32min\u001b[0m \u001b[0mrange\u001b[0m\u001b[0;34m(\u001b[0m\u001b[0mK\u001b[0m\u001b[0;34m)\u001b[0m\u001b[0;34m)\u001b[0m \u001b[0;32mfor\u001b[0m \u001b[0mz_i\u001b[0m \u001b[0;32min\u001b[0m \u001b[0mrange\u001b[0m\u001b[0;34m(\u001b[0m\u001b[0mK\u001b[0m\u001b[0;34m)\u001b[0m\u001b[0;34m]\u001b[0m\u001b[0;34m\u001b[0m\u001b[0m\n\u001b[0m\u001b[1;32m      8\u001b[0m         \u001b[0mbeta\u001b[0m\u001b[0;34m.\u001b[0m\u001b[0mappend\u001b[0m\u001b[0;34m(\u001b[0m\u001b[0mtorch\u001b[0m\u001b[0;34m.\u001b[0m\u001b[0mFloatTensor\u001b[0m\u001b[0;34m(\u001b[0m\u001b[0mb_m\u001b[0m\u001b[0;34m)\u001b[0m\u001b[0;34m)\u001b[0m\u001b[0;34m\u001b[0m\u001b[0m\n\u001b[1;32m      9\u001b[0m     \u001b[0;32mreturn\u001b[0m \u001b[0mtorch\u001b[0m\u001b[0;34m.\u001b[0m\u001b[0mstack\u001b[0m\u001b[0;34m(\u001b[0m\u001b[0mbeta\u001b[0m\u001b[0;34m)\u001b[0m\u001b[0;34m.\u001b[0m\u001b[0mflip\u001b[0m\u001b[0;34m(\u001b[0m\u001b[0;36m0\u001b[0m\u001b[0;34m)\u001b[0m  \u001b[0;31m# NB: we flip the axes back!\u001b[0m\u001b[0;34m\u001b[0m\u001b[0m\n",
      "\u001b[0;32m<ipython-input-20-bc7a0d766075>\u001b[0m in \u001b[0;36m<genexpr>\u001b[0;34m(.0)\u001b[0m\n\u001b[1;32m      5\u001b[0m             \u001b[0mb_m\u001b[0m \u001b[0;34m=\u001b[0m \u001b[0;34m[\u001b[0m\u001b[0;36m1.\u001b[0m \u001b[0;32mfor\u001b[0m \u001b[0m_\u001b[0m \u001b[0;32min\u001b[0m \u001b[0mrange\u001b[0m\u001b[0;34m(\u001b[0m\u001b[0mK\u001b[0m\u001b[0;34m)\u001b[0m\u001b[0;34m]\u001b[0m\u001b[0;34m\u001b[0m\u001b[0m\n\u001b[1;32m      6\u001b[0m         \u001b[0;32melse\u001b[0m\u001b[0;34m:\u001b[0m\u001b[0;34m\u001b[0m\u001b[0m\n\u001b[0;32m----> 7\u001b[0;31m             \u001b[0mb_m\u001b[0m \u001b[0;34m=\u001b[0m \u001b[0;34m[\u001b[0m\u001b[0msum\u001b[0m\u001b[0;34m(\u001b[0m\u001b[0mmodel\u001b[0m\u001b[0;34m.\u001b[0m\u001b[0mfactor\u001b[0m\u001b[0;34m(\u001b[0m\u001b[0mz_i\u001b[0m\u001b[0;34m,\u001b[0m \u001b[0mz_j\u001b[0m\u001b[0;34m,\u001b[0m \u001b[0mx\u001b[0m\u001b[0;34m[\u001b[0m\u001b[0mm\u001b[0m\u001b[0;34m+\u001b[0m\u001b[0;36m1\u001b[0m\u001b[0;34m]\u001b[0m\u001b[0;34m)\u001b[0m \u001b[0;34m*\u001b[0m \u001b[0mbeta\u001b[0m\u001b[0;34m[\u001b[0m\u001b[0;34m-\u001b[0m\u001b[0;36m1\u001b[0m\u001b[0;34m]\u001b[0m\u001b[0;34m[\u001b[0m\u001b[0mz_j\u001b[0m\u001b[0;34m]\u001b[0m \u001b[0;32mfor\u001b[0m \u001b[0mz_j\u001b[0m \u001b[0;32min\u001b[0m \u001b[0mrange\u001b[0m\u001b[0;34m(\u001b[0m\u001b[0mK\u001b[0m\u001b[0;34m)\u001b[0m\u001b[0;34m)\u001b[0m \u001b[0;32mfor\u001b[0m \u001b[0mz_i\u001b[0m \u001b[0;32min\u001b[0m \u001b[0mrange\u001b[0m\u001b[0;34m(\u001b[0m\u001b[0mK\u001b[0m\u001b[0;34m)\u001b[0m\u001b[0;34m]\u001b[0m\u001b[0;34m\u001b[0m\u001b[0m\n\u001b[0m\u001b[1;32m      8\u001b[0m         \u001b[0mbeta\u001b[0m\u001b[0;34m.\u001b[0m\u001b[0mappend\u001b[0m\u001b[0;34m(\u001b[0m\u001b[0mtorch\u001b[0m\u001b[0;34m.\u001b[0m\u001b[0mFloatTensor\u001b[0m\u001b[0;34m(\u001b[0m\u001b[0mb_m\u001b[0m\u001b[0;34m)\u001b[0m\u001b[0;34m)\u001b[0m\u001b[0;34m\u001b[0m\u001b[0m\n\u001b[1;32m      9\u001b[0m     \u001b[0;32mreturn\u001b[0m \u001b[0mtorch\u001b[0m\u001b[0;34m.\u001b[0m\u001b[0mstack\u001b[0m\u001b[0;34m(\u001b[0m\u001b[0mbeta\u001b[0m\u001b[0;34m)\u001b[0m\u001b[0;34m.\u001b[0m\u001b[0mflip\u001b[0m\u001b[0;34m(\u001b[0m\u001b[0;36m0\u001b[0m\u001b[0;34m)\u001b[0m  \u001b[0;31m# NB: we flip the axes back!\u001b[0m\u001b[0;34m\u001b[0m\u001b[0m\n",
      "\u001b[0;32m<ipython-input-18-f7fb8de5c1e0>\u001b[0m in \u001b[0;36mfactor\u001b[0;34m(self, z_i, z_j, x)\u001b[0m\n\u001b[1;32m     35\u001b[0m \u001b[0;34m\u001b[0m\u001b[0m\n\u001b[1;32m     36\u001b[0m     \u001b[0;32mdef\u001b[0m \u001b[0mfactor\u001b[0m\u001b[0;34m(\u001b[0m\u001b[0mself\u001b[0m\u001b[0;34m,\u001b[0m \u001b[0mz_i\u001b[0m\u001b[0;34m,\u001b[0m \u001b[0mz_j\u001b[0m\u001b[0;34m,\u001b[0m \u001b[0mx\u001b[0m\u001b[0;34m)\u001b[0m\u001b[0;34m:\u001b[0m\u001b[0;34m\u001b[0m\u001b[0m\n\u001b[0;32m---> 37\u001b[0;31m         \u001b[0;32mreturn\u001b[0m \u001b[0mself\u001b[0m\u001b[0;34m.\u001b[0m\u001b[0mA\u001b[0m\u001b[0;34m[\u001b[0m\u001b[0mz_i\u001b[0m\u001b[0;34m]\u001b[0m\u001b[0;34m[\u001b[0m\u001b[0mz_j\u001b[0m\u001b[0;34m]\u001b[0m \u001b[0;34m*\u001b[0m \u001b[0mself\u001b[0m\u001b[0;34m.\u001b[0m\u001b[0mlik\u001b[0m\u001b[0;34m(\u001b[0m\u001b[0mz_j\u001b[0m\u001b[0;34m,\u001b[0m \u001b[0mx\u001b[0m\u001b[0;34m)\u001b[0m\u001b[0;34m\u001b[0m\u001b[0m\n\u001b[0m\u001b[1;32m     38\u001b[0m \u001b[0;34m\u001b[0m\u001b[0m\n\u001b[1;32m     39\u001b[0m \u001b[0;34m\u001b[0m\u001b[0m\n",
      "\u001b[0;32m<ipython-input-18-f7fb8de5c1e0>\u001b[0m in \u001b[0;36mlik\u001b[0;34m(self, z, x)\u001b[0m\n\u001b[1;32m     32\u001b[0m         \"\"\"\n\u001b[1;32m     33\u001b[0m         \u001b[0mx\u001b[0m \u001b[0;34m=\u001b[0m \u001b[0mtorch\u001b[0m\u001b[0;34m.\u001b[0m\u001b[0mFloatTensor\u001b[0m\u001b[0;34m(\u001b[0m\u001b[0;34m[\u001b[0m\u001b[0mx\u001b[0m\u001b[0;34m]\u001b[0m\u001b[0;34m)\u001b[0m\u001b[0;34m\u001b[0m\u001b[0m\n\u001b[0;32m---> 34\u001b[0;31m         \u001b[0;32mreturn\u001b[0m \u001b[0mNormal\u001b[0m\u001b[0;34m(\u001b[0m\u001b[0mloc\u001b[0m\u001b[0;34m=\u001b[0m\u001b[0mself\u001b[0m\u001b[0;34m.\u001b[0m\u001b[0mmu\u001b[0m\u001b[0;34m[\u001b[0m\u001b[0mz\u001b[0m\u001b[0;34m]\u001b[0m\u001b[0;34m,\u001b[0m \u001b[0mscale\u001b[0m\u001b[0;34m=\u001b[0m\u001b[0mself\u001b[0m\u001b[0;34m.\u001b[0m\u001b[0mstd\u001b[0m\u001b[0;34m[\u001b[0m\u001b[0mz\u001b[0m\u001b[0;34m]\u001b[0m\u001b[0;34m)\u001b[0m\u001b[0;34m.\u001b[0m\u001b[0mlog_prob\u001b[0m\u001b[0;34m(\u001b[0m\u001b[0mx\u001b[0m\u001b[0;34m)\u001b[0m\u001b[0;34m.\u001b[0m\u001b[0mexp\u001b[0m\u001b[0;34m(\u001b[0m\u001b[0;34m)\u001b[0m\u001b[0;34m\u001b[0m\u001b[0m\n\u001b[0m\u001b[1;32m     35\u001b[0m \u001b[0;34m\u001b[0m\u001b[0m\n\u001b[1;32m     36\u001b[0m     \u001b[0;32mdef\u001b[0m \u001b[0mfactor\u001b[0m\u001b[0;34m(\u001b[0m\u001b[0mself\u001b[0m\u001b[0;34m,\u001b[0m \u001b[0mz_i\u001b[0m\u001b[0;34m,\u001b[0m \u001b[0mz_j\u001b[0m\u001b[0;34m,\u001b[0m \u001b[0mx\u001b[0m\u001b[0;34m)\u001b[0m\u001b[0;34m:\u001b[0m\u001b[0;34m\u001b[0m\u001b[0m\n",
      "\u001b[0;32m~/conda/lib/python3.6/site-packages/torch/distributions/normal.py\u001b[0m in \u001b[0;36mlog_prob\u001b[0;34m(self, value)\u001b[0m\n\u001b[1;32m     73\u001b[0m         \u001b[0;31m# compute the variance\u001b[0m\u001b[0;34m\u001b[0m\u001b[0;34m\u001b[0m\u001b[0m\n\u001b[1;32m     74\u001b[0m         \u001b[0mvar\u001b[0m \u001b[0;34m=\u001b[0m \u001b[0;34m(\u001b[0m\u001b[0mself\u001b[0m\u001b[0;34m.\u001b[0m\u001b[0mscale\u001b[0m \u001b[0;34m**\u001b[0m \u001b[0;36m2\u001b[0m\u001b[0;34m)\u001b[0m\u001b[0;34m\u001b[0m\u001b[0m\n\u001b[0;32m---> 75\u001b[0;31m         \u001b[0mlog_scale\u001b[0m \u001b[0;34m=\u001b[0m \u001b[0mmath\u001b[0m\u001b[0;34m.\u001b[0m\u001b[0mlog\u001b[0m\u001b[0;34m(\u001b[0m\u001b[0mself\u001b[0m\u001b[0;34m.\u001b[0m\u001b[0mscale\u001b[0m\u001b[0;34m)\u001b[0m \u001b[0;32mif\u001b[0m \u001b[0misinstance\u001b[0m\u001b[0;34m(\u001b[0m\u001b[0mself\u001b[0m\u001b[0;34m.\u001b[0m\u001b[0mscale\u001b[0m\u001b[0;34m,\u001b[0m \u001b[0mNumber\u001b[0m\u001b[0;34m)\u001b[0m \u001b[0;32melse\u001b[0m \u001b[0mself\u001b[0m\u001b[0;34m.\u001b[0m\u001b[0mscale\u001b[0m\u001b[0;34m.\u001b[0m\u001b[0mlog\u001b[0m\u001b[0;34m(\u001b[0m\u001b[0;34m)\u001b[0m\u001b[0;34m\u001b[0m\u001b[0m\n\u001b[0m\u001b[1;32m     76\u001b[0m         \u001b[0;32mreturn\u001b[0m \u001b[0;34m-\u001b[0m\u001b[0;34m(\u001b[0m\u001b[0;34m(\u001b[0m\u001b[0mvalue\u001b[0m \u001b[0;34m-\u001b[0m \u001b[0mself\u001b[0m\u001b[0;34m.\u001b[0m\u001b[0mloc\u001b[0m\u001b[0;34m)\u001b[0m \u001b[0;34m**\u001b[0m \u001b[0;36m2\u001b[0m\u001b[0;34m)\u001b[0m \u001b[0;34m/\u001b[0m \u001b[0;34m(\u001b[0m\u001b[0;36m2\u001b[0m \u001b[0;34m*\u001b[0m \u001b[0mvar\u001b[0m\u001b[0;34m)\u001b[0m \u001b[0;34m-\u001b[0m \u001b[0mlog_scale\u001b[0m \u001b[0;34m-\u001b[0m \u001b[0mmath\u001b[0m\u001b[0;34m.\u001b[0m\u001b[0mlog\u001b[0m\u001b[0;34m(\u001b[0m\u001b[0mmath\u001b[0m\u001b[0;34m.\u001b[0m\u001b[0msqrt\u001b[0m\u001b[0;34m(\u001b[0m\u001b[0;36m2\u001b[0m \u001b[0;34m*\u001b[0m \u001b[0mmath\u001b[0m\u001b[0;34m.\u001b[0m\u001b[0mpi\u001b[0m\u001b[0;34m)\u001b[0m\u001b[0;34m)\u001b[0m\u001b[0;34m\u001b[0m\u001b[0m\n\u001b[1;32m     77\u001b[0m \u001b[0;34m\u001b[0m\u001b[0m\n",
      "\u001b[0;31mKeyboardInterrupt\u001b[0m: "
     ]
    }
   ],
   "source": [
    "N_EPOCHS = 500\n",
    "\n",
    "model = HMM(pi=pi, A=A, mu=mu)\n",
    "\n",
    "model = train_via_em(X, model, N_EPOCHS, verbose=True)"
   ]
  },
  {
   "cell_type": "markdown",
   "metadata": {},
   "source": [
    "# M-step"
   ]
  },
  {
   "cell_type": "code",
   "execution_count": 60,
   "metadata": {},
   "outputs": [],
   "source": [
    "def m_step(hmm, gamma, zeta):\n",
    "    tgt = 0\n",
    "\n",
    "    tgt += (gamma[0] * hmm.pi.log()).sum()\n",
    "    for zta in zeta:\n",
    "        tgt += (zta * hmm.A.log()).sum()\n",
    "    for m, gma in enumerate(gamma):\n",
    "        for z in range(K):\n",
    "            tgt += gma[z] * hmm.lik(z, m).log()\n",
    "    \n",
    "    return tgt"
   ]
  },
  {
   "cell_type": "markdown",
   "metadata": {},
   "source": [
    "# Neural HMM"
   ]
  },
  {
   "cell_type": "markdown",
   "metadata": {},
   "source": [
    "## Train"
   ]
  },
  {
   "cell_type": "code",
   "execution_count": null,
   "metadata": {},
   "outputs": [],
   "source": [
    "N_EPOCHS = 100\n",
    "LR = .01\n",
    "\n",
    "hmm = NeuralHMM(pi, A, X)\n",
    "optim = Adam(hmm.parameters(), lr=LR)\n",
    "\n",
    "for n in range(N_EPOCHS):\n",
    "    gamma, evd, zeta = e_step(hmm)\n",
    "    tgt = m_step(hmm, gamma, zeta)\n",
    "    (-tgt).backward()\n",
    "    optim.step()\n",
    "    \n",
    "    assert np.allclose(hmm.pi.sum().detach().numpy(), 1.)\n",
    "    assert np.allclose(hmm.A.sum(1).detach().numpy(), 1.)\n",
    "    \n",
    "    if n % (N_EPOCHS / 10) == 0 and n != 0:\n",
    "        print(f'Epoch {n} | P(X): {evd:1.5}')"
   ]
  }
 ],
 "metadata": {
  "kernelspec": {
   "display_name": "Python 3",
   "language": "python",
   "name": "python3"
  },
  "language_info": {
   "codemirror_mode": {
    "name": "ipython",
    "version": 3
   },
   "file_extension": ".py",
   "mimetype": "text/x-python",
   "name": "python",
   "nbconvert_exporter": "python",
   "pygments_lexer": "ipython3",
   "version": "3.6.6"
  }
 },
 "nbformat": 4,
 "nbformat_minor": 2
}
