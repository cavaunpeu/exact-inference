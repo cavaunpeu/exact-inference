{
 "cells": [
  {
   "cell_type": "code",
   "execution_count": 6,
   "metadata": {},
   "outputs": [],
   "source": [
    "from collections import deque, defaultdict\n",
    "from functools import reduce\n",
    "from itertools import product, chain\n",
    "from math import sin\n",
    "import operator\n",
    "import pickle\n",
    "\n",
    "import sympy\n",
    "from sympy import Function, Symbol, Max"
   ]
  },
  {
   "cell_type": "markdown",
   "metadata": {},
   "source": [
    "# Load correct messages"
   ]
  },
  {
   "cell_type": "code",
   "execution_count": 7,
   "metadata": {},
   "outputs": [],
   "source": [
    "EXPECTED_MESSAGES = pickle.load(open('expected_messages.pkl', 'rb'))"
   ]
  },
  {
   "cell_type": "markdown",
   "metadata": {},
   "source": [
    "# Define required objects"
   ]
  },
  {
   "cell_type": "code",
   "execution_count": 41,
   "metadata": {},
   "outputs": [],
   "source": [
    "class Node:\n",
    "        \n",
    "    def add_neighbors(self, nbrs):\n",
    "        if not isinstance(nbrs, list):\n",
    "            nbrs = [nbrs]\n",
    "        assert all([isinstance(n, self.required_nbr_type) for n in nbrs])\n",
    "        self.neighbors.extend(nbrs)\n",
    "  \n",
    "    def clear_messages(self):\n",
    "        self.messages = set()\n",
    "        self.max_messages = set()\n",
    "    \n",
    "    @property\n",
    "    def is_child(self):\n",
    "        return len(self.neighbors) == 1\n",
    "\n",
    "\n",
    "class Variable(Node):\n",
    "    \n",
    "    def __init__(self, name, vals):\n",
    "        self.name = name\n",
    "        self.neighbors = []\n",
    "        self.required_nbr_type = Factor\n",
    "        self.symbol = Symbol(name)\n",
    "        self.vals = vals\n",
    "        self.messages = set()\n",
    "        self.max_messages = set()\n",
    "        \n",
    "    def repr_messages(self):\n",
    "        return {repr(m) for m in self.messages}\n",
    "        \n",
    "    def marginal(self, val):\n",
    "        if len(self.messages) != len(self.neighbors):\n",
    "            raise Exception(f'Variable {self.name} has not yet received all incoming messages')\n",
    "        if val not in self.vals:\n",
    "            raise Exception(f'{val} not in this variable\\'s support: {self.vals}')\n",
    "        Z = 0  # Compute normalization constant\n",
    "        for v in self.vals:\n",
    "            expr = 1\n",
    "            for msg in self.messages:\n",
    "                expr *= msg.expr.subs({self.symbol: v})\n",
    "            Z += expr\n",
    "            if v == val:  # Compute numerator\n",
    "                p_tilde = expr\n",
    "        return p_tilde / Z\n",
    "\n",
    "\n",
    "class Factor(Node):\n",
    "    \n",
    "    def __init__(self, name):\n",
    "        self.name = name\n",
    "        self.neighbors = []\n",
    "        self.required_nbr_type = Variable\n",
    "        self.func = Function(name)\n",
    "        self.messages = set()\n",
    "        self.max_messages = set()\n",
    "        \n",
    "    def add_neighbors(self, nbrs):\n",
    "        for nbr in nbrs:\n",
    "            nbr.add_neighbors([self])\n",
    "        super().add_neighbors(nbrs)\n",
    "        \n",
    "    @property\n",
    "    def expr(self):\n",
    "        return self.func(*[n.symbol for n in self.neighbors])\n",
    "    \n",
    "\n",
    "class Message:\n",
    "    \n",
    "    def __init__(self, expr, from_node, to_node):\n",
    "        self.expr = expr\n",
    "        self.from_node = from_node\n",
    "        self.to_node = to_node\n",
    "    \n",
    "    def __repr__(self):\n",
    "        return f'({self.expr}, {self.from_node.name}, {self.to_node.name})'\n",
    "    \n",
    "    \n",
    "class MaxMessage(Message):\n",
    "    pass\n",
    "\n",
    "\n",
    "class Graph:\n",
    "    \n",
    "    def __init__(self):\n",
    "        self.factors = {}\n",
    "        \n",
    "    def add(self, fac, lmbda_expr=None):\n",
    "        self.factors[fac] = {\n",
    "            'lmbda_expr': lmbda_expr,\n",
    "        }\n",
    "        \n",
    "    def __call__(self, expr, subs=None):\n",
    "        for fac, metadata in self.factors.items():\n",
    "            if metadata.get('lmbda_expr'):\n",
    "                expr = expr.replace(fac.func, metadata['lmbda_expr'])\n",
    "        return expr.subs(subs or {})\n",
    "    \n",
    "    @property\n",
    "    def factor_args(self):\n",
    "        return {fac.func: fac.expr.args for fac in self.factors}\n",
    "    \n",
    "    @property\n",
    "    def nodes(self):\n",
    "        nodes = set()\n",
    "        for f in self.factors:\n",
    "            nodes = nodes | set([f] + f.neighbors)\n",
    "        return nodes\n",
    "    \n",
    "    def joint(self, subs=None):\n",
    "        expr = reduce(operator.mul, (fac.expr for fac in self.factors))\n",
    "        return self.__call__(expr, subs)\n",
    "\n",
    "\n",
    "def clear_messages(nodes):\n",
    "    return {n.clear_messages() for n in nodes}\n",
    "\n",
    "\n",
    "def repr_messages(nodes):\n",
    "    msgs = set()\n",
    "    for n in nodes:\n",
    "        msgs = msgs | {repr(m) for m in n.messages}\n",
    "    return msgs"
   ]
  },
  {
   "cell_type": "markdown",
   "metadata": {},
   "source": [
    "# Instantiate graph, define variables, add factors"
   ]
  },
  {
   "cell_type": "code",
   "execution_count": 42,
   "metadata": {},
   "outputs": [],
   "source": [
    "g = Graph()\n",
    "\n",
    "var_vals = [v for v in range(10)]\n",
    "\n",
    "# Variables\n",
    "x_1 = Variable('x_1', var_vals)\n",
    "x_2 = Variable('x_2', var_vals)\n",
    "x_3 = Variable('x_3', var_vals)\n",
    "x_4 = Variable('x_4', var_vals)\n",
    "\n",
    "# Factors\n",
    "f_a = Factor('f_a')\n",
    "f_b = Factor('f_b')\n",
    "f_c = Factor('f_c')\n",
    "\n",
    "# Define root\n",
    "root = x_3\n",
    "\n",
    "# Define factors\n",
    "f_c.add_neighbors([x_2, x_4])\n",
    "f_a.add_neighbors([x_1, x_2])\n",
    "f_b.add_neighbors([x_2, x_3])\n",
    "\n",
    "# Add factors to graph\n",
    "g.add(f_a, lambda x, y: sympy.exp(sympy.tanh(x + y / 10)))\n",
    "g.add(f_b, lambda x, y: sympy.exp(sympy.sin(x - y / 10)))\n",
    "g.add(f_c, lambda x, y: sympy.exp(sympy.log(sympy.log(y + 1) + 1)))"
   ]
  },
  {
   "cell_type": "markdown",
   "metadata": {},
   "source": [
    "# Define message passing helpers"
   ]
  },
  {
   "cell_type": "code",
   "execution_count": 43,
   "metadata": {},
   "outputs": [],
   "source": [
    "def compute_message(from_node, to_node):\n",
    "    if from_node.is_child:\n",
    "        expr = from_node.expr if isinstance(from_node, Factor) else 1\n",
    "        return Message(expr, from_node, to_node)\n",
    "    expr = reduce_incoming_msgs(from_node)\n",
    "    if isinstance(from_node, Factor):\n",
    "        expr *= aggregate_over_nbrs(from_node.expr, from_node, to_node)\n",
    "    return Message(expr, from_node, to_node)\n",
    "\n",
    "\n",
    "def compute_max_message(from_node, to_node):\n",
    "    if from_node.is_child:\n",
    "        expr = from_node.expr if isinstance(from_node, Factor) else 1\n",
    "        expr = sympy.log(expr)\n",
    "        return Message(expr, from_node, to_node)\n",
    "    expr = reduce_incoming_msgs(from_node, reduce_func=lambda x, y: x + y)\n",
    "    if isinstance(from_node, Factor):\n",
    "        expr += sympy.log(from_node.expr)\n",
    "        expr = aggregate_over_nbrs(expr, from_node, to_node, agg_func=sympy_max)\n",
    "    return MaxMessage(expr, from_node, to_node)\n",
    "\n",
    "\n",
    "def aggregate_over_nbrs(expr, from_node, to_node, agg_func=sum):\n",
    "    sum_over = [n for n in from_node.neighbors if n.name != to_node.name]\n",
    "    exprs = []\n",
    "    for vals in product(*[n.vals for n in sum_over]):\n",
    "        subs = {var.symbol: val for var, val in zip(sum_over, vals)}\n",
    "        exprs.append(from_node.expr.subs(subs))\n",
    "    return agg_func(exprs)\n",
    "\n",
    "\n",
    "def reduce_incoming_msgs(from_node, reduce_func=operator.mul):\n",
    "    return reduce(reduce_func, (msg.expr for msg in from_node.messages))\n",
    "\n",
    "\n",
    "def sympy_max(iterable):\n",
    "    return Max(*iterable)\n",
    "\n",
    "\n",
    "def get_argmaxes(expr):\n",
    "    def _get_argmaxes(expr):\n",
    "        if isinstance(expr, Max):\n",
    "            expr = tuple([expr])\n",
    "        if isinstance(expr, tuple) and all(isinstance(e, Max) for e in expr):\n",
    "            for e in expr:\n",
    "                max_val = g(e)\n",
    "                yield [term for term in e.args if g(term) == max_val][-1:]  # \"randomly\" choose the last one\n",
    "        else:\n",
    "            yield from _get_argmaxes(expr.args)\n",
    "    argmaxes, = zip(*_get_argmaxes(expr))\n",
    "    return argmaxes"
   ]
  },
  {
   "cell_type": "markdown",
   "metadata": {},
   "source": [
    "# Message passing\n",
    "\n",
    "- Pass messages to from children to root, then root to children, via the sum-product algorithm.\n",
    "- Additionally, compute max-messages via the max-sum algorithm, and the maximizing configuration of variables via the back-tracking algorithm."
   ]
  },
  {
   "cell_type": "code",
   "execution_count": 44,
   "metadata": {},
   "outputs": [],
   "source": [
    "clear_messages(g.nodes)\n",
    "\n",
    "queue = deque([n for n in g.nodes if n.is_child and n != root])\n",
    "visited = deque()\n",
    "forward = True\n",
    "max_states = defaultdict(list)\n",
    "\n",
    "\n",
    "def back_track(node):\n",
    "    max_msg = sum(m.expr for m in node.max_messages)\n",
    "    max_exprs = {v: max_msg.subs(node.symbol, v) for v in node.vals}\n",
    "    maxes = {v: g(expr) for v, expr in max_exprs.items()}\n",
    "    if node == root:\n",
    "        max_val = max(maxes.values())\n",
    "        max_states[node.symbol] += [v for v, mx in maxes.items() if mx == max_val]\n",
    "    for v in max_states[node.symbol]:\n",
    "        argmaxes = get_argmaxes(max_exprs[v])\n",
    "        for fac in argmaxes:\n",
    "            setting, = [(s, v) for s, v in zip(g.factor_args[fac.func], fac.args) if s != node.symbol]\n",
    "            phi_n, v = setting\n",
    "            max_states[phi_n].append(v)\n",
    "\n",
    "\n",
    "# Pass messages forward and back; run max-sum in parallel\n",
    "while queue and visited != g.nodes:\n",
    "    node = queue.popleft() if forward else queue.pop()\n",
    "    if not forward and isinstance(node, Variable) and node.max_messages:  # Back-track for max-sum\n",
    "        back_track(node)\n",
    "    for nbr in filter(lambda n: n not in visited, node.neighbors):\n",
    "        msg = compute_message(from_node=node, to_node=nbr)\n",
    "        nbr.messages.add(msg)\n",
    "        if forward:\n",
    "            max_msg = compute_max_message(from_node=node, to_node=nbr)\n",
    "            nbr.max_messages.add(max_msg)\n",
    "        if nbr not in queue:\n",
    "            queue.append(nbr)\n",
    "    visited.append(node)\n",
    "    if forward and not queue:\n",
    "        forward = False\n",
    "        queue = visited\n",
    "        visited = deque()"
   ]
  },
  {
   "cell_type": "code",
   "execution_count": 45,
   "metadata": {},
   "outputs": [],
   "source": [
    "assert EXPECTED_MESSAGES == repr_messages(g.nodes)"
   ]
  },
  {
   "cell_type": "markdown",
   "metadata": {},
   "source": [
    "# Print maximizing configurations"
   ]
  },
  {
   "cell_type": "code",
   "execution_count": 46,
   "metadata": {},
   "outputs": [
    {
     "name": "stdout",
     "output_type": "stream",
     "text": [
      "Config: {x_3: 4, x_2: 2, x_1: 9, x_4: 9} | Max val: 24.392582884438887\n"
     ]
    }
   ],
   "source": [
    "configs = [{k: v for k, v in zip(max_states.keys(), states)} for states in zip(*max_states.values())]\n",
    "\n",
    "for c in configs:\n",
    "    max_val = float(g.joint(subs=c))\n",
    "    print(f'Config: {c} | Max val: {max_val}')"
   ]
  },
  {
   "cell_type": "markdown",
   "metadata": {},
   "source": [
    "# Compute marginals"
   ]
  },
  {
   "cell_type": "code",
   "execution_count": 47,
   "metadata": {},
   "outputs": [
    {
     "name": "stdout",
     "output_type": "stream",
     "text": [
      "0: 0.0442\n",
      "1: 0.112\n",
      "2: 0.175\n",
      "3: 0.119\n",
      "4: 0.0489\n",
      "5: 0.0273\n",
      "6: 0.0383\n",
      "7: 0.0961\n",
      "8: 0.183\n",
      "9: 0.156\n"
     ]
    }
   ],
   "source": [
    "total = 0\n",
    "for v in var_vals:\n",
    "    m = float(g(x_2.marginal(v)))\n",
    "    total += m\n",
    "    print(f'{v}: {m:1.3}')\n",
    "\n",
    "assert total == 1"
   ]
  }
 ],
 "metadata": {
  "kernelspec": {
   "display_name": "Python 3",
   "language": "python",
   "name": "python3"
  },
  "language_info": {
   "codemirror_mode": {
    "name": "ipython",
    "version": 3
   },
   "file_extension": ".py",
   "mimetype": "text/x-python",
   "name": "python",
   "nbconvert_exporter": "python",
   "pygments_lexer": "ipython3",
   "version": "3.7.1"
  }
 },
 "nbformat": 4,
 "nbformat_minor": 2
}
