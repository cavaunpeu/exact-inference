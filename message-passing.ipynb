{
 "cells": [
  {
   "cell_type": "code",
   "execution_count": 103,
   "metadata": {},
   "outputs": [],
   "source": [
    "from collections import deque, defaultdict\n",
    "from functools import reduce\n",
    "from itertools import product\n",
    "from math import log\n",
    "import operator\n",
    "import pickle\n",
    "\n",
    "from sympy import Function, Symbol, log, Max"
   ]
  },
  {
   "cell_type": "markdown",
   "metadata": {},
   "source": [
    "# Load correct messages"
   ]
  },
  {
   "cell_type": "code",
   "execution_count": 2,
   "metadata": {},
   "outputs": [],
   "source": [
    "EXPECTED_MESSAGES = pickle.load(open('expected_messages.pkl', 'rb'))"
   ]
  },
  {
   "cell_type": "code",
   "execution_count": 3,
   "metadata": {},
   "outputs": [],
   "source": [
    "class Node:\n",
    "        \n",
    "    def add_neighbors(self, nbrs):\n",
    "        if not isinstance(nbrs, list):\n",
    "            nbrs = [nbrs]\n",
    "        assert all([isinstance(n, self.required_nbr_type) for n in nbrs])\n",
    "        self.neighbors.extend(nbrs)\n",
    "  \n",
    "    def clear_messages(self):\n",
    "        self.messages = set()\n",
    "        self.max_messages = set()\n",
    "    \n",
    "    @property\n",
    "    def is_child(self):\n",
    "        return len(self.neighbors) == 1\n",
    "\n",
    "\n",
    "class Variable(Node):\n",
    "    \n",
    "    def __init__(self, name, vals):\n",
    "        self.name = name\n",
    "        self.neighbors = []\n",
    "        self.required_nbr_type = Factor\n",
    "        self.symbol = Symbol(name)\n",
    "        self.vals = vals\n",
    "        self.messages = set()\n",
    "        self.max_messages = set()\n",
    "        \n",
    "    def repr_messages(self):\n",
    "        return {repr(m) for m in self.messages}\n",
    "        \n",
    "    def marginal(self, val):\n",
    "        if len(self.messages) != len(self.neighbors):\n",
    "            raise Expcetion(f'Variable {self.name} has not yet received all incoming messages')\n",
    "        if val not in self.vals:\n",
    "            raise Exception(f'{val} not in this variable\\'s support: {self.vals}')\n",
    "        Z = 0  # Compute normalization constant\n",
    "        for v in self.vals:\n",
    "            expr = 1\n",
    "            for msg in self.messages:\n",
    "                expr *= msg.expr.subs({self.symbol: v})\n",
    "            Z += expr\n",
    "            if v == val:  # Compute numerator\n",
    "                p_tilde = expr\n",
    "        return p_tilde / Z\n",
    "\n",
    "\n",
    "class Factor(Node):\n",
    "    \n",
    "    def __init__(self, name):\n",
    "        self.name = name\n",
    "        self.neighbors = []\n",
    "        self.required_nbr_type = Variable\n",
    "        self.func = Function(name)\n",
    "        self.messages = set()\n",
    "        self.max_messages = set()\n",
    "        \n",
    "    def add_neighbors(self, nbrs):\n",
    "        for nbr in nbrs:\n",
    "            nbr.add_neighbors([self])\n",
    "        super().add_neighbors(nbrs)\n",
    "        \n",
    "    @property\n",
    "    def expr(self):\n",
    "        return self.func(*[n.symbol for n in self.neighbors])\n",
    "    \n",
    "\n",
    "class Message:\n",
    "    \n",
    "    def __init__(self, expr, from_node, to_node):\n",
    "        self.expr = expr\n",
    "        self.from_node = from_node\n",
    "        self.to_node = to_node\n",
    "    \n",
    "    def __repr__(self):\n",
    "        return f'({self.expr}, {self.from_node.name}, {self.to_node.name})'\n",
    "    \n",
    "    \n",
    "class MaxMessage(Message):\n",
    "    pass\n",
    "\n",
    "\n",
    "def clear_messages(nodes):\n",
    "    return {n.clear_messages() for n in nodes}\n",
    "\n",
    "\n",
    "def repr_messages(nodes):\n",
    "    msgs = set()\n",
    "    for n in nodes:\n",
    "        msgs = msgs | {repr(m) for m in n.messages}\n",
    "    return msgs"
   ]
  },
  {
   "cell_type": "code",
   "execution_count": 106,
   "metadata": {},
   "outputs": [],
   "source": [
    "g = set()\n",
    "\n",
    "var_vals = [v for v in range(10)]\n",
    "\n",
    "# Variables\n",
    "x_1 = Variable('x_1', var_vals)\n",
    "x_2 = Variable('x_2', var_vals)\n",
    "x_3 = Variable('x_3', var_vals)\n",
    "x_4 = Variable('x_4', var_vals)\n",
    "\n",
    "# Factors\n",
    "f_a = Factor('f_a')\n",
    "f_b = Factor('f_b')\n",
    "f_c = Factor('f_c')\n",
    "\n",
    "# Define root\n",
    "root = x_3\n",
    "\n",
    "# Define factors\n",
    "f_c.add_neighbors([x_2, x_4])\n",
    "f_a.add_neighbors([x_1, x_2])\n",
    "f_b.add_neighbors([x_2, x_3])\n",
    "\n",
    "# Add factors to graph\n",
    "g.add(f_a)\n",
    "g.add(f_b)\n",
    "g.add(f_c)\n",
    "\n",
    "# Enumerate all nodes\n",
    "nodes = set()\n",
    "for f in g:\n",
    "    nodes = nodes | set([f] + f.neighbors)\n",
    "\n",
    "# Persist factor args\n",
    "factor_args = {f.func: f.expr.args for f in g}\n",
    "\n",
    "# Define dummy funcs\n",
    "factor_funcs = {\n",
    "    f_a.func: lambda x, y: x + y,\n",
    "    f_b.func: lambda x, y: x * y,\n",
    "    f_c.func: lambda x, y: x ** y\n",
    "}"
   ]
  },
  {
   "cell_type": "code",
   "execution_count": 163,
   "metadata": {},
   "outputs": [],
   "source": [
    "def compute_message(from_node, to_node):\n",
    "    if from_node.is_child:\n",
    "        expr = from_node.expr if isinstance(from_node, Factor) else 1\n",
    "        return Message(expr, from_node, to_node)\n",
    "    expr = reduce_incoming_msgs(from_node)\n",
    "    if isinstance(from_node, Factor):\n",
    "        expr *= aggregate_over_nbrs(from_node.expr, from_node, to_node)\n",
    "    return Message(expr, from_node, to_node)\n",
    "\n",
    "\n",
    "def compute_max_message(from_node, to_node):\n",
    "    if from_node.is_child:\n",
    "        expr = from_node.expr if isinstance(from_node, Factor) else 1\n",
    "        expr = log(expr)\n",
    "        return Message(expr, from_node, to_node)\n",
    "    expr = reduce_incoming_msgs(from_node, reduce_func=lambda x, y: x + y)\n",
    "    if isinstance(from_node, Factor):\n",
    "        expr += log(from_node.expr)\n",
    "        expr = aggregate_over_nbrs(expr, from_node, to_node, agg_func=sympy_max)\n",
    "    return MaxMessage(expr, from_node, to_node)\n",
    "\n",
    "\n",
    "def aggregate_over_nbrs(expr, from_node, to_node, agg_func=sum):\n",
    "    sum_over = [n for n in from_node.neighbors if n.name != to_node.name]\n",
    "    exprs = []\n",
    "    for vals in product(*[n.vals for n in sum_over]):\n",
    "        subs = {var.symbol: val for var, val in zip(sum_over, vals)}\n",
    "        exprs.append(from_node.expr.subs(subs))\n",
    "    return agg_func(exprs)\n",
    "\n",
    "\n",
    "def reduce_incoming_msgs(from_node, reduce_func=operator.mul):\n",
    "    return reduce(reduce_func, (msg.expr for msg in from_node.messages))\n",
    "\n",
    "\n",
    "def sympy_max(iterable):\n",
    "    return Max(*iterable)\n",
    "\n",
    "\n",
    "def replace_funcs(expr):\n",
    "    for func, lmbda_expr in factor_funcs.items():\n",
    "        expr = expr.replace(func, lmbda_expr)\n",
    "    return expr\n",
    "\n",
    "\n",
    "def get_argmaxes(expr):\n",
    "    def _get_argmaxes(expr):\n",
    "        if isinstance(expr, Max):\n",
    "            expr = tuple([expr])\n",
    "        if isinstance(expr, tuple) and all(isinstance(e, Max) for e in expr):\n",
    "            for e in expr:\n",
    "                max_val = replace_funcs(e)\n",
    "                yield [term for term in e.args if replace_funcs(term) == max_val][-1:]  # \"randomly\" choose the last one\n",
    "        else:\n",
    "            yield from _get_argmaxes(expr.args)\n",
    "    argmaxes, = zip(*_get_argmaxes(expr))\n",
    "    return argmaxes"
   ]
  },
  {
   "cell_type": "markdown",
   "metadata": {},
   "source": [
    "# Pass messages to from children to root, then root to children"
   ]
  },
  {
   "cell_type": "code",
   "execution_count": 150,
   "metadata": {},
   "outputs": [],
   "source": [
    "clear_messages(nodes)\n",
    "\n",
    "queue = deque([n for n in nodes if n.is_child and n != root])\n",
    "visited = deque()\n",
    "forward = True\n",
    "\n",
    "while queue and visited != nodes:\n",
    "    node = queue.popleft() if forward else queue.pop()\n",
    "    for nbr in filter(lambda n: n not in visited, node.neighbors):\n",
    "        msg = compute_message(from_node=node, to_node=nbr)\n",
    "        nbr.messages.add(msg)\n",
    "        if forward:\n",
    "            max_msg = compute_max_message(from_node=node, to_node=nbr)\n",
    "            nbr.max_messages.add(max_msg)\n",
    "        else:  # Back-track for max-sum\n",
    "            pass\n",
    "#             - only compute for variables\n",
    "#             - zip with some outside dict of args for each factor func\n",
    "#             - maintain a dict with list keys and vals that you += to\n",
    "        if nbr not in queue:\n",
    "            queue.append(nbr)\n",
    "    visited.append(node)\n",
    "    if forward and not queue:\n",
    "        forward = False\n",
    "        queue = visited\n",
    "        visited = deque()"
   ]
  },
  {
   "cell_type": "code",
   "execution_count": 151,
   "metadata": {},
   "outputs": [],
   "source": [
    "assert EXPECTED_MESSAGES == repr_messages(nodes)"
   ]
  },
  {
   "cell_type": "code",
   "execution_count": 152,
   "metadata": {},
   "outputs": [],
   "source": [
    "node = x_3\n",
    "\n",
    "msg = sum(m.expr for m in node.max_messages)"
   ]
  },
  {
   "cell_type": "code",
   "execution_count": 153,
   "metadata": {},
   "outputs": [],
   "source": [
    "max_exprs = {v: msg.subs(node.symbol, v) for v in node.vals}"
   ]
  },
  {
   "cell_type": "code",
   "execution_count": 154,
   "metadata": {},
   "outputs": [],
   "source": [
    "maxes = {v: replace_funcs(expr) for v, expr in max_exprs.items()}"
   ]
  },
  {
   "cell_type": "code",
   "execution_count": 155,
   "metadata": {},
   "outputs": [],
   "source": [
    "max_val = max(maxes.values())"
   ]
  },
  {
   "cell_type": "code",
   "execution_count": 156,
   "metadata": {},
   "outputs": [],
   "source": [
    "configs = defaultdict(list)"
   ]
  },
  {
   "cell_type": "code",
   "execution_count": 157,
   "metadata": {},
   "outputs": [],
   "source": [
    "configs[node] += [v for v, mx in maxes.items() if mx == max_val]"
   ]
  },
  {
   "cell_type": "code",
   "execution_count": 158,
   "metadata": {},
   "outputs": [
    {
     "data": {
      "text/plain": [
       "defaultdict(list, {<__main__.Variable at 0x7f22ac11cf60>: [9]})"
      ]
     },
     "execution_count": 158,
     "metadata": {},
     "output_type": "execute_result"
    }
   ],
   "source": [
    "configs"
   ]
  },
  {
   "cell_type": "code",
   "execution_count": 169,
   "metadata": {},
   "outputs": [],
   "source": [
    "for v in configs[node]:\n",
    "    argmaxes = get_argmaxes(max_exprs[v])\n",
    "    for fac in argmaxes:\n",
    "        setting, = [(s, v) for s, v in zip(factor_args[fac.func], fac.args) if s != node.symbol]\n",
    "        phi_n, v = setting\n",
    "        configs[phi_n].append(v)  # we need to make phi_n into its factor obj, not symbol"
   ]
  },
  {
   "cell_type": "markdown",
   "metadata": {},
   "source": [
    "# Compute marginal"
   ]
  },
  {
   "cell_type": "code",
   "execution_count": 624,
   "metadata": {},
   "outputs": [
    {
     "data": {
      "text/plain": [
       "(f_a(0, 2) + f_a(1, 2) + f_a(2, 2) + f_a(3, 2) + f_a(4, 2) + f_a(5, 2) + f_a(6, 2) + f_a(7, 2) + f_a(8, 2) + f_a(9, 2))**2*(f_b(2, 0) + f_b(2, 1) + f_b(2, 2) + f_b(2, 3) + f_b(2, 4) + f_b(2, 5) + f_b(2, 6) + f_b(2, 7) + f_b(2, 8) + f_b(2, 9))*(f_c(2, 0) + f_c(2, 1) + f_c(2, 2) + f_c(2, 3) + f_c(2, 4) + f_c(2, 5) + f_c(2, 6) + f_c(2, 7) + f_c(2, 8) + f_c(2, 9))**2/((f_a(0, 0) + f_a(1, 0) + f_a(2, 0) + f_a(3, 0) + f_a(4, 0) + f_a(5, 0) + f_a(6, 0) + f_a(7, 0) + f_a(8, 0) + f_a(9, 0))**2*(f_b(0, 0) + f_b(0, 1) + f_b(0, 2) + f_b(0, 3) + f_b(0, 4) + f_b(0, 5) + f_b(0, 6) + f_b(0, 7) + f_b(0, 8) + f_b(0, 9))*(f_c(0, 0) + f_c(0, 1) + f_c(0, 2) + f_c(0, 3) + f_c(0, 4) + f_c(0, 5) + f_c(0, 6) + f_c(0, 7) + f_c(0, 8) + f_c(0, 9))**2 + (f_a(0, 1) + f_a(1, 1) + f_a(2, 1) + f_a(3, 1) + f_a(4, 1) + f_a(5, 1) + f_a(6, 1) + f_a(7, 1) + f_a(8, 1) + f_a(9, 1))**2*(f_b(1, 0) + f_b(1, 1) + f_b(1, 2) + f_b(1, 3) + f_b(1, 4) + f_b(1, 5) + f_b(1, 6) + f_b(1, 7) + f_b(1, 8) + f_b(1, 9))*(f_c(1, 0) + f_c(1, 1) + f_c(1, 2) + f_c(1, 3) + f_c(1, 4) + f_c(1, 5) + f_c(1, 6) + f_c(1, 7) + f_c(1, 8) + f_c(1, 9))**2 + (f_a(0, 2) + f_a(1, 2) + f_a(2, 2) + f_a(3, 2) + f_a(4, 2) + f_a(5, 2) + f_a(6, 2) + f_a(7, 2) + f_a(8, 2) + f_a(9, 2))**2*(f_b(2, 0) + f_b(2, 1) + f_b(2, 2) + f_b(2, 3) + f_b(2, 4) + f_b(2, 5) + f_b(2, 6) + f_b(2, 7) + f_b(2, 8) + f_b(2, 9))*(f_c(2, 0) + f_c(2, 1) + f_c(2, 2) + f_c(2, 3) + f_c(2, 4) + f_c(2, 5) + f_c(2, 6) + f_c(2, 7) + f_c(2, 8) + f_c(2, 9))**2 + (f_a(0, 3) + f_a(1, 3) + f_a(2, 3) + f_a(3, 3) + f_a(4, 3) + f_a(5, 3) + f_a(6, 3) + f_a(7, 3) + f_a(8, 3) + f_a(9, 3))**2*(f_b(3, 0) + f_b(3, 1) + f_b(3, 2) + f_b(3, 3) + f_b(3, 4) + f_b(3, 5) + f_b(3, 6) + f_b(3, 7) + f_b(3, 8) + f_b(3, 9))*(f_c(3, 0) + f_c(3, 1) + f_c(3, 2) + f_c(3, 3) + f_c(3, 4) + f_c(3, 5) + f_c(3, 6) + f_c(3, 7) + f_c(3, 8) + f_c(3, 9))**2 + (f_a(0, 4) + f_a(1, 4) + f_a(2, 4) + f_a(3, 4) + f_a(4, 4) + f_a(5, 4) + f_a(6, 4) + f_a(7, 4) + f_a(8, 4) + f_a(9, 4))**2*(f_b(4, 0) + f_b(4, 1) + f_b(4, 2) + f_b(4, 3) + f_b(4, 4) + f_b(4, 5) + f_b(4, 6) + f_b(4, 7) + f_b(4, 8) + f_b(4, 9))*(f_c(4, 0) + f_c(4, 1) + f_c(4, 2) + f_c(4, 3) + f_c(4, 4) + f_c(4, 5) + f_c(4, 6) + f_c(4, 7) + f_c(4, 8) + f_c(4, 9))**2 + (f_a(0, 5) + f_a(1, 5) + f_a(2, 5) + f_a(3, 5) + f_a(4, 5) + f_a(5, 5) + f_a(6, 5) + f_a(7, 5) + f_a(8, 5) + f_a(9, 5))**2*(f_b(5, 0) + f_b(5, 1) + f_b(5, 2) + f_b(5, 3) + f_b(5, 4) + f_b(5, 5) + f_b(5, 6) + f_b(5, 7) + f_b(5, 8) + f_b(5, 9))*(f_c(5, 0) + f_c(5, 1) + f_c(5, 2) + f_c(5, 3) + f_c(5, 4) + f_c(5, 5) + f_c(5, 6) + f_c(5, 7) + f_c(5, 8) + f_c(5, 9))**2 + (f_a(0, 6) + f_a(1, 6) + f_a(2, 6) + f_a(3, 6) + f_a(4, 6) + f_a(5, 6) + f_a(6, 6) + f_a(7, 6) + f_a(8, 6) + f_a(9, 6))**2*(f_b(6, 0) + f_b(6, 1) + f_b(6, 2) + f_b(6, 3) + f_b(6, 4) + f_b(6, 5) + f_b(6, 6) + f_b(6, 7) + f_b(6, 8) + f_b(6, 9))*(f_c(6, 0) + f_c(6, 1) + f_c(6, 2) + f_c(6, 3) + f_c(6, 4) + f_c(6, 5) + f_c(6, 6) + f_c(6, 7) + f_c(6, 8) + f_c(6, 9))**2 + (f_a(0, 7) + f_a(1, 7) + f_a(2, 7) + f_a(3, 7) + f_a(4, 7) + f_a(5, 7) + f_a(6, 7) + f_a(7, 7) + f_a(8, 7) + f_a(9, 7))**2*(f_b(7, 0) + f_b(7, 1) + f_b(7, 2) + f_b(7, 3) + f_b(7, 4) + f_b(7, 5) + f_b(7, 6) + f_b(7, 7) + f_b(7, 8) + f_b(7, 9))*(f_c(7, 0) + f_c(7, 1) + f_c(7, 2) + f_c(7, 3) + f_c(7, 4) + f_c(7, 5) + f_c(7, 6) + f_c(7, 7) + f_c(7, 8) + f_c(7, 9))**2 + (f_a(0, 8) + f_a(1, 8) + f_a(2, 8) + f_a(3, 8) + f_a(4, 8) + f_a(5, 8) + f_a(6, 8) + f_a(7, 8) + f_a(8, 8) + f_a(9, 8))**2*(f_b(8, 0) + f_b(8, 1) + f_b(8, 2) + f_b(8, 3) + f_b(8, 4) + f_b(8, 5) + f_b(8, 6) + f_b(8, 7) + f_b(8, 8) + f_b(8, 9))*(f_c(8, 0) + f_c(8, 1) + f_c(8, 2) + f_c(8, 3) + f_c(8, 4) + f_c(8, 5) + f_c(8, 6) + f_c(8, 7) + f_c(8, 8) + f_c(8, 9))**2 + (f_a(0, 9) + f_a(1, 9) + f_a(2, 9) + f_a(3, 9) + f_a(4, 9) + f_a(5, 9) + f_a(6, 9) + f_a(7, 9) + f_a(8, 9) + f_a(9, 9))**2*(f_b(9, 0) + f_b(9, 1) + f_b(9, 2) + f_b(9, 3) + f_b(9, 4) + f_b(9, 5) + f_b(9, 6) + f_b(9, 7) + f_b(9, 8) + f_b(9, 9))*(f_c(9, 0) + f_c(9, 1) + f_c(9, 2) + f_c(9, 3) + f_c(9, 4) + f_c(9, 5) + f_c(9, 6) + f_c(9, 7) + f_c(9, 8) + f_c(9, 9))**2)"
      ]
     },
     "execution_count": 624,
     "metadata": {},
     "output_type": "execute_result"
    }
   ],
   "source": [
    "x_2.marginal(2)"
   ]
  },
  {
   "cell_type": "markdown",
   "metadata": {},
   "source": [
    "## Substitute in factor funcs"
   ]
  },
  {
   "cell_type": "code",
   "execution_count": 625,
   "metadata": {},
   "outputs": [
    {
     "data": {
      "text/plain": [
       "81225*(f_b(2, 0) + f_b(2, 1) + f_b(2, 2) + f_b(2, 3) + f_b(2, 4) + f_b(2, 5) + f_b(2, 6) + f_b(2, 7) + f_b(2, 8) + f_b(2, 9))*(f_c(2, 0) + f_c(2, 1) + f_c(2, 2) + f_c(2, 3) + f_c(2, 4) + f_c(2, 5) + f_c(2, 6) + f_c(2, 7) + f_c(2, 8) + f_c(2, 9))**2/(100*(f_b(0, 0) + f_b(0, 1) + f_b(0, 2) + f_b(0, 3) + f_b(0, 4) + f_b(0, 5) + f_b(0, 6) + f_b(0, 7) + f_b(0, 8) + f_b(0, 9))*(f_c(0, 0) + f_c(0, 1) + f_c(0, 2) + f_c(0, 3) + f_c(0, 4) + f_c(0, 5) + f_c(0, 6) + f_c(0, 7) + f_c(0, 8) + f_c(0, 9))**2 + 2025*(f_b(1, 0) + f_b(1, 1) + f_b(1, 2) + f_b(1, 3) + f_b(1, 4) + f_b(1, 5) + f_b(1, 6) + f_b(1, 7) + f_b(1, 8) + f_b(1, 9))*(f_c(1, 0) + f_c(1, 1) + f_c(1, 2) + f_c(1, 3) + f_c(1, 4) + f_c(1, 5) + f_c(1, 6) + f_c(1, 7) + f_c(1, 8) + f_c(1, 9))**2 + 81225*(f_b(2, 0) + f_b(2, 1) + f_b(2, 2) + f_b(2, 3) + f_b(2, 4) + f_b(2, 5) + f_b(2, 6) + f_b(2, 7) + f_b(2, 8) + f_b(2, 9))*(f_c(2, 0) + f_c(2, 1) + f_c(2, 2) + f_c(2, 3) + f_c(2, 4) + f_c(2, 5) + f_c(2, 6) + f_c(2, 7) + f_c(2, 8) + f_c(2, 9))**2 + 4100625*(f_b(3, 0) + f_b(3, 1) + f_b(3, 2) + f_b(3, 3) + f_b(3, 4) + f_b(3, 5) + f_b(3, 6) + f_b(3, 7) + f_b(3, 8) + f_b(3, 9))*(f_c(3, 0) + f_c(3, 1) + f_c(3, 2) + f_c(3, 3) + f_c(3, 4) + f_c(3, 5) + f_c(3, 6) + f_c(3, 7) + f_c(3, 8) + f_c(3, 9))**2 + 235100889*(f_b(4, 0) + f_b(4, 1) + f_b(4, 2) + f_b(4, 3) + f_b(4, 4) + f_b(4, 5) + f_b(4, 6) + f_b(4, 7) + f_b(4, 8) + f_b(4, 9))*(f_c(4, 0) + f_c(4, 1) + f_c(4, 2) + f_c(4, 3) + f_c(4, 4) + f_c(4, 5) + f_c(4, 6) + f_c(4, 7) + f_c(4, 8) + f_c(4, 9))**2 + 14598680625*(f_b(5, 0) + f_b(5, 1) + f_b(5, 2) + f_b(5, 3) + f_b(5, 4) + f_b(5, 5) + f_b(5, 6) + f_b(5, 7) + f_b(5, 8) + f_b(5, 9))*(f_c(5, 0) + f_c(5, 1) + f_c(5, 2) + f_c(5, 3) + f_c(5, 4) + f_c(5, 5) + f_c(5, 6) + f_c(5, 7) + f_c(5, 8) + f_c(5, 9))**2 + 957276344025*(f_b(6, 0) + f_b(6, 1) + f_b(6, 2) + f_b(6, 3) + f_b(6, 4) + f_b(6, 5) + f_b(6, 6) + f_b(6, 7) + f_b(6, 8) + f_b(6, 9))*(f_c(6, 0) + f_c(6, 1) + f_c(6, 2) + f_c(6, 3) + f_c(6, 4) + f_c(6, 5) + f_c(6, 6) + f_c(6, 7) + f_c(6, 8) + f_c(6, 9))**2 + 65293268180625*(f_b(7, 0) + f_b(7, 1) + f_b(7, 2) + f_b(7, 3) + f_b(7, 4) + f_b(7, 5) + f_b(7, 6) + f_b(7, 7) + f_b(7, 8) + f_b(7, 9))*(f_c(7, 0) + f_c(7, 1) + f_c(7, 2) + f_c(7, 3) + f_c(7, 4) + f_c(7, 5) + f_c(7, 6) + f_c(7, 7) + f_c(7, 8) + f_c(7, 9))**2 + 4587533469956889*(f_b(8, 0) + f_b(8, 1) + f_b(8, 2) + f_b(8, 3) + f_b(8, 4) + f_b(8, 5) + f_b(8, 6) + f_b(8, 7) + f_b(8, 8) + f_b(8, 9))*(f_c(8, 0) + f_c(8, 1) + f_c(8, 2) + f_c(8, 3) + f_c(8, 4) + f_c(8, 5) + f_c(8, 6) + f_c(8, 7) + f_c(8, 8) + f_c(8, 9))**2 + 329826215795850225*(f_b(9, 0) + f_b(9, 1) + f_b(9, 2) + f_b(9, 3) + f_b(9, 4) + f_b(9, 5) + f_b(9, 6) + f_b(9, 7) + f_b(9, 8) + f_b(9, 9))*(f_c(9, 0) + f_c(9, 1) + f_c(9, 2) + f_c(9, 3) + f_c(9, 4) + f_c(9, 5) + f_c(9, 6) + f_c(9, 7) + f_c(9, 8) + f_c(9, 9))**2)"
      ]
     },
     "execution_count": 625,
     "metadata": {},
     "output_type": "execute_result"
    }
   ],
   "source": [
    "x_2.marginal(2).replace(f_a.func, lambda x, y: x ** y)"
   ]
  }
 ],
 "metadata": {
  "kernelspec": {
   "display_name": "Python 3",
   "language": "python",
   "name": "python3"
  },
  "language_info": {
   "codemirror_mode": {
    "name": "ipython",
    "version": 3
   },
   "file_extension": ".py",
   "mimetype": "text/x-python",
   "name": "python",
   "nbconvert_exporter": "python",
   "pygments_lexer": "ipython3",
   "version": "3.7.1"
  }
 },
 "nbformat": 4,
 "nbformat_minor": 2
}
