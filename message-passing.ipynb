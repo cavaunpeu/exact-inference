{
 "cells": [
  {
   "cell_type": "code",
   "execution_count": 1,
   "metadata": {},
   "outputs": [],
   "source": [
    "from collections import namedtuple\n",
    "from sympy import *\n",
    "from itertools import product"
   ]
  },
  {
   "cell_type": "code",
   "execution_count": 17,
   "metadata": {},
   "outputs": [],
   "source": [
    "class Node:\n",
    "        \n",
    "    def add_neighbors(self, nbrs):\n",
    "        if not isinstance(nbrs, list):\n",
    "            nbrs = [nbrs]\n",
    "        assert all([isinstance(n, self.required_nbr_type) for n in nbrs])\n",
    "        self.neighbors.extend(nbrs)\n",
    "    \n",
    "    @property\n",
    "    def is_child(self):\n",
    "        return len(self.neighbors) == 1\n",
    "\n",
    "\n",
    "class Variable(Node):\n",
    "    \n",
    "    def __init__(self, name, vals):\n",
    "        self.name = name\n",
    "        self.neighbors = []\n",
    "        self.required_nbr_type = Factor\n",
    "        self.symbol = Symbol(name)\n",
    "        self.vals = vals\n",
    "        self.messages = set()\n",
    "        \n",
    "    def reset(self):\n",
    "        self.symbol = Symbol(self.name)\n",
    "        \n",
    "#     def marginal(self, val):\n",
    "#         if len(self.messages) != len(self.neighbors):\n",
    "#             raise(f'Variable {self.name} has not yet received all incoming messages')\n",
    "#         expr = 1\n",
    "#         for msg in self.messages:\n",
    "#             expr *= msg.expr\n",
    "#         self.symbol = val; p_tilde = expr\n",
    "#         print(expr)  # should print out an int\n",
    "#         Z = 0\n",
    "#         for v in self.vals:\n",
    "#             self.symbol = v\n",
    "#             Z += expr\n",
    "#         return p_tilde / Z\n",
    "\n",
    "\n",
    "class Factor(Node):\n",
    "    \n",
    "    def __init__(self, name):\n",
    "        self.name = name\n",
    "        self.neighbors = []\n",
    "        self.required_nbr_type = Variable\n",
    "        self._func = Function(name)\n",
    "        self.messages = set()\n",
    "        \n",
    "    def add_neighbors(self, nbrs):\n",
    "        for nbr in nbrs:\n",
    "            nbr.add_neighbors([self])\n",
    "        super().add_neighbors(nbrs)\n",
    "        \n",
    "    @property\n",
    "    def func(self):\n",
    "        return self._func(*[n.symbol for n in self.neighbors])\n",
    "    \n",
    "    \n",
    "Message = namedtuple('Message', ['expr', 'from_node', 'to_node'])"
   ]
  },
  {
   "cell_type": "code",
   "execution_count": 77,
   "metadata": {},
   "outputs": [],
   "source": [
    "g = set()\n",
    "\n",
    "var_vals = [v for v in range(10)]\n",
    "\n",
    "# Variables\n",
    "x_1 = Variable('x_1', var_vals)\n",
    "x_2 = Variable('x_2', var_vals)\n",
    "x_3 = Variable('x_3', var_vals)\n",
    "x_4 = Variable('x_4', var_vals)\n",
    "\n",
    "# Factors\n",
    "f_a = Factor('f_a')\n",
    "f_b = Factor('f_b')\n",
    "f_c = Factor('f_c')\n",
    "\n",
    "# Define root\n",
    "root = x_3\n",
    "\n",
    "# Define factors\n",
    "f_c.add_neighbors([x_2, x_4])\n",
    "f_a.add_neighbors([x_1, x_2])\n",
    "f_b.add_neighbors([x_2, x_3])\n",
    "\n",
    "# Add factors to graph\n",
    "g.add(f_a)\n",
    "g.add(f_b)\n",
    "g.add(f_c)\n",
    "\n",
    "# Enumerate all nodes\n",
    "nodes = set()\n",
    "for f in g:\n",
    "    nodes = nodes | set([f] + f.neighbors)"
   ]
  },
  {
   "cell_type": "code",
   "execution_count": 78,
   "metadata": {},
   "outputs": [],
   "source": [
    "def compute_message(from_node, to_node):\n",
    "    if from_node.is_child:\n",
    "        if isinstance(from_node, Factor):\n",
    "            return Message(from_node.func, from_node, to_node)\n",
    "        else:\n",
    "            return Message(1, from_node, to_node)\n",
    "    expr = compute_product_incoming_msgs(from_node, to_node)\n",
    "    if isinstance(from_node, Factor):\n",
    "        expr *= compute_factor_summation(from_node, to_node)\n",
    "    return Message(expr, from_node, to_node)\n",
    "\n",
    "        \n",
    "def compute_factor_summation(from_node, to_node):\n",
    "    sum_over = [n for n in from_node.neighbors if n.name != to_node.name]\n",
    "    expr = 0\n",
    "    for vals in product(*[n.vals for n in sum_over]):\n",
    "        for var, val in zip(sum_over, vals):\n",
    "            var.symbol = val\n",
    "        expr += from_node.func\n",
    "    for var in sum_over:\n",
    "        var.reset()\n",
    "    return expr\n",
    "\n",
    "\n",
    "def compute_product_incoming_msgs(from_node, to_node):\n",
    "    expr = 1\n",
    "    for msg in filter(lambda m: m.to_node == from_node, from_node.messages):\n",
    "        expr *= msg.expr\n",
    "    return expr"
   ]
  },
  {
   "cell_type": "markdown",
   "metadata": {},
   "source": [
    "# Children to root"
   ]
  },
  {
   "cell_type": "code",
   "execution_count": 79,
   "metadata": {},
   "outputs": [],
   "source": [
    "queue = [n for n in nodes if n.is_child and n != root]\n",
    "visited = set()\n",
    "\n",
    "while queue and visited != nodes:\n",
    "    node = queue.pop(0)\n",
    "    for nbr in filter(lambda n: n not in visited, node.neighbors):\n",
    "        msg = compute_message(from_node=node, to_node=nbr)\n",
    "        nbr.messages.add(msg)\n",
    "        if nbr not in queue:\n",
    "            queue.append(nbr)\n",
    "    visited.add(node)"
   ]
  },
  {
   "cell_type": "markdown",
   "metadata": {},
   "source": [
    "# Root to children"
   ]
  },
  {
   "cell_type": "code",
   "execution_count": 92,
   "metadata": {},
   "outputs": [],
   "source": [
    "# implement BFS"
   ]
  },
  {
   "cell_type": "code",
   "execution_count": null,
   "metadata": {},
   "outputs": [],
   "source": []
  }
 ],
 "metadata": {
  "kernelspec": {
   "display_name": "Python 3",
   "language": "python",
   "name": "python3"
  },
  "language_info": {
   "codemirror_mode": {
    "name": "ipython",
    "version": 3
   },
   "file_extension": ".py",
   "mimetype": "text/x-python",
   "name": "python",
   "nbconvert_exporter": "python",
   "pygments_lexer": "ipython3",
   "version": "3.7.1"
  }
 },
 "nbformat": 4,
 "nbformat_minor": 2
}
